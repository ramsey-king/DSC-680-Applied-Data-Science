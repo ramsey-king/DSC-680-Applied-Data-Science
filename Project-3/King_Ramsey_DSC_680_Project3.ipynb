{
 "cells": [
  {
   "cell_type": "code",
   "execution_count": 1,
   "metadata": {
    "collapsed": true
   },
   "outputs": [],
   "source": [
    "# packages\n",
    "import pandas as pd\n",
    "import numpy as np\n",
    "import matplotlib\n",
    "import matplotlib.pyplot as plt"
   ]
  },
  {
   "cell_type": "code",
   "execution_count": 2,
   "metadata": {
    "pycharm": {
     "name": "#%%\n"
    }
   },
   "outputs": [
    {
     "data": {
      "text/plain": "          PLAYER_ID  LEAGUE_ID       TEAM_ID    PLAYER_AGE            GP  \\\ncount  2.847500e+04    28475.0  2.847500e+04  28475.000000  28475.000000   \nmean   1.910828e+05        0.0  1.473619e+09     27.045724     49.365654   \nstd    4.201317e+05        0.0  4.493150e+08      4.170652     26.503202   \nmin    2.000000e+00        0.0  0.000000e+00     15.000000      1.000000   \n25%    1.737000e+03        0.0  1.610613e+09     24.000000     26.000000   \n50%    7.696000e+04        0.0  1.610613e+09     26.000000     55.000000   \n75%    1.012535e+05        0.0  1.610613e+09     30.000000     74.000000   \nmax    1.630698e+06        0.0  1.610613e+09     94.000000     88.000000   \n\n                 GS           MIN           FGM           FGA        FG_PCT  \\\ncount  21993.000000  27706.000000  28475.000000  28475.000000  28461.000000   \nmean      22.917428   1163.322710    188.724109    417.496822      0.427675   \nstd       28.152090    929.837939    184.376258    390.551268      0.104665   \nmin        0.000000      0.000000      0.000000      0.000000      0.000000   \n25%        0.000000    305.000000     38.000000     93.000000      0.389000   \n50%        8.000000    995.000000    134.000000    306.000000      0.438000   \n75%       43.000000   1898.000000    287.000000    640.000000      0.480000   \nmax       83.000000   3882.000000   1597.000000   3159.000000      1.000000   \n\n       ...          OREB          DREB           REB           AST  \\\ncount  ...  24312.000000  24312.000000  27818.000000  28475.000000   \nmean   ...     58.590655    144.323626    216.124955    110.821387   \nstd    ...     65.387191    143.939275    223.114425    132.956215   \nmin    ...      0.000000      0.000000      0.000000      0.000000   \n25%    ...     11.000000     32.000000     47.000000     18.000000   \n50%    ...     35.000000    104.000000    152.000000     64.000000   \n75%    ...     84.000000    209.000000    308.000000    154.000000   \nmax    ...    587.000000   1111.000000   2149.000000   1164.000000   \n\n                STL           BLK           TOV            PF           PTS  \\\ncount  24312.000000  24312.000000  23160.000000  28475.000000  28475.000000   \nmean      38.235480     23.512298     70.282988    110.944021    494.931835   \nstd       37.572835     35.407875     66.358784     83.244617    484.922546   \nmin        0.000000      0.000000      0.000000      0.000000      0.000000   \n25%        8.000000      3.000000     16.000000     35.000000    100.000000   \n50%       28.000000     11.000000     51.000000    101.000000    349.000000   \n75%       57.000000     28.000000    107.000000    174.000000    755.500000   \nmax      301.000000    456.000000    464.000000    386.000000   4029.000000   \n\n       TRADE_SEASON  \ncount  28475.000000  \nmean       0.175944  \nstd        0.380779  \nmin        0.000000  \n25%        0.000000  \n50%        0.000000  \n75%        0.000000  \nmax        1.000000  \n\n[8 rows x 26 columns]",
      "text/html": "<div>\n<style scoped>\n    .dataframe tbody tr th:only-of-type {\n        vertical-align: middle;\n    }\n\n    .dataframe tbody tr th {\n        vertical-align: top;\n    }\n\n    .dataframe thead th {\n        text-align: right;\n    }\n</style>\n<table border=\"1\" class=\"dataframe\">\n  <thead>\n    <tr style=\"text-align: right;\">\n      <th></th>\n      <th>PLAYER_ID</th>\n      <th>LEAGUE_ID</th>\n      <th>TEAM_ID</th>\n      <th>PLAYER_AGE</th>\n      <th>GP</th>\n      <th>GS</th>\n      <th>MIN</th>\n      <th>FGM</th>\n      <th>FGA</th>\n      <th>FG_PCT</th>\n      <th>...</th>\n      <th>OREB</th>\n      <th>DREB</th>\n      <th>REB</th>\n      <th>AST</th>\n      <th>STL</th>\n      <th>BLK</th>\n      <th>TOV</th>\n      <th>PF</th>\n      <th>PTS</th>\n      <th>TRADE_SEASON</th>\n    </tr>\n  </thead>\n  <tbody>\n    <tr>\n      <th>count</th>\n      <td>2.847500e+04</td>\n      <td>28475.0</td>\n      <td>2.847500e+04</td>\n      <td>28475.000000</td>\n      <td>28475.000000</td>\n      <td>21993.000000</td>\n      <td>27706.000000</td>\n      <td>28475.000000</td>\n      <td>28475.000000</td>\n      <td>28461.000000</td>\n      <td>...</td>\n      <td>24312.000000</td>\n      <td>24312.000000</td>\n      <td>27818.000000</td>\n      <td>28475.000000</td>\n      <td>24312.000000</td>\n      <td>24312.000000</td>\n      <td>23160.000000</td>\n      <td>28475.000000</td>\n      <td>28475.000000</td>\n      <td>28475.000000</td>\n    </tr>\n    <tr>\n      <th>mean</th>\n      <td>1.910828e+05</td>\n      <td>0.0</td>\n      <td>1.473619e+09</td>\n      <td>27.045724</td>\n      <td>49.365654</td>\n      <td>22.917428</td>\n      <td>1163.322710</td>\n      <td>188.724109</td>\n      <td>417.496822</td>\n      <td>0.427675</td>\n      <td>...</td>\n      <td>58.590655</td>\n      <td>144.323626</td>\n      <td>216.124955</td>\n      <td>110.821387</td>\n      <td>38.235480</td>\n      <td>23.512298</td>\n      <td>70.282988</td>\n      <td>110.944021</td>\n      <td>494.931835</td>\n      <td>0.175944</td>\n    </tr>\n    <tr>\n      <th>std</th>\n      <td>4.201317e+05</td>\n      <td>0.0</td>\n      <td>4.493150e+08</td>\n      <td>4.170652</td>\n      <td>26.503202</td>\n      <td>28.152090</td>\n      <td>929.837939</td>\n      <td>184.376258</td>\n      <td>390.551268</td>\n      <td>0.104665</td>\n      <td>...</td>\n      <td>65.387191</td>\n      <td>143.939275</td>\n      <td>223.114425</td>\n      <td>132.956215</td>\n      <td>37.572835</td>\n      <td>35.407875</td>\n      <td>66.358784</td>\n      <td>83.244617</td>\n      <td>484.922546</td>\n      <td>0.380779</td>\n    </tr>\n    <tr>\n      <th>min</th>\n      <td>2.000000e+00</td>\n      <td>0.0</td>\n      <td>0.000000e+00</td>\n      <td>15.000000</td>\n      <td>1.000000</td>\n      <td>0.000000</td>\n      <td>0.000000</td>\n      <td>0.000000</td>\n      <td>0.000000</td>\n      <td>0.000000</td>\n      <td>...</td>\n      <td>0.000000</td>\n      <td>0.000000</td>\n      <td>0.000000</td>\n      <td>0.000000</td>\n      <td>0.000000</td>\n      <td>0.000000</td>\n      <td>0.000000</td>\n      <td>0.000000</td>\n      <td>0.000000</td>\n      <td>0.000000</td>\n    </tr>\n    <tr>\n      <th>25%</th>\n      <td>1.737000e+03</td>\n      <td>0.0</td>\n      <td>1.610613e+09</td>\n      <td>24.000000</td>\n      <td>26.000000</td>\n      <td>0.000000</td>\n      <td>305.000000</td>\n      <td>38.000000</td>\n      <td>93.000000</td>\n      <td>0.389000</td>\n      <td>...</td>\n      <td>11.000000</td>\n      <td>32.000000</td>\n      <td>47.000000</td>\n      <td>18.000000</td>\n      <td>8.000000</td>\n      <td>3.000000</td>\n      <td>16.000000</td>\n      <td>35.000000</td>\n      <td>100.000000</td>\n      <td>0.000000</td>\n    </tr>\n    <tr>\n      <th>50%</th>\n      <td>7.696000e+04</td>\n      <td>0.0</td>\n      <td>1.610613e+09</td>\n      <td>26.000000</td>\n      <td>55.000000</td>\n      <td>8.000000</td>\n      <td>995.000000</td>\n      <td>134.000000</td>\n      <td>306.000000</td>\n      <td>0.438000</td>\n      <td>...</td>\n      <td>35.000000</td>\n      <td>104.000000</td>\n      <td>152.000000</td>\n      <td>64.000000</td>\n      <td>28.000000</td>\n      <td>11.000000</td>\n      <td>51.000000</td>\n      <td>101.000000</td>\n      <td>349.000000</td>\n      <td>0.000000</td>\n    </tr>\n    <tr>\n      <th>75%</th>\n      <td>1.012535e+05</td>\n      <td>0.0</td>\n      <td>1.610613e+09</td>\n      <td>30.000000</td>\n      <td>74.000000</td>\n      <td>43.000000</td>\n      <td>1898.000000</td>\n      <td>287.000000</td>\n      <td>640.000000</td>\n      <td>0.480000</td>\n      <td>...</td>\n      <td>84.000000</td>\n      <td>209.000000</td>\n      <td>308.000000</td>\n      <td>154.000000</td>\n      <td>57.000000</td>\n      <td>28.000000</td>\n      <td>107.000000</td>\n      <td>174.000000</td>\n      <td>755.500000</td>\n      <td>0.000000</td>\n    </tr>\n    <tr>\n      <th>max</th>\n      <td>1.630698e+06</td>\n      <td>0.0</td>\n      <td>1.610613e+09</td>\n      <td>94.000000</td>\n      <td>88.000000</td>\n      <td>83.000000</td>\n      <td>3882.000000</td>\n      <td>1597.000000</td>\n      <td>3159.000000</td>\n      <td>1.000000</td>\n      <td>...</td>\n      <td>587.000000</td>\n      <td>1111.000000</td>\n      <td>2149.000000</td>\n      <td>1164.000000</td>\n      <td>301.000000</td>\n      <td>456.000000</td>\n      <td>464.000000</td>\n      <td>386.000000</td>\n      <td>4029.000000</td>\n      <td>1.000000</td>\n    </tr>\n  </tbody>\n</table>\n<p>8 rows × 26 columns</p>\n</div>"
     },
     "execution_count": 2,
     "metadata": {},
     "output_type": "execute_result"
    }
   ],
   "source": [
    "df = pd.read_csv('nba_player_dataset.csv')\n",
    "df.describe()"
   ]
  },
  {
   "cell_type": "code",
   "execution_count": 3,
   "metadata": {
    "pycharm": {
     "name": "#%%\n"
    }
   },
   "outputs": [
    {
     "name": "stdout",
     "output_type": "stream",
     "text": [
      "<class 'pandas.core.frame.DataFrame'>\n",
      "RangeIndex: 28475 entries, 0 to 28474\n",
      "Data columns (total 28 columns):\n",
      " #   Column             Non-Null Count  Dtype  \n",
      "---  ------             --------------  -----  \n",
      " 0   PLAYER_ID          28475 non-null  int64  \n",
      " 1   SEASON_ID          28475 non-null  object \n",
      " 2   LEAGUE_ID          28475 non-null  int64  \n",
      " 3   TEAM_ID            28475 non-null  int64  \n",
      " 4   TEAM_ABBREVIATION  28466 non-null  object \n",
      " 5   PLAYER_AGE         28475 non-null  int64  \n",
      " 6   GP                 28475 non-null  int64  \n",
      " 7   GS                 21993 non-null  float64\n",
      " 8   MIN                27706 non-null  float64\n",
      " 9   FGM                28475 non-null  int64  \n",
      " 10  FGA                28475 non-null  int64  \n",
      " 11  FG_PCT             28461 non-null  float64\n",
      " 12  FG3M               22442 non-null  float64\n",
      " 13  FG3A               22442 non-null  float64\n",
      " 14  FG3_PCT            22220 non-null  float64\n",
      " 15  FTM                28475 non-null  int64  \n",
      " 16  FTA                28475 non-null  int64  \n",
      " 17  FT_PCT             28356 non-null  float64\n",
      " 18  OREB               24312 non-null  float64\n",
      " 19  DREB               24312 non-null  float64\n",
      " 20  REB                27818 non-null  float64\n",
      " 21  AST                28475 non-null  int64  \n",
      " 22  STL                24312 non-null  float64\n",
      " 23  BLK                24312 non-null  float64\n",
      " 24  TOV                23160 non-null  float64\n",
      " 25  PF                 28475 non-null  int64  \n",
      " 26  PTS                28475 non-null  int64  \n",
      " 27  TRADE_SEASON       28475 non-null  int64  \n",
      "dtypes: float64(13), int64(13), object(2)\n",
      "memory usage: 6.1+ MB\n"
     ]
    }
   ],
   "source": [
    "df.info()"
   ]
  },
  {
   "cell_type": "code",
   "execution_count": 4,
   "outputs": [],
   "source": [
    "from nba_api.stats.static import players\n",
    "import csv\n",
    "player_list = players.get_players()\n",
    "keys = player_list[0].keys()\n",
    "with open(\"player_list.csv\", 'w', newline='') as file:\n",
    "    csvwriter = csv.DictWriter(file, keys)\n",
    "    csvwriter.writeheader()\n",
    "    csvwriter.writerows(player_list)\n",
    "\n"
   ],
   "metadata": {
    "collapsed": false,
    "pycharm": {
     "name": "#%%\n"
    }
   }
  },
  {
   "cell_type": "code",
   "execution_count": 5,
   "outputs": [],
   "source": [
    "# Add a year column to coincide with the all star season year\n",
    "def all_star_year_apply(string):\n",
    "    if string[0:4] == '1999':\n",
    "        return 2000\n",
    "    else:\n",
    "        return int(string[0:3]+string[-1])\n",
    "\n",
    "df['ALL_STAR_SEASON_YEAR'] = df['SEASON_ID'].apply(all_star_year_apply)\n",
    "# df['ALL_STAR_YEAR']\n"
   ],
   "metadata": {
    "collapsed": false,
    "pycharm": {
     "name": "#%%\n"
    }
   }
  },
  {
   "cell_type": "code",
   "execution_count": 6,
   "outputs": [
    {
     "data": {
      "text/plain": "    PLAYER_ID SEASON_ID  LEAGUE_ID     TEAM_ID TEAM_ABBREVIATION  PLAYER_AGE  \\\n0       76001   1990-91          0  1610612757               POR          23   \n1       76001   1991-92          0  1610612757               POR          24   \n2       76001   1992-93          0  1610612749               MIL          25   \n3       76001   1992-93          0  1610612738               BOS          25   \n4       76001   1992-93          0           0               TOT          25   \n5       76001   1993-94          0  1610612738               BOS          26   \n6       76001   1994-95          0  1610612758               SAC          27   \n7       76001   1994-95          0  1610612755               PHL          27   \n8       76001   1994-95          0           0               TOT          27   \n9       76002   1968-69          0  1610612749               MIL          23   \n10      76002   1968-69          0  1610612758               CIN          23   \n11      76002   1968-69          0           0               TOT          23   \n12      76002   1969-70          0  1610612749               MIL          24   \n13      76002   1970-71          0  1610612760               SEA          25   \n14      76002   1971-72          0  1610612760               SEA          26   \n\n    GP    GS     MIN  FGM  ...   TOV   PF  PTS  TRADE_SEASON  \\\n0   43   0.0   290.0   55  ...  22.0   39  135             0   \n1   71   1.0   934.0  178  ...  66.0  132  432             0   \n2   12   0.0   159.0   26  ...  13.0   24   64             1   \n3   63  52.0  1152.0  219  ...  84.0  165  514             1   \n4   75  52.0  1311.0  245  ...  97.0  189  578             0   \n5   13   0.0   159.0   24  ...  17.0   20   64             0   \n6   51   0.0   476.0  117  ...  40.0  102  254             1   \n7    3   0.0    30.0    1  ...   5.0    2    2             1   \n8   54   0.0   506.0  118  ...  45.0  104  256             0   \n9   29   NaN   837.0  126  ...   NaN   98  320             1   \n10  20   NaN   108.0   18  ...   NaN   17   38             1   \n11  49   NaN   945.0  144  ...   NaN  115  358             0   \n12  80   NaN  1637.0  237  ...   NaN  167  593             0   \n13  61   NaN  1276.0  263  ...   NaN  118  665             0   \n14  58   NaN  1780.0  322  ...   NaN  178  798             0   \n\n    ALL_STAR_SEASON_YEAR     id        full_name  first_name   last_name  \\\n0                   1991  76001   Alaa Abdelnaby        Alaa   Abdelnaby   \n1                   1992  76001   Alaa Abdelnaby        Alaa   Abdelnaby   \n2                   1993  76001   Alaa Abdelnaby        Alaa   Abdelnaby   \n3                   1993  76001   Alaa Abdelnaby        Alaa   Abdelnaby   \n4                   1993  76001   Alaa Abdelnaby        Alaa   Abdelnaby   \n5                   1994  76001   Alaa Abdelnaby        Alaa   Abdelnaby   \n6                   1995  76001   Alaa Abdelnaby        Alaa   Abdelnaby   \n7                   1995  76001   Alaa Abdelnaby        Alaa   Abdelnaby   \n8                   1995  76001   Alaa Abdelnaby        Alaa   Abdelnaby   \n9                   1969  76002  Zaid Abdul-Aziz        Zaid  Abdul-Aziz   \n10                  1969  76002  Zaid Abdul-Aziz        Zaid  Abdul-Aziz   \n11                  1969  76002  Zaid Abdul-Aziz        Zaid  Abdul-Aziz   \n12                  1960  76002  Zaid Abdul-Aziz        Zaid  Abdul-Aziz   \n13                  1971  76002  Zaid Abdul-Aziz        Zaid  Abdul-Aziz   \n14                  1972  76002  Zaid Abdul-Aziz        Zaid  Abdul-Aziz   \n\n    is_active  \n0       False  \n1       False  \n2       False  \n3       False  \n4       False  \n5       False  \n6       False  \n7       False  \n8       False  \n9       False  \n10      False  \n11      False  \n12      False  \n13      False  \n14      False  \n\n[15 rows x 34 columns]",
      "text/html": "<div>\n<style scoped>\n    .dataframe tbody tr th:only-of-type {\n        vertical-align: middle;\n    }\n\n    .dataframe tbody tr th {\n        vertical-align: top;\n    }\n\n    .dataframe thead th {\n        text-align: right;\n    }\n</style>\n<table border=\"1\" class=\"dataframe\">\n  <thead>\n    <tr style=\"text-align: right;\">\n      <th></th>\n      <th>PLAYER_ID</th>\n      <th>SEASON_ID</th>\n      <th>LEAGUE_ID</th>\n      <th>TEAM_ID</th>\n      <th>TEAM_ABBREVIATION</th>\n      <th>PLAYER_AGE</th>\n      <th>GP</th>\n      <th>GS</th>\n      <th>MIN</th>\n      <th>FGM</th>\n      <th>...</th>\n      <th>TOV</th>\n      <th>PF</th>\n      <th>PTS</th>\n      <th>TRADE_SEASON</th>\n      <th>ALL_STAR_SEASON_YEAR</th>\n      <th>id</th>\n      <th>full_name</th>\n      <th>first_name</th>\n      <th>last_name</th>\n      <th>is_active</th>\n    </tr>\n  </thead>\n  <tbody>\n    <tr>\n      <th>0</th>\n      <td>76001</td>\n      <td>1990-91</td>\n      <td>0</td>\n      <td>1610612757</td>\n      <td>POR</td>\n      <td>23</td>\n      <td>43</td>\n      <td>0.0</td>\n      <td>290.0</td>\n      <td>55</td>\n      <td>...</td>\n      <td>22.0</td>\n      <td>39</td>\n      <td>135</td>\n      <td>0</td>\n      <td>1991</td>\n      <td>76001</td>\n      <td>Alaa Abdelnaby</td>\n      <td>Alaa</td>\n      <td>Abdelnaby</td>\n      <td>False</td>\n    </tr>\n    <tr>\n      <th>1</th>\n      <td>76001</td>\n      <td>1991-92</td>\n      <td>0</td>\n      <td>1610612757</td>\n      <td>POR</td>\n      <td>24</td>\n      <td>71</td>\n      <td>1.0</td>\n      <td>934.0</td>\n      <td>178</td>\n      <td>...</td>\n      <td>66.0</td>\n      <td>132</td>\n      <td>432</td>\n      <td>0</td>\n      <td>1992</td>\n      <td>76001</td>\n      <td>Alaa Abdelnaby</td>\n      <td>Alaa</td>\n      <td>Abdelnaby</td>\n      <td>False</td>\n    </tr>\n    <tr>\n      <th>2</th>\n      <td>76001</td>\n      <td>1992-93</td>\n      <td>0</td>\n      <td>1610612749</td>\n      <td>MIL</td>\n      <td>25</td>\n      <td>12</td>\n      <td>0.0</td>\n      <td>159.0</td>\n      <td>26</td>\n      <td>...</td>\n      <td>13.0</td>\n      <td>24</td>\n      <td>64</td>\n      <td>1</td>\n      <td>1993</td>\n      <td>76001</td>\n      <td>Alaa Abdelnaby</td>\n      <td>Alaa</td>\n      <td>Abdelnaby</td>\n      <td>False</td>\n    </tr>\n    <tr>\n      <th>3</th>\n      <td>76001</td>\n      <td>1992-93</td>\n      <td>0</td>\n      <td>1610612738</td>\n      <td>BOS</td>\n      <td>25</td>\n      <td>63</td>\n      <td>52.0</td>\n      <td>1152.0</td>\n      <td>219</td>\n      <td>...</td>\n      <td>84.0</td>\n      <td>165</td>\n      <td>514</td>\n      <td>1</td>\n      <td>1993</td>\n      <td>76001</td>\n      <td>Alaa Abdelnaby</td>\n      <td>Alaa</td>\n      <td>Abdelnaby</td>\n      <td>False</td>\n    </tr>\n    <tr>\n      <th>4</th>\n      <td>76001</td>\n      <td>1992-93</td>\n      <td>0</td>\n      <td>0</td>\n      <td>TOT</td>\n      <td>25</td>\n      <td>75</td>\n      <td>52.0</td>\n      <td>1311.0</td>\n      <td>245</td>\n      <td>...</td>\n      <td>97.0</td>\n      <td>189</td>\n      <td>578</td>\n      <td>0</td>\n      <td>1993</td>\n      <td>76001</td>\n      <td>Alaa Abdelnaby</td>\n      <td>Alaa</td>\n      <td>Abdelnaby</td>\n      <td>False</td>\n    </tr>\n    <tr>\n      <th>5</th>\n      <td>76001</td>\n      <td>1993-94</td>\n      <td>0</td>\n      <td>1610612738</td>\n      <td>BOS</td>\n      <td>26</td>\n      <td>13</td>\n      <td>0.0</td>\n      <td>159.0</td>\n      <td>24</td>\n      <td>...</td>\n      <td>17.0</td>\n      <td>20</td>\n      <td>64</td>\n      <td>0</td>\n      <td>1994</td>\n      <td>76001</td>\n      <td>Alaa Abdelnaby</td>\n      <td>Alaa</td>\n      <td>Abdelnaby</td>\n      <td>False</td>\n    </tr>\n    <tr>\n      <th>6</th>\n      <td>76001</td>\n      <td>1994-95</td>\n      <td>0</td>\n      <td>1610612758</td>\n      <td>SAC</td>\n      <td>27</td>\n      <td>51</td>\n      <td>0.0</td>\n      <td>476.0</td>\n      <td>117</td>\n      <td>...</td>\n      <td>40.0</td>\n      <td>102</td>\n      <td>254</td>\n      <td>1</td>\n      <td>1995</td>\n      <td>76001</td>\n      <td>Alaa Abdelnaby</td>\n      <td>Alaa</td>\n      <td>Abdelnaby</td>\n      <td>False</td>\n    </tr>\n    <tr>\n      <th>7</th>\n      <td>76001</td>\n      <td>1994-95</td>\n      <td>0</td>\n      <td>1610612755</td>\n      <td>PHL</td>\n      <td>27</td>\n      <td>3</td>\n      <td>0.0</td>\n      <td>30.0</td>\n      <td>1</td>\n      <td>...</td>\n      <td>5.0</td>\n      <td>2</td>\n      <td>2</td>\n      <td>1</td>\n      <td>1995</td>\n      <td>76001</td>\n      <td>Alaa Abdelnaby</td>\n      <td>Alaa</td>\n      <td>Abdelnaby</td>\n      <td>False</td>\n    </tr>\n    <tr>\n      <th>8</th>\n      <td>76001</td>\n      <td>1994-95</td>\n      <td>0</td>\n      <td>0</td>\n      <td>TOT</td>\n      <td>27</td>\n      <td>54</td>\n      <td>0.0</td>\n      <td>506.0</td>\n      <td>118</td>\n      <td>...</td>\n      <td>45.0</td>\n      <td>104</td>\n      <td>256</td>\n      <td>0</td>\n      <td>1995</td>\n      <td>76001</td>\n      <td>Alaa Abdelnaby</td>\n      <td>Alaa</td>\n      <td>Abdelnaby</td>\n      <td>False</td>\n    </tr>\n    <tr>\n      <th>9</th>\n      <td>76002</td>\n      <td>1968-69</td>\n      <td>0</td>\n      <td>1610612749</td>\n      <td>MIL</td>\n      <td>23</td>\n      <td>29</td>\n      <td>NaN</td>\n      <td>837.0</td>\n      <td>126</td>\n      <td>...</td>\n      <td>NaN</td>\n      <td>98</td>\n      <td>320</td>\n      <td>1</td>\n      <td>1969</td>\n      <td>76002</td>\n      <td>Zaid Abdul-Aziz</td>\n      <td>Zaid</td>\n      <td>Abdul-Aziz</td>\n      <td>False</td>\n    </tr>\n    <tr>\n      <th>10</th>\n      <td>76002</td>\n      <td>1968-69</td>\n      <td>0</td>\n      <td>1610612758</td>\n      <td>CIN</td>\n      <td>23</td>\n      <td>20</td>\n      <td>NaN</td>\n      <td>108.0</td>\n      <td>18</td>\n      <td>...</td>\n      <td>NaN</td>\n      <td>17</td>\n      <td>38</td>\n      <td>1</td>\n      <td>1969</td>\n      <td>76002</td>\n      <td>Zaid Abdul-Aziz</td>\n      <td>Zaid</td>\n      <td>Abdul-Aziz</td>\n      <td>False</td>\n    </tr>\n    <tr>\n      <th>11</th>\n      <td>76002</td>\n      <td>1968-69</td>\n      <td>0</td>\n      <td>0</td>\n      <td>TOT</td>\n      <td>23</td>\n      <td>49</td>\n      <td>NaN</td>\n      <td>945.0</td>\n      <td>144</td>\n      <td>...</td>\n      <td>NaN</td>\n      <td>115</td>\n      <td>358</td>\n      <td>0</td>\n      <td>1969</td>\n      <td>76002</td>\n      <td>Zaid Abdul-Aziz</td>\n      <td>Zaid</td>\n      <td>Abdul-Aziz</td>\n      <td>False</td>\n    </tr>\n    <tr>\n      <th>12</th>\n      <td>76002</td>\n      <td>1969-70</td>\n      <td>0</td>\n      <td>1610612749</td>\n      <td>MIL</td>\n      <td>24</td>\n      <td>80</td>\n      <td>NaN</td>\n      <td>1637.0</td>\n      <td>237</td>\n      <td>...</td>\n      <td>NaN</td>\n      <td>167</td>\n      <td>593</td>\n      <td>0</td>\n      <td>1960</td>\n      <td>76002</td>\n      <td>Zaid Abdul-Aziz</td>\n      <td>Zaid</td>\n      <td>Abdul-Aziz</td>\n      <td>False</td>\n    </tr>\n    <tr>\n      <th>13</th>\n      <td>76002</td>\n      <td>1970-71</td>\n      <td>0</td>\n      <td>1610612760</td>\n      <td>SEA</td>\n      <td>25</td>\n      <td>61</td>\n      <td>NaN</td>\n      <td>1276.0</td>\n      <td>263</td>\n      <td>...</td>\n      <td>NaN</td>\n      <td>118</td>\n      <td>665</td>\n      <td>0</td>\n      <td>1971</td>\n      <td>76002</td>\n      <td>Zaid Abdul-Aziz</td>\n      <td>Zaid</td>\n      <td>Abdul-Aziz</td>\n      <td>False</td>\n    </tr>\n    <tr>\n      <th>14</th>\n      <td>76002</td>\n      <td>1971-72</td>\n      <td>0</td>\n      <td>1610612760</td>\n      <td>SEA</td>\n      <td>26</td>\n      <td>58</td>\n      <td>NaN</td>\n      <td>1780.0</td>\n      <td>322</td>\n      <td>...</td>\n      <td>NaN</td>\n      <td>178</td>\n      <td>798</td>\n      <td>0</td>\n      <td>1972</td>\n      <td>76002</td>\n      <td>Zaid Abdul-Aziz</td>\n      <td>Zaid</td>\n      <td>Abdul-Aziz</td>\n      <td>False</td>\n    </tr>\n  </tbody>\n</table>\n<p>15 rows × 34 columns</p>\n</div>"
     },
     "execution_count": 6,
     "metadata": {},
     "output_type": "execute_result"
    }
   ],
   "source": [
    "# add player_list columns to the nba_player_dataset\n",
    "\n",
    "player_list_df = pd.read_csv('player_list.csv')\n",
    "\n",
    "df = pd.merge(df, player_list_df,how='left', left_on='PLAYER_ID', right_on='id')\n",
    "df.head(15)"
   ],
   "metadata": {
    "collapsed": false,
    "pycharm": {
     "name": "#%%\n"
    }
   }
  },
  {
   "cell_type": "code",
   "execution_count": 7,
   "outputs": [
    {
     "data": {
      "text/plain": "    PLAYER_ID SEASON_ID  LEAGUE_ID     TEAM_ID TEAM_ABBREVIATION  PLAYER_AGE  \\\n0       76001   1990-91          0  1610612757               POR          23   \n1       76001   1991-92          0  1610612757               POR          24   \n2       76001   1992-93          0  1610612749               MIL          25   \n3       76001   1992-93          0  1610612738               BOS          25   \n4       76001   1992-93          0           0               TOT          25   \n5       76001   1993-94          0  1610612738               BOS          26   \n6       76001   1994-95          0  1610612758               SAC          27   \n7       76001   1994-95          0  1610612755               PHL          27   \n8       76001   1994-95          0           0               TOT          27   \n9       76002   1968-69          0  1610612749               MIL          23   \n10      76002   1968-69          0  1610612758               CIN          23   \n11      76002   1968-69          0           0               TOT          23   \n12      76002   1969-70          0  1610612749               MIL          24   \n13      76002   1970-71          0  1610612760               SEA          25   \n14      76002   1971-72          0  1610612760               SEA          26   \n\n    GP    GS     MIN  FGM  ...     id        full_name  first_name  \\\n0   43   0.0   290.0   55  ...  76001   Alaa Abdelnaby        Alaa   \n1   71   1.0   934.0  178  ...  76001   Alaa Abdelnaby        Alaa   \n2   12   0.0   159.0   26  ...  76001   Alaa Abdelnaby        Alaa   \n3   63  52.0  1152.0  219  ...  76001   Alaa Abdelnaby        Alaa   \n4   75  52.0  1311.0  245  ...  76001   Alaa Abdelnaby        Alaa   \n5   13   0.0   159.0   24  ...  76001   Alaa Abdelnaby        Alaa   \n6   51   0.0   476.0  117  ...  76001   Alaa Abdelnaby        Alaa   \n7    3   0.0    30.0    1  ...  76001   Alaa Abdelnaby        Alaa   \n8   54   0.0   506.0  118  ...  76001   Alaa Abdelnaby        Alaa   \n9   29   NaN   837.0  126  ...  76002  Zaid Abdul-Aziz        Zaid   \n10  20   NaN   108.0   18  ...  76002  Zaid Abdul-Aziz        Zaid   \n11  49   NaN   945.0  144  ...  76002  Zaid Abdul-Aziz        Zaid   \n12  80   NaN  1637.0  237  ...  76002  Zaid Abdul-Aziz        Zaid   \n13  61   NaN  1276.0  263  ...  76002  Zaid Abdul-Aziz        Zaid   \n14  58   NaN  1780.0  322  ...  76002  Zaid Abdul-Aziz        Zaid   \n\n     last_name  is_active  ALL_STAR_GAME_YEAR  PLAYER  TEAM  FIRST_NAME  \\\n0    Abdelnaby      False                 NaN     NaN   NaN         NaN   \n1    Abdelnaby      False                 NaN     NaN   NaN         NaN   \n2    Abdelnaby      False                 NaN     NaN   NaN         NaN   \n3    Abdelnaby      False                 NaN     NaN   NaN         NaN   \n4    Abdelnaby      False                 NaN     NaN   NaN         NaN   \n5    Abdelnaby      False                 NaN     NaN   NaN         NaN   \n6    Abdelnaby      False                 NaN     NaN   NaN         NaN   \n7    Abdelnaby      False                 NaN     NaN   NaN         NaN   \n8    Abdelnaby      False                 NaN     NaN   NaN         NaN   \n9   Abdul-Aziz      False                 NaN     NaN   NaN         NaN   \n10  Abdul-Aziz      False                 NaN     NaN   NaN         NaN   \n11  Abdul-Aziz      False                 NaN     NaN   NaN         NaN   \n12  Abdul-Aziz      False                 NaN     NaN   NaN         NaN   \n13  Abdul-Aziz      False                 NaN     NaN   NaN         NaN   \n14  Abdul-Aziz      False                 NaN     NaN   NaN         NaN   \n\n    LAST_NAME  \n0         NaN  \n1         NaN  \n2         NaN  \n3         NaN  \n4         NaN  \n5         NaN  \n6         NaN  \n7         NaN  \n8         NaN  \n9         NaN  \n10        NaN  \n11        NaN  \n12        NaN  \n13        NaN  \n14        NaN  \n\n[15 rows x 39 columns]",
      "text/html": "<div>\n<style scoped>\n    .dataframe tbody tr th:only-of-type {\n        vertical-align: middle;\n    }\n\n    .dataframe tbody tr th {\n        vertical-align: top;\n    }\n\n    .dataframe thead th {\n        text-align: right;\n    }\n</style>\n<table border=\"1\" class=\"dataframe\">\n  <thead>\n    <tr style=\"text-align: right;\">\n      <th></th>\n      <th>PLAYER_ID</th>\n      <th>SEASON_ID</th>\n      <th>LEAGUE_ID</th>\n      <th>TEAM_ID</th>\n      <th>TEAM_ABBREVIATION</th>\n      <th>PLAYER_AGE</th>\n      <th>GP</th>\n      <th>GS</th>\n      <th>MIN</th>\n      <th>FGM</th>\n      <th>...</th>\n      <th>id</th>\n      <th>full_name</th>\n      <th>first_name</th>\n      <th>last_name</th>\n      <th>is_active</th>\n      <th>ALL_STAR_GAME_YEAR</th>\n      <th>PLAYER</th>\n      <th>TEAM</th>\n      <th>FIRST_NAME</th>\n      <th>LAST_NAME</th>\n    </tr>\n  </thead>\n  <tbody>\n    <tr>\n      <th>0</th>\n      <td>76001</td>\n      <td>1990-91</td>\n      <td>0</td>\n      <td>1610612757</td>\n      <td>POR</td>\n      <td>23</td>\n      <td>43</td>\n      <td>0.0</td>\n      <td>290.0</td>\n      <td>55</td>\n      <td>...</td>\n      <td>76001</td>\n      <td>Alaa Abdelnaby</td>\n      <td>Alaa</td>\n      <td>Abdelnaby</td>\n      <td>False</td>\n      <td>NaN</td>\n      <td>NaN</td>\n      <td>NaN</td>\n      <td>NaN</td>\n      <td>NaN</td>\n    </tr>\n    <tr>\n      <th>1</th>\n      <td>76001</td>\n      <td>1991-92</td>\n      <td>0</td>\n      <td>1610612757</td>\n      <td>POR</td>\n      <td>24</td>\n      <td>71</td>\n      <td>1.0</td>\n      <td>934.0</td>\n      <td>178</td>\n      <td>...</td>\n      <td>76001</td>\n      <td>Alaa Abdelnaby</td>\n      <td>Alaa</td>\n      <td>Abdelnaby</td>\n      <td>False</td>\n      <td>NaN</td>\n      <td>NaN</td>\n      <td>NaN</td>\n      <td>NaN</td>\n      <td>NaN</td>\n    </tr>\n    <tr>\n      <th>2</th>\n      <td>76001</td>\n      <td>1992-93</td>\n      <td>0</td>\n      <td>1610612749</td>\n      <td>MIL</td>\n      <td>25</td>\n      <td>12</td>\n      <td>0.0</td>\n      <td>159.0</td>\n      <td>26</td>\n      <td>...</td>\n      <td>76001</td>\n      <td>Alaa Abdelnaby</td>\n      <td>Alaa</td>\n      <td>Abdelnaby</td>\n      <td>False</td>\n      <td>NaN</td>\n      <td>NaN</td>\n      <td>NaN</td>\n      <td>NaN</td>\n      <td>NaN</td>\n    </tr>\n    <tr>\n      <th>3</th>\n      <td>76001</td>\n      <td>1992-93</td>\n      <td>0</td>\n      <td>1610612738</td>\n      <td>BOS</td>\n      <td>25</td>\n      <td>63</td>\n      <td>52.0</td>\n      <td>1152.0</td>\n      <td>219</td>\n      <td>...</td>\n      <td>76001</td>\n      <td>Alaa Abdelnaby</td>\n      <td>Alaa</td>\n      <td>Abdelnaby</td>\n      <td>False</td>\n      <td>NaN</td>\n      <td>NaN</td>\n      <td>NaN</td>\n      <td>NaN</td>\n      <td>NaN</td>\n    </tr>\n    <tr>\n      <th>4</th>\n      <td>76001</td>\n      <td>1992-93</td>\n      <td>0</td>\n      <td>0</td>\n      <td>TOT</td>\n      <td>25</td>\n      <td>75</td>\n      <td>52.0</td>\n      <td>1311.0</td>\n      <td>245</td>\n      <td>...</td>\n      <td>76001</td>\n      <td>Alaa Abdelnaby</td>\n      <td>Alaa</td>\n      <td>Abdelnaby</td>\n      <td>False</td>\n      <td>NaN</td>\n      <td>NaN</td>\n      <td>NaN</td>\n      <td>NaN</td>\n      <td>NaN</td>\n    </tr>\n    <tr>\n      <th>5</th>\n      <td>76001</td>\n      <td>1993-94</td>\n      <td>0</td>\n      <td>1610612738</td>\n      <td>BOS</td>\n      <td>26</td>\n      <td>13</td>\n      <td>0.0</td>\n      <td>159.0</td>\n      <td>24</td>\n      <td>...</td>\n      <td>76001</td>\n      <td>Alaa Abdelnaby</td>\n      <td>Alaa</td>\n      <td>Abdelnaby</td>\n      <td>False</td>\n      <td>NaN</td>\n      <td>NaN</td>\n      <td>NaN</td>\n      <td>NaN</td>\n      <td>NaN</td>\n    </tr>\n    <tr>\n      <th>6</th>\n      <td>76001</td>\n      <td>1994-95</td>\n      <td>0</td>\n      <td>1610612758</td>\n      <td>SAC</td>\n      <td>27</td>\n      <td>51</td>\n      <td>0.0</td>\n      <td>476.0</td>\n      <td>117</td>\n      <td>...</td>\n      <td>76001</td>\n      <td>Alaa Abdelnaby</td>\n      <td>Alaa</td>\n      <td>Abdelnaby</td>\n      <td>False</td>\n      <td>NaN</td>\n      <td>NaN</td>\n      <td>NaN</td>\n      <td>NaN</td>\n      <td>NaN</td>\n    </tr>\n    <tr>\n      <th>7</th>\n      <td>76001</td>\n      <td>1994-95</td>\n      <td>0</td>\n      <td>1610612755</td>\n      <td>PHL</td>\n      <td>27</td>\n      <td>3</td>\n      <td>0.0</td>\n      <td>30.0</td>\n      <td>1</td>\n      <td>...</td>\n      <td>76001</td>\n      <td>Alaa Abdelnaby</td>\n      <td>Alaa</td>\n      <td>Abdelnaby</td>\n      <td>False</td>\n      <td>NaN</td>\n      <td>NaN</td>\n      <td>NaN</td>\n      <td>NaN</td>\n      <td>NaN</td>\n    </tr>\n    <tr>\n      <th>8</th>\n      <td>76001</td>\n      <td>1994-95</td>\n      <td>0</td>\n      <td>0</td>\n      <td>TOT</td>\n      <td>27</td>\n      <td>54</td>\n      <td>0.0</td>\n      <td>506.0</td>\n      <td>118</td>\n      <td>...</td>\n      <td>76001</td>\n      <td>Alaa Abdelnaby</td>\n      <td>Alaa</td>\n      <td>Abdelnaby</td>\n      <td>False</td>\n      <td>NaN</td>\n      <td>NaN</td>\n      <td>NaN</td>\n      <td>NaN</td>\n      <td>NaN</td>\n    </tr>\n    <tr>\n      <th>9</th>\n      <td>76002</td>\n      <td>1968-69</td>\n      <td>0</td>\n      <td>1610612749</td>\n      <td>MIL</td>\n      <td>23</td>\n      <td>29</td>\n      <td>NaN</td>\n      <td>837.0</td>\n      <td>126</td>\n      <td>...</td>\n      <td>76002</td>\n      <td>Zaid Abdul-Aziz</td>\n      <td>Zaid</td>\n      <td>Abdul-Aziz</td>\n      <td>False</td>\n      <td>NaN</td>\n      <td>NaN</td>\n      <td>NaN</td>\n      <td>NaN</td>\n      <td>NaN</td>\n    </tr>\n    <tr>\n      <th>10</th>\n      <td>76002</td>\n      <td>1968-69</td>\n      <td>0</td>\n      <td>1610612758</td>\n      <td>CIN</td>\n      <td>23</td>\n      <td>20</td>\n      <td>NaN</td>\n      <td>108.0</td>\n      <td>18</td>\n      <td>...</td>\n      <td>76002</td>\n      <td>Zaid Abdul-Aziz</td>\n      <td>Zaid</td>\n      <td>Abdul-Aziz</td>\n      <td>False</td>\n      <td>NaN</td>\n      <td>NaN</td>\n      <td>NaN</td>\n      <td>NaN</td>\n      <td>NaN</td>\n    </tr>\n    <tr>\n      <th>11</th>\n      <td>76002</td>\n      <td>1968-69</td>\n      <td>0</td>\n      <td>0</td>\n      <td>TOT</td>\n      <td>23</td>\n      <td>49</td>\n      <td>NaN</td>\n      <td>945.0</td>\n      <td>144</td>\n      <td>...</td>\n      <td>76002</td>\n      <td>Zaid Abdul-Aziz</td>\n      <td>Zaid</td>\n      <td>Abdul-Aziz</td>\n      <td>False</td>\n      <td>NaN</td>\n      <td>NaN</td>\n      <td>NaN</td>\n      <td>NaN</td>\n      <td>NaN</td>\n    </tr>\n    <tr>\n      <th>12</th>\n      <td>76002</td>\n      <td>1969-70</td>\n      <td>0</td>\n      <td>1610612749</td>\n      <td>MIL</td>\n      <td>24</td>\n      <td>80</td>\n      <td>NaN</td>\n      <td>1637.0</td>\n      <td>237</td>\n      <td>...</td>\n      <td>76002</td>\n      <td>Zaid Abdul-Aziz</td>\n      <td>Zaid</td>\n      <td>Abdul-Aziz</td>\n      <td>False</td>\n      <td>NaN</td>\n      <td>NaN</td>\n      <td>NaN</td>\n      <td>NaN</td>\n      <td>NaN</td>\n    </tr>\n    <tr>\n      <th>13</th>\n      <td>76002</td>\n      <td>1970-71</td>\n      <td>0</td>\n      <td>1610612760</td>\n      <td>SEA</td>\n      <td>25</td>\n      <td>61</td>\n      <td>NaN</td>\n      <td>1276.0</td>\n      <td>263</td>\n      <td>...</td>\n      <td>76002</td>\n      <td>Zaid Abdul-Aziz</td>\n      <td>Zaid</td>\n      <td>Abdul-Aziz</td>\n      <td>False</td>\n      <td>NaN</td>\n      <td>NaN</td>\n      <td>NaN</td>\n      <td>NaN</td>\n      <td>NaN</td>\n    </tr>\n    <tr>\n      <th>14</th>\n      <td>76002</td>\n      <td>1971-72</td>\n      <td>0</td>\n      <td>1610612760</td>\n      <td>SEA</td>\n      <td>26</td>\n      <td>58</td>\n      <td>NaN</td>\n      <td>1780.0</td>\n      <td>322</td>\n      <td>...</td>\n      <td>76002</td>\n      <td>Zaid Abdul-Aziz</td>\n      <td>Zaid</td>\n      <td>Abdul-Aziz</td>\n      <td>False</td>\n      <td>NaN</td>\n      <td>NaN</td>\n      <td>NaN</td>\n      <td>NaN</td>\n      <td>NaN</td>\n    </tr>\n  </tbody>\n</table>\n<p>15 rows × 39 columns</p>\n</div>"
     },
     "execution_count": 7,
     "metadata": {},
     "output_type": "execute_result"
    }
   ],
   "source": [
    "nba_all_star_df = pd.read_csv('nba_all_star_selections.csv')\n",
    "\n",
    "df = pd.merge(df, nba_all_star_df, how='left', left_on=['ALL_STAR_SEASON_YEAR', 'full_name'], right_on=['ALL_STAR_GAME_YEAR', 'PLAYER'])\n",
    "df.head(15)"
   ],
   "metadata": {
    "collapsed": false,
    "pycharm": {
     "name": "#%%\n"
    }
   }
  },
  {
   "cell_type": "code",
   "execution_count": 8,
   "outputs": [
    {
     "name": "stdout",
     "output_type": "stream",
     "text": [
      "(28475, 39)\n"
     ]
    },
    {
     "data": {
      "text/plain": "(12227, 39)"
     },
     "execution_count": 8,
     "metadata": {},
     "output_type": "execute_result"
    }
   ],
   "source": [
    "# filter df to contain only 2000 - 2019 all star seasons.\n",
    "print(df.shape)\n",
    "df = df[(df['ALL_STAR_SEASON_YEAR']>= 2000) & (df['ALL_STAR_SEASON_YEAR'] <= 2019)]\n",
    "df.shape\n",
    "# df.head(150)"
   ],
   "metadata": {
    "collapsed": false,
    "pycharm": {
     "name": "#%%\n"
    }
   }
  },
  {
   "cell_type": "code",
   "execution_count": 9,
   "outputs": [
    {
     "data": {
      "text/plain": "       PLAYER_ID SEASON_ID  LEAGUE_ID     TEAM_ID TEAM_ABBREVIATION  \\\n22134    1626179   2017-18          0  1610612738               BOS   \n17128       2098   2006-07          0  1610612737               ATL   \n4201        2679   2006-07          0  1610612766               CHA   \n11525     200797   2015-16          0  1610612764               WAS   \n25631       2137   2007-08          0  1610612759               SAS   \n...          ...       ...        ...         ...               ...   \n26366       2575   2004-05          0  1610612747               LAL   \n20847       1893   1999-00          0  1610612761               TOR   \n27138       2404   2008-09          0           0               TOT   \n5009      200776   2008-09          0  1610612752               NYK   \n1808      201958   2010-11          0  1610612742               DAL   \n\n       PLAYER_AGE  GP    GS     MIN  FGM  ...       id             full_name  \\\n22134          24  80  16.0  2068.0  316  ...  1626179          Terry Rozier   \n17128          28  14   0.0    81.0   12  ...     2098      Slava Medvedenko   \n4201           26  72  47.0  1878.0  285  ...     2679          Matt Carroll   \n11525          31   5   3.0    48.0    4  ...   200797          Ryan Hollins   \n25631          30  73   0.0  1316.0  159  ...     2137             Ime Udoka   \n...           ...  ..   ...     ...  ...  ...      ...                   ...   \n26366          25  61   5.0   768.0   74  ...     2575           Luke Walton   \n20847          23   3   0.0    24.0    2  ...     1893  Aleksandar Radojevic   \n27138          26  62   6.0  1050.0  184  ...     2404          Chris Wilcox   \n5009           24   9   0.0    75.0    8  ...   200776         Mardy Collins   \n1808           23  28  26.0   496.0   94  ...   201958     Rodrigue Beaubois   \n\n       first_name   last_name  is_active  ALL_STAR_GAME_YEAR  PLAYER  TEAM  \\\n22134       Terry      Rozier       True                 NaN     NaN   NaN   \n17128       Slava  Medvedenko      False                 NaN     NaN   NaN   \n4201         Matt     Carroll      False                 NaN     NaN   NaN   \n11525        Ryan     Hollins      False                 NaN     NaN   NaN   \n25631         Ime       Udoka      False                 NaN     NaN   NaN   \n...           ...         ...        ...                 ...     ...   ...   \n26366        Luke      Walton      False                 NaN     NaN   NaN   \n20847  Aleksandar   Radojevic      False                 NaN     NaN   NaN   \n27138       Chris      Wilcox      False                 NaN     NaN   NaN   \n5009        Mardy     Collins      False                 NaN     NaN   NaN   \n1808     Rodrigue    Beaubois      False                 NaN     NaN   NaN   \n\n       FIRST_NAME  LAST_NAME  \n22134         NaN        NaN  \n17128         NaN        NaN  \n4201          NaN        NaN  \n11525         NaN        NaN  \n25631         NaN        NaN  \n...           ...        ...  \n26366         NaN        NaN  \n20847         NaN        NaN  \n27138         NaN        NaN  \n5009          NaN        NaN  \n1808          NaN        NaN  \n\n[200 rows x 39 columns]",
      "text/html": "<div>\n<style scoped>\n    .dataframe tbody tr th:only-of-type {\n        vertical-align: middle;\n    }\n\n    .dataframe tbody tr th {\n        vertical-align: top;\n    }\n\n    .dataframe thead th {\n        text-align: right;\n    }\n</style>\n<table border=\"1\" class=\"dataframe\">\n  <thead>\n    <tr style=\"text-align: right;\">\n      <th></th>\n      <th>PLAYER_ID</th>\n      <th>SEASON_ID</th>\n      <th>LEAGUE_ID</th>\n      <th>TEAM_ID</th>\n      <th>TEAM_ABBREVIATION</th>\n      <th>PLAYER_AGE</th>\n      <th>GP</th>\n      <th>GS</th>\n      <th>MIN</th>\n      <th>FGM</th>\n      <th>...</th>\n      <th>id</th>\n      <th>full_name</th>\n      <th>first_name</th>\n      <th>last_name</th>\n      <th>is_active</th>\n      <th>ALL_STAR_GAME_YEAR</th>\n      <th>PLAYER</th>\n      <th>TEAM</th>\n      <th>FIRST_NAME</th>\n      <th>LAST_NAME</th>\n    </tr>\n  </thead>\n  <tbody>\n    <tr>\n      <th>22134</th>\n      <td>1626179</td>\n      <td>2017-18</td>\n      <td>0</td>\n      <td>1610612738</td>\n      <td>BOS</td>\n      <td>24</td>\n      <td>80</td>\n      <td>16.0</td>\n      <td>2068.0</td>\n      <td>316</td>\n      <td>...</td>\n      <td>1626179</td>\n      <td>Terry Rozier</td>\n      <td>Terry</td>\n      <td>Rozier</td>\n      <td>True</td>\n      <td>NaN</td>\n      <td>NaN</td>\n      <td>NaN</td>\n      <td>NaN</td>\n      <td>NaN</td>\n    </tr>\n    <tr>\n      <th>17128</th>\n      <td>2098</td>\n      <td>2006-07</td>\n      <td>0</td>\n      <td>1610612737</td>\n      <td>ATL</td>\n      <td>28</td>\n      <td>14</td>\n      <td>0.0</td>\n      <td>81.0</td>\n      <td>12</td>\n      <td>...</td>\n      <td>2098</td>\n      <td>Slava Medvedenko</td>\n      <td>Slava</td>\n      <td>Medvedenko</td>\n      <td>False</td>\n      <td>NaN</td>\n      <td>NaN</td>\n      <td>NaN</td>\n      <td>NaN</td>\n      <td>NaN</td>\n    </tr>\n    <tr>\n      <th>4201</th>\n      <td>2679</td>\n      <td>2006-07</td>\n      <td>0</td>\n      <td>1610612766</td>\n      <td>CHA</td>\n      <td>26</td>\n      <td>72</td>\n      <td>47.0</td>\n      <td>1878.0</td>\n      <td>285</td>\n      <td>...</td>\n      <td>2679</td>\n      <td>Matt Carroll</td>\n      <td>Matt</td>\n      <td>Carroll</td>\n      <td>False</td>\n      <td>NaN</td>\n      <td>NaN</td>\n      <td>NaN</td>\n      <td>NaN</td>\n      <td>NaN</td>\n    </tr>\n    <tr>\n      <th>11525</th>\n      <td>200797</td>\n      <td>2015-16</td>\n      <td>0</td>\n      <td>1610612764</td>\n      <td>WAS</td>\n      <td>31</td>\n      <td>5</td>\n      <td>3.0</td>\n      <td>48.0</td>\n      <td>4</td>\n      <td>...</td>\n      <td>200797</td>\n      <td>Ryan Hollins</td>\n      <td>Ryan</td>\n      <td>Hollins</td>\n      <td>False</td>\n      <td>NaN</td>\n      <td>NaN</td>\n      <td>NaN</td>\n      <td>NaN</td>\n      <td>NaN</td>\n    </tr>\n    <tr>\n      <th>25631</th>\n      <td>2137</td>\n      <td>2007-08</td>\n      <td>0</td>\n      <td>1610612759</td>\n      <td>SAS</td>\n      <td>30</td>\n      <td>73</td>\n      <td>0.0</td>\n      <td>1316.0</td>\n      <td>159</td>\n      <td>...</td>\n      <td>2137</td>\n      <td>Ime Udoka</td>\n      <td>Ime</td>\n      <td>Udoka</td>\n      <td>False</td>\n      <td>NaN</td>\n      <td>NaN</td>\n      <td>NaN</td>\n      <td>NaN</td>\n      <td>NaN</td>\n    </tr>\n    <tr>\n      <th>...</th>\n      <td>...</td>\n      <td>...</td>\n      <td>...</td>\n      <td>...</td>\n      <td>...</td>\n      <td>...</td>\n      <td>...</td>\n      <td>...</td>\n      <td>...</td>\n      <td>...</td>\n      <td>...</td>\n      <td>...</td>\n      <td>...</td>\n      <td>...</td>\n      <td>...</td>\n      <td>...</td>\n      <td>...</td>\n      <td>...</td>\n      <td>...</td>\n      <td>...</td>\n      <td>...</td>\n    </tr>\n    <tr>\n      <th>26366</th>\n      <td>2575</td>\n      <td>2004-05</td>\n      <td>0</td>\n      <td>1610612747</td>\n      <td>LAL</td>\n      <td>25</td>\n      <td>61</td>\n      <td>5.0</td>\n      <td>768.0</td>\n      <td>74</td>\n      <td>...</td>\n      <td>2575</td>\n      <td>Luke Walton</td>\n      <td>Luke</td>\n      <td>Walton</td>\n      <td>False</td>\n      <td>NaN</td>\n      <td>NaN</td>\n      <td>NaN</td>\n      <td>NaN</td>\n      <td>NaN</td>\n    </tr>\n    <tr>\n      <th>20847</th>\n      <td>1893</td>\n      <td>1999-00</td>\n      <td>0</td>\n      <td>1610612761</td>\n      <td>TOR</td>\n      <td>23</td>\n      <td>3</td>\n      <td>0.0</td>\n      <td>24.0</td>\n      <td>2</td>\n      <td>...</td>\n      <td>1893</td>\n      <td>Aleksandar Radojevic</td>\n      <td>Aleksandar</td>\n      <td>Radojevic</td>\n      <td>False</td>\n      <td>NaN</td>\n      <td>NaN</td>\n      <td>NaN</td>\n      <td>NaN</td>\n      <td>NaN</td>\n    </tr>\n    <tr>\n      <th>27138</th>\n      <td>2404</td>\n      <td>2008-09</td>\n      <td>0</td>\n      <td>0</td>\n      <td>TOT</td>\n      <td>26</td>\n      <td>62</td>\n      <td>6.0</td>\n      <td>1050.0</td>\n      <td>184</td>\n      <td>...</td>\n      <td>2404</td>\n      <td>Chris Wilcox</td>\n      <td>Chris</td>\n      <td>Wilcox</td>\n      <td>False</td>\n      <td>NaN</td>\n      <td>NaN</td>\n      <td>NaN</td>\n      <td>NaN</td>\n      <td>NaN</td>\n    </tr>\n    <tr>\n      <th>5009</th>\n      <td>200776</td>\n      <td>2008-09</td>\n      <td>0</td>\n      <td>1610612752</td>\n      <td>NYK</td>\n      <td>24</td>\n      <td>9</td>\n      <td>0.0</td>\n      <td>75.0</td>\n      <td>8</td>\n      <td>...</td>\n      <td>200776</td>\n      <td>Mardy Collins</td>\n      <td>Mardy</td>\n      <td>Collins</td>\n      <td>False</td>\n      <td>NaN</td>\n      <td>NaN</td>\n      <td>NaN</td>\n      <td>NaN</td>\n      <td>NaN</td>\n    </tr>\n    <tr>\n      <th>1808</th>\n      <td>201958</td>\n      <td>2010-11</td>\n      <td>0</td>\n      <td>1610612742</td>\n      <td>DAL</td>\n      <td>23</td>\n      <td>28</td>\n      <td>26.0</td>\n      <td>496.0</td>\n      <td>94</td>\n      <td>...</td>\n      <td>201958</td>\n      <td>Rodrigue Beaubois</td>\n      <td>Rodrigue</td>\n      <td>Beaubois</td>\n      <td>False</td>\n      <td>NaN</td>\n      <td>NaN</td>\n      <td>NaN</td>\n      <td>NaN</td>\n      <td>NaN</td>\n    </tr>\n  </tbody>\n</table>\n<p>200 rows × 39 columns</p>\n</div>"
     },
     "execution_count": 9,
     "metadata": {},
     "output_type": "execute_result"
    }
   ],
   "source": [
    "# Getting a sample set to see what columns can be dropped from the data frame\n",
    "df.sample(200)"
   ],
   "metadata": {
    "collapsed": false,
    "pycharm": {
     "name": "#%%\n"
    }
   }
  },
  {
   "cell_type": "code",
   "execution_count": 10,
   "outputs": [
    {
     "data": {
      "text/plain": "       PLAYER_ID SEASON_ID     TEAM_ID TEAM_ABBREVIATION  PLAYER_AGE  GP  \\\n10746     201150   2016-17  1610612766               CHA          29  35   \n18299     203315   2014-15  1610612762               UTA          25   1   \n11898       1716   2007-08  1610612741               CHI          29  28   \n6435        2736   2004-05  1610612741               CHI          20  61   \n5488     1628249   2018-19  1610612751               BKN          27   4   \n...          ...       ...         ...               ...         ...  ..   \n7138      201142   2007-08  1610612760               SEA          19  80   \n14831     201951   2015-16  1610612754               IND          28  13   \n14170        954   2001-02  1610612751               NJN          28  82   \n24629       2742   2010-11  1610612750               MIN          26  37   \n17888       1630   2009-10  1610612744               GSW          34  23   \n\n         GS     MIN  FGM   FGA  ...    TOV   PF   PTS  TRADE_SEASON  \\\n10746   1.0   626.0  104   218  ...   40.0   61   254             1   \n18299   0.0     1.0    0     1  ...    0.0    0     0             1   \n11898  25.0   810.0  125   323  ...   44.0   48   336             1   \n6435   45.0  1664.0  280   645  ...  118.0   98   711             0   \n5488    0.0    36.0    5    10  ...    0.0    3    15             1   \n...     ...     ...  ...   ...  ...    ...  ...   ...           ...   \n7138   80.0  2768.0  587  1366  ...  232.0  122  1624             0   \n14831   1.0   235.0   28    67  ...   13.0   16    64             1   \n14170  82.0  2601.0  438   940  ...  109.0  108  1102             0   \n24629   8.0   711.0   97   241  ...   64.0   64   266             0   \n17888  20.0   406.0   54    90  ...   21.0   60   115             0   \n\n       ALL_STAR_SEASON_YEAR          full_name  first_name  last_name  \\\n10746                  2017      Spencer Hawes     Spencer      Hawes   \n18299                  2015       Toure' Murry      Toure'      Murry   \n11898                  2008       Larry Hughes       Larry     Hughes   \n6435                   2005          Luol Deng        Luol       Deng   \n5488                   2019     Mitchell Creek    Mitchell      Creek   \n...                     ...                ...         ...        ...   \n7138                   2008       Kevin Durant       Kevin     Durant   \n14831                  2016          Ty Lawson          Ty     Lawson   \n14170                  2002      Kerry Kittles       Kerry    Kittles   \n24629                  2011  Sebastian Telfair   Sebastian    Telfair   \n17888                  2000        Mikki Moore       Mikki      Moore   \n\n       is_active  ALL_STAR_GAME_YEAR  \n10746      False                 NaN  \n18299      False                 NaN  \n11898      False                 NaN  \n6435       False                 NaN  \n5488       False                 NaN  \n...          ...                 ...  \n7138        True                 NaN  \n14831      False                 NaN  \n14170      False                 NaN  \n24629      False                 NaN  \n17888      False                 NaN  \n\n[200 rows x 33 columns]",
      "text/html": "<div>\n<style scoped>\n    .dataframe tbody tr th:only-of-type {\n        vertical-align: middle;\n    }\n\n    .dataframe tbody tr th {\n        vertical-align: top;\n    }\n\n    .dataframe thead th {\n        text-align: right;\n    }\n</style>\n<table border=\"1\" class=\"dataframe\">\n  <thead>\n    <tr style=\"text-align: right;\">\n      <th></th>\n      <th>PLAYER_ID</th>\n      <th>SEASON_ID</th>\n      <th>TEAM_ID</th>\n      <th>TEAM_ABBREVIATION</th>\n      <th>PLAYER_AGE</th>\n      <th>GP</th>\n      <th>GS</th>\n      <th>MIN</th>\n      <th>FGM</th>\n      <th>FGA</th>\n      <th>...</th>\n      <th>TOV</th>\n      <th>PF</th>\n      <th>PTS</th>\n      <th>TRADE_SEASON</th>\n      <th>ALL_STAR_SEASON_YEAR</th>\n      <th>full_name</th>\n      <th>first_name</th>\n      <th>last_name</th>\n      <th>is_active</th>\n      <th>ALL_STAR_GAME_YEAR</th>\n    </tr>\n  </thead>\n  <tbody>\n    <tr>\n      <th>10746</th>\n      <td>201150</td>\n      <td>2016-17</td>\n      <td>1610612766</td>\n      <td>CHA</td>\n      <td>29</td>\n      <td>35</td>\n      <td>1.0</td>\n      <td>626.0</td>\n      <td>104</td>\n      <td>218</td>\n      <td>...</td>\n      <td>40.0</td>\n      <td>61</td>\n      <td>254</td>\n      <td>1</td>\n      <td>2017</td>\n      <td>Spencer Hawes</td>\n      <td>Spencer</td>\n      <td>Hawes</td>\n      <td>False</td>\n      <td>NaN</td>\n    </tr>\n    <tr>\n      <th>18299</th>\n      <td>203315</td>\n      <td>2014-15</td>\n      <td>1610612762</td>\n      <td>UTA</td>\n      <td>25</td>\n      <td>1</td>\n      <td>0.0</td>\n      <td>1.0</td>\n      <td>0</td>\n      <td>1</td>\n      <td>...</td>\n      <td>0.0</td>\n      <td>0</td>\n      <td>0</td>\n      <td>1</td>\n      <td>2015</td>\n      <td>Toure' Murry</td>\n      <td>Toure'</td>\n      <td>Murry</td>\n      <td>False</td>\n      <td>NaN</td>\n    </tr>\n    <tr>\n      <th>11898</th>\n      <td>1716</td>\n      <td>2007-08</td>\n      <td>1610612741</td>\n      <td>CHI</td>\n      <td>29</td>\n      <td>28</td>\n      <td>25.0</td>\n      <td>810.0</td>\n      <td>125</td>\n      <td>323</td>\n      <td>...</td>\n      <td>44.0</td>\n      <td>48</td>\n      <td>336</td>\n      <td>1</td>\n      <td>2008</td>\n      <td>Larry Hughes</td>\n      <td>Larry</td>\n      <td>Hughes</td>\n      <td>False</td>\n      <td>NaN</td>\n    </tr>\n    <tr>\n      <th>6435</th>\n      <td>2736</td>\n      <td>2004-05</td>\n      <td>1610612741</td>\n      <td>CHI</td>\n      <td>20</td>\n      <td>61</td>\n      <td>45.0</td>\n      <td>1664.0</td>\n      <td>280</td>\n      <td>645</td>\n      <td>...</td>\n      <td>118.0</td>\n      <td>98</td>\n      <td>711</td>\n      <td>0</td>\n      <td>2005</td>\n      <td>Luol Deng</td>\n      <td>Luol</td>\n      <td>Deng</td>\n      <td>False</td>\n      <td>NaN</td>\n    </tr>\n    <tr>\n      <th>5488</th>\n      <td>1628249</td>\n      <td>2018-19</td>\n      <td>1610612751</td>\n      <td>BKN</td>\n      <td>27</td>\n      <td>4</td>\n      <td>0.0</td>\n      <td>36.0</td>\n      <td>5</td>\n      <td>10</td>\n      <td>...</td>\n      <td>0.0</td>\n      <td>3</td>\n      <td>15</td>\n      <td>1</td>\n      <td>2019</td>\n      <td>Mitchell Creek</td>\n      <td>Mitchell</td>\n      <td>Creek</td>\n      <td>False</td>\n      <td>NaN</td>\n    </tr>\n    <tr>\n      <th>...</th>\n      <td>...</td>\n      <td>...</td>\n      <td>...</td>\n      <td>...</td>\n      <td>...</td>\n      <td>...</td>\n      <td>...</td>\n      <td>...</td>\n      <td>...</td>\n      <td>...</td>\n      <td>...</td>\n      <td>...</td>\n      <td>...</td>\n      <td>...</td>\n      <td>...</td>\n      <td>...</td>\n      <td>...</td>\n      <td>...</td>\n      <td>...</td>\n      <td>...</td>\n      <td>...</td>\n    </tr>\n    <tr>\n      <th>7138</th>\n      <td>201142</td>\n      <td>2007-08</td>\n      <td>1610612760</td>\n      <td>SEA</td>\n      <td>19</td>\n      <td>80</td>\n      <td>80.0</td>\n      <td>2768.0</td>\n      <td>587</td>\n      <td>1366</td>\n      <td>...</td>\n      <td>232.0</td>\n      <td>122</td>\n      <td>1624</td>\n      <td>0</td>\n      <td>2008</td>\n      <td>Kevin Durant</td>\n      <td>Kevin</td>\n      <td>Durant</td>\n      <td>True</td>\n      <td>NaN</td>\n    </tr>\n    <tr>\n      <th>14831</th>\n      <td>201951</td>\n      <td>2015-16</td>\n      <td>1610612754</td>\n      <td>IND</td>\n      <td>28</td>\n      <td>13</td>\n      <td>1.0</td>\n      <td>235.0</td>\n      <td>28</td>\n      <td>67</td>\n      <td>...</td>\n      <td>13.0</td>\n      <td>16</td>\n      <td>64</td>\n      <td>1</td>\n      <td>2016</td>\n      <td>Ty Lawson</td>\n      <td>Ty</td>\n      <td>Lawson</td>\n      <td>False</td>\n      <td>NaN</td>\n    </tr>\n    <tr>\n      <th>14170</th>\n      <td>954</td>\n      <td>2001-02</td>\n      <td>1610612751</td>\n      <td>NJN</td>\n      <td>28</td>\n      <td>82</td>\n      <td>82.0</td>\n      <td>2601.0</td>\n      <td>438</td>\n      <td>940</td>\n      <td>...</td>\n      <td>109.0</td>\n      <td>108</td>\n      <td>1102</td>\n      <td>0</td>\n      <td>2002</td>\n      <td>Kerry Kittles</td>\n      <td>Kerry</td>\n      <td>Kittles</td>\n      <td>False</td>\n      <td>NaN</td>\n    </tr>\n    <tr>\n      <th>24629</th>\n      <td>2742</td>\n      <td>2010-11</td>\n      <td>1610612750</td>\n      <td>MIN</td>\n      <td>26</td>\n      <td>37</td>\n      <td>8.0</td>\n      <td>711.0</td>\n      <td>97</td>\n      <td>241</td>\n      <td>...</td>\n      <td>64.0</td>\n      <td>64</td>\n      <td>266</td>\n      <td>0</td>\n      <td>2011</td>\n      <td>Sebastian Telfair</td>\n      <td>Sebastian</td>\n      <td>Telfair</td>\n      <td>False</td>\n      <td>NaN</td>\n    </tr>\n    <tr>\n      <th>17888</th>\n      <td>1630</td>\n      <td>2009-10</td>\n      <td>1610612744</td>\n      <td>GSW</td>\n      <td>34</td>\n      <td>23</td>\n      <td>20.0</td>\n      <td>406.0</td>\n      <td>54</td>\n      <td>90</td>\n      <td>...</td>\n      <td>21.0</td>\n      <td>60</td>\n      <td>115</td>\n      <td>0</td>\n      <td>2000</td>\n      <td>Mikki Moore</td>\n      <td>Mikki</td>\n      <td>Moore</td>\n      <td>False</td>\n      <td>NaN</td>\n    </tr>\n  </tbody>\n</table>\n<p>200 rows × 33 columns</p>\n</div>"
     },
     "execution_count": 10,
     "metadata": {},
     "output_type": "execute_result"
    }
   ],
   "source": [
    "# Will drop a few columns to help clean up the dataframe\n",
    "\n",
    "columns_to_drop = ['LEAGUE_ID', 'id', 'PLAYER', 'TEAM', 'FIRST_NAME', 'LAST_NAME']\n",
    "\n",
    "df = df.drop(columns=columns_to_drop)\n",
    "df.sample(200)"
   ],
   "metadata": {
    "collapsed": false,
    "pycharm": {
     "name": "#%%\n"
    }
   }
  },
  {
   "cell_type": "code",
   "execution_count": 11,
   "outputs": [
    {
     "data": {
      "text/plain": "       PLAYER_ID SEASON_ID     TEAM_ID TEAM_ABBREVIATION  PLAYER_AGE  GP  \\\n1331      200826   2012-13  1610612750               MIN          29  74   \n25647       2757   2013-14  1610612763               MEM          31  10   \n1601        1766   2006-07  1610612754               IND          31  47   \n7088        2399   2011-12  1610612749               MIL          31  55   \n9504         270   2003-04  1610612747               LAL          38  55   \n...          ...       ...         ...               ...         ...  ..   \n1129      202337   2017-18  1610612748               MIA          29  13   \n11295        255   2004-05  1610612753               ORL          32  67   \n754           21   2001-02  1610612749               MIL          34  24   \n6502        2564   2005-06  1610612756               PHX          24  81   \n26232        955   2005-06  1610612754               IND          30   7   \n\n         GS     MIN  FGM   FGA  ...   PF   PTS  TRADE_SEASON  \\\n1331    2.0  1713.0  316   758  ...  131   834             0   \n25647   0.0    55.0   10    18  ...    4    27             1   \n1601    2.0   405.0   49    76  ...   65   138             0   \n7088    3.0  1445.0  239   504  ...   87   677             0   \n9504   10.0  1110.0   92   224  ...   70   223             0   \n...     ...     ...  ...   ...  ...  ...   ...           ...   \n1129    5.0   145.0   11    47  ...    7    33             1   \n11295  67.0  2338.0  517  1015  ...  144  1317             0   \n754     3.0   553.0   70   188  ...   42   172             1   \n6502   70.0  2874.0  449   853  ...  260  1080             0   \n26232   0.0    22.0    0     2  ...    7     2             0   \n\n       ALL_STAR_SEASON_YEAR      full_name  first_name  last_name  is_active  \\\n1331                   2013     J.J. Barea        J.J.      Barea      False   \n25647                  2014     Beno Udrih        Beno      Udrih      False   \n1601                   2007   Maceo Baston       Maceo     Baston      False   \n7088                   2012  Mike Dunleavy        Mike   Dunleavy      False   \n9504                   2004   Horace Grant      Horace      Grant      False   \n...                     ...            ...         ...        ...        ...   \n1129                   2018   Luke Babbitt        Luke    Babbitt      False   \n11295                  2005     Grant Hill       Grant       Hill      False   \n754                    2002   Greg Anthony        Greg    Anthony      False   \n6502                   2006     Boris Diaw       Boris       Diaw      False   \n26232                  2006  Samaki Walker      Samaki     Walker      False   \n\n       ALL_STAR_GAME_YEAR  ALL_STAR_SELECTION_FLAG  \n1331                  NaN                        0  \n25647                 NaN                        0  \n1601                  NaN                        0  \n7088                  NaN                        0  \n9504                  NaN                        0  \n...                   ...                      ...  \n1129                  NaN                        0  \n11295              2005.0                        1  \n754                   NaN                        0  \n6502                  NaN                        0  \n26232                 NaN                        0  \n\n[200 rows x 34 columns]",
      "text/html": "<div>\n<style scoped>\n    .dataframe tbody tr th:only-of-type {\n        vertical-align: middle;\n    }\n\n    .dataframe tbody tr th {\n        vertical-align: top;\n    }\n\n    .dataframe thead th {\n        text-align: right;\n    }\n</style>\n<table border=\"1\" class=\"dataframe\">\n  <thead>\n    <tr style=\"text-align: right;\">\n      <th></th>\n      <th>PLAYER_ID</th>\n      <th>SEASON_ID</th>\n      <th>TEAM_ID</th>\n      <th>TEAM_ABBREVIATION</th>\n      <th>PLAYER_AGE</th>\n      <th>GP</th>\n      <th>GS</th>\n      <th>MIN</th>\n      <th>FGM</th>\n      <th>FGA</th>\n      <th>...</th>\n      <th>PF</th>\n      <th>PTS</th>\n      <th>TRADE_SEASON</th>\n      <th>ALL_STAR_SEASON_YEAR</th>\n      <th>full_name</th>\n      <th>first_name</th>\n      <th>last_name</th>\n      <th>is_active</th>\n      <th>ALL_STAR_GAME_YEAR</th>\n      <th>ALL_STAR_SELECTION_FLAG</th>\n    </tr>\n  </thead>\n  <tbody>\n    <tr>\n      <th>1331</th>\n      <td>200826</td>\n      <td>2012-13</td>\n      <td>1610612750</td>\n      <td>MIN</td>\n      <td>29</td>\n      <td>74</td>\n      <td>2.0</td>\n      <td>1713.0</td>\n      <td>316</td>\n      <td>758</td>\n      <td>...</td>\n      <td>131</td>\n      <td>834</td>\n      <td>0</td>\n      <td>2013</td>\n      <td>J.J. Barea</td>\n      <td>J.J.</td>\n      <td>Barea</td>\n      <td>False</td>\n      <td>NaN</td>\n      <td>0</td>\n    </tr>\n    <tr>\n      <th>25647</th>\n      <td>2757</td>\n      <td>2013-14</td>\n      <td>1610612763</td>\n      <td>MEM</td>\n      <td>31</td>\n      <td>10</td>\n      <td>0.0</td>\n      <td>55.0</td>\n      <td>10</td>\n      <td>18</td>\n      <td>...</td>\n      <td>4</td>\n      <td>27</td>\n      <td>1</td>\n      <td>2014</td>\n      <td>Beno Udrih</td>\n      <td>Beno</td>\n      <td>Udrih</td>\n      <td>False</td>\n      <td>NaN</td>\n      <td>0</td>\n    </tr>\n    <tr>\n      <th>1601</th>\n      <td>1766</td>\n      <td>2006-07</td>\n      <td>1610612754</td>\n      <td>IND</td>\n      <td>31</td>\n      <td>47</td>\n      <td>2.0</td>\n      <td>405.0</td>\n      <td>49</td>\n      <td>76</td>\n      <td>...</td>\n      <td>65</td>\n      <td>138</td>\n      <td>0</td>\n      <td>2007</td>\n      <td>Maceo Baston</td>\n      <td>Maceo</td>\n      <td>Baston</td>\n      <td>False</td>\n      <td>NaN</td>\n      <td>0</td>\n    </tr>\n    <tr>\n      <th>7088</th>\n      <td>2399</td>\n      <td>2011-12</td>\n      <td>1610612749</td>\n      <td>MIL</td>\n      <td>31</td>\n      <td>55</td>\n      <td>3.0</td>\n      <td>1445.0</td>\n      <td>239</td>\n      <td>504</td>\n      <td>...</td>\n      <td>87</td>\n      <td>677</td>\n      <td>0</td>\n      <td>2012</td>\n      <td>Mike Dunleavy</td>\n      <td>Mike</td>\n      <td>Dunleavy</td>\n      <td>False</td>\n      <td>NaN</td>\n      <td>0</td>\n    </tr>\n    <tr>\n      <th>9504</th>\n      <td>270</td>\n      <td>2003-04</td>\n      <td>1610612747</td>\n      <td>LAL</td>\n      <td>38</td>\n      <td>55</td>\n      <td>10.0</td>\n      <td>1110.0</td>\n      <td>92</td>\n      <td>224</td>\n      <td>...</td>\n      <td>70</td>\n      <td>223</td>\n      <td>0</td>\n      <td>2004</td>\n      <td>Horace Grant</td>\n      <td>Horace</td>\n      <td>Grant</td>\n      <td>False</td>\n      <td>NaN</td>\n      <td>0</td>\n    </tr>\n    <tr>\n      <th>...</th>\n      <td>...</td>\n      <td>...</td>\n      <td>...</td>\n      <td>...</td>\n      <td>...</td>\n      <td>...</td>\n      <td>...</td>\n      <td>...</td>\n      <td>...</td>\n      <td>...</td>\n      <td>...</td>\n      <td>...</td>\n      <td>...</td>\n      <td>...</td>\n      <td>...</td>\n      <td>...</td>\n      <td>...</td>\n      <td>...</td>\n      <td>...</td>\n      <td>...</td>\n      <td>...</td>\n    </tr>\n    <tr>\n      <th>1129</th>\n      <td>202337</td>\n      <td>2017-18</td>\n      <td>1610612748</td>\n      <td>MIA</td>\n      <td>29</td>\n      <td>13</td>\n      <td>5.0</td>\n      <td>145.0</td>\n      <td>11</td>\n      <td>47</td>\n      <td>...</td>\n      <td>7</td>\n      <td>33</td>\n      <td>1</td>\n      <td>2018</td>\n      <td>Luke Babbitt</td>\n      <td>Luke</td>\n      <td>Babbitt</td>\n      <td>False</td>\n      <td>NaN</td>\n      <td>0</td>\n    </tr>\n    <tr>\n      <th>11295</th>\n      <td>255</td>\n      <td>2004-05</td>\n      <td>1610612753</td>\n      <td>ORL</td>\n      <td>32</td>\n      <td>67</td>\n      <td>67.0</td>\n      <td>2338.0</td>\n      <td>517</td>\n      <td>1015</td>\n      <td>...</td>\n      <td>144</td>\n      <td>1317</td>\n      <td>0</td>\n      <td>2005</td>\n      <td>Grant Hill</td>\n      <td>Grant</td>\n      <td>Hill</td>\n      <td>False</td>\n      <td>2005.0</td>\n      <td>1</td>\n    </tr>\n    <tr>\n      <th>754</th>\n      <td>21</td>\n      <td>2001-02</td>\n      <td>1610612749</td>\n      <td>MIL</td>\n      <td>34</td>\n      <td>24</td>\n      <td>3.0</td>\n      <td>553.0</td>\n      <td>70</td>\n      <td>188</td>\n      <td>...</td>\n      <td>42</td>\n      <td>172</td>\n      <td>1</td>\n      <td>2002</td>\n      <td>Greg Anthony</td>\n      <td>Greg</td>\n      <td>Anthony</td>\n      <td>False</td>\n      <td>NaN</td>\n      <td>0</td>\n    </tr>\n    <tr>\n      <th>6502</th>\n      <td>2564</td>\n      <td>2005-06</td>\n      <td>1610612756</td>\n      <td>PHX</td>\n      <td>24</td>\n      <td>81</td>\n      <td>70.0</td>\n      <td>2874.0</td>\n      <td>449</td>\n      <td>853</td>\n      <td>...</td>\n      <td>260</td>\n      <td>1080</td>\n      <td>0</td>\n      <td>2006</td>\n      <td>Boris Diaw</td>\n      <td>Boris</td>\n      <td>Diaw</td>\n      <td>False</td>\n      <td>NaN</td>\n      <td>0</td>\n    </tr>\n    <tr>\n      <th>26232</th>\n      <td>955</td>\n      <td>2005-06</td>\n      <td>1610612754</td>\n      <td>IND</td>\n      <td>30</td>\n      <td>7</td>\n      <td>0.0</td>\n      <td>22.0</td>\n      <td>0</td>\n      <td>2</td>\n      <td>...</td>\n      <td>7</td>\n      <td>2</td>\n      <td>0</td>\n      <td>2006</td>\n      <td>Samaki Walker</td>\n      <td>Samaki</td>\n      <td>Walker</td>\n      <td>False</td>\n      <td>NaN</td>\n      <td>0</td>\n    </tr>\n  </tbody>\n</table>\n<p>200 rows × 34 columns</p>\n</div>"
     },
     "execution_count": 11,
     "metadata": {},
     "output_type": "execute_result"
    }
   ],
   "source": [
    "# Make a flag for a player making the all star game (if 'ALL_STAR_GAME_YEAR' is not null, flag as 1)\n",
    "import numpy as np\n",
    "df['ALL_STAR_SELECTION_FLAG'] = np.where(df['ALL_STAR_GAME_YEAR'].isnull(), 0,1)\n",
    "df.sample(200)"
   ],
   "metadata": {
    "collapsed": false,
    "pycharm": {
     "name": "#%%\n"
    }
   }
  },
  {
   "cell_type": "code",
   "execution_count": 12,
   "outputs": [
    {
     "data": {
      "text/plain": "1737       27\n1713       25\n1889       25\n2772       24\n201147     23\n           ..\n1628070     1\n1627815     1\n101178      1\n202731      1\n201619      1\nName: PLAYER_ID, Length: 2040, dtype: int64"
     },
     "execution_count": 12,
     "metadata": {},
     "output_type": "execute_result"
    }
   ],
   "source": [
    "# filter the dataset to only contain players with at least 3 years of stats.\n",
    "\n",
    "values = df['PLAYER_ID'].value_counts()\n",
    "values"
   ],
   "metadata": {
    "collapsed": false,
    "pycharm": {
     "name": "#%%\n"
    }
   }
  },
  {
   "cell_type": "code",
   "execution_count": 13,
   "outputs": [
    {
     "data": {
      "text/plain": "(9842, 34)"
     },
     "execution_count": 13,
     "metadata": {},
     "output_type": "execute_result"
    }
   ],
   "source": [
    "'''\n",
    "because of doing the value count, it has been noticed that players do not play for 27 years.  The reason for 1737 having 27 values is the dataset\n",
    "contains full season stats for players who were traded mid-season (and the individual stats for the different teams that player played on).  These\n",
    "individual stats need to be removed.\n",
    "'''\n",
    "df = df[df['TRADE_SEASON']==0]\n",
    "df.shape"
   ],
   "metadata": {
    "collapsed": false,
    "pycharm": {
     "name": "#%%\n"
    }
   }
  },
  {
   "cell_type": "code",
   "execution_count": 16,
   "outputs": [
    {
     "data": {
      "text/plain": "(8699, 34)"
     },
     "execution_count": 16,
     "metadata": {},
     "output_type": "execute_result"
    }
   ],
   "source": [
    "df = df.groupby('PLAYER_ID').filter(lambda x: len(x) > 2)\n",
    "df.shape"
   ],
   "metadata": {
    "collapsed": false,
    "pycharm": {
     "name": "#%%\n"
    }
   }
  },
  {
   "cell_type": "code",
   "execution_count": 17,
   "outputs": [
    {
     "data": {
      "text/plain": "1713       21\n2037       20\n1717       20\n1891       19\n2199       19\n           ..\n1627743     3\n1114        3\n202698      3\n1628367     3\n203950      3\nName: PLAYER_ID, Length: 1225, dtype: int64"
     },
     "execution_count": 17,
     "metadata": {},
     "output_type": "execute_result"
    }
   ],
   "source": [],
   "metadata": {
    "collapsed": false,
    "pycharm": {
     "name": "#%%\n"
    }
   }
  }
 ],
 "metadata": {
  "kernelspec": {
   "display_name": "Python 3 (ipykernel)",
   "language": "python",
   "name": "python3"
  },
  "language_info": {
   "codemirror_mode": {
    "name": "ipython",
    "version": 3
   },
   "file_extension": ".py",
   "mimetype": "text/x-python",
   "name": "python",
   "nbconvert_exporter": "python",
   "pygments_lexer": "ipython3",
   "version": "3.9.7"
  }
 },
 "nbformat": 4,
 "nbformat_minor": 1
}