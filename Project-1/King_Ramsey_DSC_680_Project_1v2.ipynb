{
 "cells": [
  {
   "cell_type": "markdown",
   "metadata": {
    "collapsed": true,
    "pycharm": {
     "name": "#%% md\n"
    }
   },
   "source": [
    "# Ramsey King\n",
    "# DSC 680 - Applied Data Science\n",
    "# April 9 - 2022"
   ]
  },
  {
   "cell_type": "markdown",
   "source": [
    "###  This Jupyter file will perform the analysis for the author classification project."
   ],
   "metadata": {
    "collapsed": false,
    "pycharm": {
     "name": "#%% md\n"
    }
   }
  },
  {
   "cell_type": "code",
   "execution_count": 3,
   "outputs": [
    {
     "data": {
      "text/plain": "     Unnamed: 0            speaker  \\\n139         139    thomas s monson   \n72           72  gordon b hinckley   \n247          52   russell m nelson   \n656         461      dallin h oaks   \n467         272  gordon b hinckley   \n479         284  gordon b hinckley   \n653         458      dallin h oaks   \n40           40     henry b eyring   \n725         530     henry b eyring   \n581         386    thomas s monson   \n507         312    thomas s monson   \n47           47      dallin h oaks   \n500         305  gordon b hinckley   \n260          65   russell m nelson   \n459         264  gordon b hinckley   \n413         218  gordon b hinckley   \n428         233  gordon b hinckley   \n622         427      dallin h oaks   \n676         481      dallin h oaks   \n434         239  gordon b hinckley   \n620         425      dallin h oaks   \n354         159  jeffrey r holland   \n266          71   russell m nelson   \n274          79   russell m nelson   \n8             8  gordon b hinckley   \n762         567     henry b eyring   \n466         271  gordon b hinckley   \n681         486      dallin h oaks   \n623         428      dallin h oaks   \n303         108     neal a maxwell   \n\n                                                 talks  \n139  My dear young friends, the spirit which permea...  \n72   As I look at this very large congregation, I k...  \n247  We express love and admiration for President H...  \n656  Some years ago I enjoyed a newspaper cartoon t...  \n467  I would be satisfied to close the meeting righ...  \n479  What an exciting and wonderful thing it is to ...  \n653  I bring you greetings from the Philippines Are...  \n40   All of us can remember times in our lives when...  \n725  I am grateful to be with you this evening in t...  \n581  Recently I was looking through some family pho...  \n507  My dear brethren, I am honored by the privileg...  \n47   My dear brothers and sisters, I am grateful fo...  \n500  My beloved brethren and sisters, if I may make...  \n260  Under President Gordon B. Hinckley’s inspired ...  \n459  My beloved brethren and sisters, I accept this...  \n413  My beloved brethren and sisters, we have enjoy...  \n428  My beloved brothers and sisters, on behalf of ...  \n622  We note that the statistical report which has ...  \n676  My dear brethren, this is an important occasio...  \n434  My dear brethren, it is good to be with you in...  \n620  Modern revelation defines truth as a “knowledg...  \n354  Last April, when President Russell M. Nelson i...  \n266  Family love is wonderful. Nothing is as specif...  \n274  Dear brothers and sisters, I join my brethren ...  \n8    Good evening, brothers and sisters. You’re rea...  \n762  I feel blessed to have the opportunity to spea...  \n466  Brethren and sisters, we’ve had a wonderful co...  \n681  Some years ago, an acquaintance of mine who wa...  \n623  My beloved brethren, we have heard a revelator...  \n303  With all of you, brothers and sisters, I expre...  ",
      "text/html": "<div>\n<style scoped>\n    .dataframe tbody tr th:only-of-type {\n        vertical-align: middle;\n    }\n\n    .dataframe tbody tr th {\n        vertical-align: top;\n    }\n\n    .dataframe thead th {\n        text-align: right;\n    }\n</style>\n<table border=\"1\" class=\"dataframe\">\n  <thead>\n    <tr style=\"text-align: right;\">\n      <th></th>\n      <th>Unnamed: 0</th>\n      <th>speaker</th>\n      <th>talks</th>\n    </tr>\n  </thead>\n  <tbody>\n    <tr>\n      <th>139</th>\n      <td>139</td>\n      <td>thomas s monson</td>\n      <td>My dear young friends, the spirit which permea...</td>\n    </tr>\n    <tr>\n      <th>72</th>\n      <td>72</td>\n      <td>gordon b hinckley</td>\n      <td>As I look at this very large congregation, I k...</td>\n    </tr>\n    <tr>\n      <th>247</th>\n      <td>52</td>\n      <td>russell m nelson</td>\n      <td>We express love and admiration for President H...</td>\n    </tr>\n    <tr>\n      <th>656</th>\n      <td>461</td>\n      <td>dallin h oaks</td>\n      <td>Some years ago I enjoyed a newspaper cartoon t...</td>\n    </tr>\n    <tr>\n      <th>467</th>\n      <td>272</td>\n      <td>gordon b hinckley</td>\n      <td>I would be satisfied to close the meeting righ...</td>\n    </tr>\n    <tr>\n      <th>479</th>\n      <td>284</td>\n      <td>gordon b hinckley</td>\n      <td>What an exciting and wonderful thing it is to ...</td>\n    </tr>\n    <tr>\n      <th>653</th>\n      <td>458</td>\n      <td>dallin h oaks</td>\n      <td>I bring you greetings from the Philippines Are...</td>\n    </tr>\n    <tr>\n      <th>40</th>\n      <td>40</td>\n      <td>henry b eyring</td>\n      <td>All of us can remember times in our lives when...</td>\n    </tr>\n    <tr>\n      <th>725</th>\n      <td>530</td>\n      <td>henry b eyring</td>\n      <td>I am grateful to be with you this evening in t...</td>\n    </tr>\n    <tr>\n      <th>581</th>\n      <td>386</td>\n      <td>thomas s monson</td>\n      <td>Recently I was looking through some family pho...</td>\n    </tr>\n    <tr>\n      <th>507</th>\n      <td>312</td>\n      <td>thomas s monson</td>\n      <td>My dear brethren, I am honored by the privileg...</td>\n    </tr>\n    <tr>\n      <th>47</th>\n      <td>47</td>\n      <td>dallin h oaks</td>\n      <td>My dear brothers and sisters, I am grateful fo...</td>\n    </tr>\n    <tr>\n      <th>500</th>\n      <td>305</td>\n      <td>gordon b hinckley</td>\n      <td>My beloved brethren and sisters, if I may make...</td>\n    </tr>\n    <tr>\n      <th>260</th>\n      <td>65</td>\n      <td>russell m nelson</td>\n      <td>Under President Gordon B. Hinckley’s inspired ...</td>\n    </tr>\n    <tr>\n      <th>459</th>\n      <td>264</td>\n      <td>gordon b hinckley</td>\n      <td>My beloved brethren and sisters, I accept this...</td>\n    </tr>\n    <tr>\n      <th>413</th>\n      <td>218</td>\n      <td>gordon b hinckley</td>\n      <td>My beloved brethren and sisters, we have enjoy...</td>\n    </tr>\n    <tr>\n      <th>428</th>\n      <td>233</td>\n      <td>gordon b hinckley</td>\n      <td>My beloved brothers and sisters, on behalf of ...</td>\n    </tr>\n    <tr>\n      <th>622</th>\n      <td>427</td>\n      <td>dallin h oaks</td>\n      <td>We note that the statistical report which has ...</td>\n    </tr>\n    <tr>\n      <th>676</th>\n      <td>481</td>\n      <td>dallin h oaks</td>\n      <td>My dear brethren, this is an important occasio...</td>\n    </tr>\n    <tr>\n      <th>434</th>\n      <td>239</td>\n      <td>gordon b hinckley</td>\n      <td>My dear brethren, it is good to be with you in...</td>\n    </tr>\n    <tr>\n      <th>620</th>\n      <td>425</td>\n      <td>dallin h oaks</td>\n      <td>Modern revelation defines truth as a “knowledg...</td>\n    </tr>\n    <tr>\n      <th>354</th>\n      <td>159</td>\n      <td>jeffrey r holland</td>\n      <td>Last April, when President Russell M. Nelson i...</td>\n    </tr>\n    <tr>\n      <th>266</th>\n      <td>71</td>\n      <td>russell m nelson</td>\n      <td>Family love is wonderful. Nothing is as specif...</td>\n    </tr>\n    <tr>\n      <th>274</th>\n      <td>79</td>\n      <td>russell m nelson</td>\n      <td>Dear brothers and sisters, I join my brethren ...</td>\n    </tr>\n    <tr>\n      <th>8</th>\n      <td>8</td>\n      <td>gordon b hinckley</td>\n      <td>Good evening, brothers and sisters. You’re rea...</td>\n    </tr>\n    <tr>\n      <th>762</th>\n      <td>567</td>\n      <td>henry b eyring</td>\n      <td>I feel blessed to have the opportunity to spea...</td>\n    </tr>\n    <tr>\n      <th>466</th>\n      <td>271</td>\n      <td>gordon b hinckley</td>\n      <td>Brethren and sisters, we’ve had a wonderful co...</td>\n    </tr>\n    <tr>\n      <th>681</th>\n      <td>486</td>\n      <td>dallin h oaks</td>\n      <td>Some years ago, an acquaintance of mine who wa...</td>\n    </tr>\n    <tr>\n      <th>623</th>\n      <td>428</td>\n      <td>dallin h oaks</td>\n      <td>My beloved brethren, we have heard a revelator...</td>\n    </tr>\n    <tr>\n      <th>303</th>\n      <td>108</td>\n      <td>neal a maxwell</td>\n      <td>With all of you, brothers and sisters, I expre...</td>\n    </tr>\n  </tbody>\n</table>\n</div>"
     },
     "execution_count": 3,
     "metadata": {},
     "output_type": "execute_result"
    }
   ],
   "source": [
    "# Load the author and speech text dataset, and necessary libraries to use.\n",
    "\n",
    "import pandas as pd\n",
    "import re\n",
    "import string\n",
    "from nltk.corpus import stopwords\n",
    "from nltk.stem import WordNetLemmatizer\n",
    "from sklearn.preprocessing import LabelEncoder\n",
    "from sklearn.feature_extraction.text import CountVectorizer\n",
    "from sklearn.model_selection import train_test_split\n",
    "from sklearn.naive_bayes import MultinomialNB\n",
    "\n",
    "\n",
    "df = pd.read_csv('talk_corpus.csv')\n",
    "df.sample(30)"
   ],
   "metadata": {
    "collapsed": false,
    "pycharm": {
     "name": "#%%\n"
    }
   }
  },
  {
   "cell_type": "code",
   "execution_count": 4,
   "outputs": [],
   "source": [
    "# text processing can begin now.  Punctuation removal, lemmatisation, stop word removal will all take place here.\n",
    "\n",
    "lemmatiser = WordNetLemmatizer()\n",
    "\n",
    "# function to process the text.\n",
    "\n",
    "def process_text(text):\n",
    "    stripped_punc = [char for char in text if char not in string.punctuation]\n",
    "    stripped_punc = ''.join(stripped_punc)\n",
    "\n",
    "    a, i = '', 0\n",
    "    for i in range(len(stripped_punc.split())):\n",
    "        b = lemmatiser.lemmatize(stripped_punc.split()[i], pos='v')\n",
    "        a = a + b + ' '\n",
    "\n",
    "    return [word for word in a.split() if word.lower() not in stopwords.words('english')]"
   ],
   "metadata": {
    "collapsed": false,
    "pycharm": {
     "name": "#%%\n"
    }
   }
  },
  {
   "cell_type": "code",
   "execution_count": 5,
   "outputs": [],
   "source": [
    "y = df['talks']\n",
    "labelencoder = LabelEncoder()\n",
    "y = labelencoder.fit_transform(y)"
   ],
   "metadata": {
    "collapsed": false,
    "pycharm": {
     "name": "#%%\n"
    }
   }
  },
  {
   "cell_type": "code",
   "execution_count": 11,
   "outputs": [],
   "source": [
    "# Feature Engineering using BOW\n",
    "X = df['talks']\n",
    "\n",
    "# import nltk\n",
    "# nltk.download('wordnet')\n",
    "# nltk.download('stopwords')\n",
    "\n",
    "X_train, X_test, y_train, y_test = train_test_split(X, y\n",
    "                                  ,test_size=0.2, random_state=1234)\n",
    "\n",
    "bow_transformer=CountVectorizer(analyzer=process_text).fit(X_train)\n",
    "\n",
    "text_bow_train=bow_transformer.transform(X_train)\n",
    "\n",
    "text_bow_test=bow_transformer.transform(X_test)"
   ],
   "metadata": {
    "collapsed": false,
    "pycharm": {
     "name": "#%%\n"
    }
   }
  },
  {
   "cell_type": "code",
   "execution_count": 12,
   "outputs": [],
   "source": [
    "# Training the model\n",
    "model = MultinomialNB()\n",
    "model = model.fit(text_bow_train, y_train)\n"
   ],
   "metadata": {
    "collapsed": false,
    "pycharm": {
     "name": "#%%\n"
    }
   }
  },
  {
   "cell_type": "code",
   "execution_count": 13,
   "outputs": [
    {
     "data": {
      "text/plain": "0.9039370078740158"
     },
     "execution_count": 13,
     "metadata": {},
     "output_type": "execute_result"
    }
   ],
   "source": [
    "# Training accuracy\n",
    "\n",
    "model.score(text_bow_train, y_train)"
   ],
   "metadata": {
    "collapsed": false,
    "pycharm": {
     "name": "#%%\n"
    }
   }
  },
  {
   "cell_type": "code",
   "execution_count": 14,
   "outputs": [
    {
     "data": {
      "text/plain": "0.006289308176100629"
     },
     "execution_count": 14,
     "metadata": {},
     "output_type": "execute_result"
    }
   ],
   "source": [
    "# Validation accuracy\n",
    "\n",
    "model.score(text_bow_test, y_test)"
   ],
   "metadata": {
    "collapsed": false,
    "pycharm": {
     "name": "#%%\n"
    }
   }
  }
 ],
 "metadata": {
  "kernelspec": {
   "display_name": "Python 3",
   "language": "python",
   "name": "python3"
  },
  "language_info": {
   "codemirror_mode": {
    "name": "ipython",
    "version": 2
   },
   "file_extension": ".py",
   "mimetype": "text/x-python",
   "name": "python",
   "nbconvert_exporter": "python",
   "pygments_lexer": "ipython2",
   "version": "2.7.6"
  }
 },
 "nbformat": 4,
 "nbformat_minor": 0
}