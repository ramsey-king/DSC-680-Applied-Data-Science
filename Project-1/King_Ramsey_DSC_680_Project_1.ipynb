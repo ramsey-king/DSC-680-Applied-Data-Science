{
 "cells": [
  {
   "cell_type": "markdown",
   "metadata": {
    "collapsed": true,
    "pycharm": {
     "name": "#%% md\n"
    }
   },
   "source": [
    "# Ramsey King\n",
    "# DSC 680 - Applied Data Science\n",
    "# April 9 - 2022"
   ]
  },
  {
   "cell_type": "markdown",
   "source": [
    "###  This Jupyter file will pull the talk information down from the websites speeches.byu.edu and www.churchofjesuschrist.org/study/general-conference/speakers"
   ],
   "metadata": {
    "collapsed": false,
    "pycharm": {
     "name": "#%% md\n"
    }
   }
  },
  {
   "cell_type": "code",
   "execution_count": 40,
   "outputs": [],
   "source": [
    "# Retrieve talks by speaker on speeches.byu.edu using BeautifulSoup\n",
    "\n",
    "from bs4 import BeautifulSoup as bs\n",
    "import requests\n",
    "# import numpy as np\n",
    "import pandas as pd\n",
    "import matplotlib.pyplot as plt\n",
    "import re"
   ],
   "metadata": {
    "collapsed": false,
    "pycharm": {
     "name": "#%%\n"
    }
   }
  },
  {
   "cell_type": "code",
   "execution_count": 41,
   "outputs": [],
   "source": [
    "# Get list of urls for each of the topics\n",
    "# For my reference, number of talks by speaker:  Nelson - 22, Maxwell - 30, Holland - 27, Hinckley - 41, Monson - 14, Oaks - 35, Eyring - 25 (Total - 194)\n",
    "url = \"https://speeches.byu.edu/speakers/\"\n",
    "\n",
    "url_list = [\n",
    "    'russell-m-nelson/', 'neal-a-maxwell/', 'jeffrey-r-holland/', 'gordon-b-hinckley/', 'thomas-s-monson/',\n",
    "    'dallin-h-oaks', 'henry-b-eyring'\n",
    "]\n",
    "\n",
    "links = []\n",
    "new_links = []\n",
    "\n",
    "# some of the links are repeated with '?M=V' and '?M=A' and those will be removed so we can have a unique set of links to pull talk information from.\n",
    "\n",
    "for u in url_list:\n",
    "    response = requests.get(url+u)\n",
    "    html = response.content\n",
    "    video = '?M=V'\n",
    "    soup = bs(html, 'lxml')\n",
    "    for link in soup.findAll(\"a\", attrs={'href': re.compile(\"^https://speeches.byu.edu/talks/[\\D+]\")}):\n",
    "        links.append(link.get('href').replace(video, ''))\n",
    "\n",
    "    audio = '?M=A'\n",
    "    for link in links:\n",
    "        new_link = link.replace(audio, '')\n",
    "        new_links.append(new_link)\n",
    "    new_links = list(set(new_links))\n",
    "\n"
   ],
   "metadata": {
    "collapsed": false,
    "pycharm": {
     "name": "#%%\n"
    }
   }
  },
  {
   "cell_type": "code",
   "execution_count": 42,
   "outputs": [
    {
     "data": {
      "text/plain": "195"
     },
     "execution_count": 42,
     "metadata": {},
     "output_type": "execute_result"
    }
   ],
   "source": [
    "len(new_links)"
   ],
   "metadata": {
    "collapsed": false,
    "pycharm": {
     "name": "#%%\n"
    }
   }
  },
  {
   "cell_type": "code",
   "execution_count": 43,
   "outputs": [
    {
     "data": {
      "text/plain": "               speaker                                              talks\n149     neal a maxwell  I welcome you to a Christian campus where disc...\n153  jeffrey r holland  I really don’t want to apologize for being her...\n79      neal a maxwell  I give my sincere appreciation to President Le...\n26   gordon b hinckley  It is a wonderful thing we do in honoring the ...\n183     henry b eyring  I am grateful for the music, the prayer, and t...\n101      dallin h oaks  My dear brothers and sisters—students, teacher...\n145     henry b eyring  I am grateful for the prayer, for the music, f...\n74   gordon b hinckley  It is an honor and a rare privilege to speak t...\n49     thomas s monson  I drove here today in a snowstorm, and my thou...\n23       dallin h oaks  Sister Oaks and I are glad to be with you this...\n132  gordon b hinckley  Pioneers early and modern have made immense sa...\n61   gordon b hinckley  My dear friends, I am honored by the opportuni...\n177   russell m nelson  Sister Nelson and I are very grateful to be wi...\n152  gordon b hinckley  Good evening, brothers and sisters. You’re rea...\n72   gordon b hinckley  Conversion to the gospel of Jesus Christ has l...",
      "text/html": "<div>\n<style scoped>\n    .dataframe tbody tr th:only-of-type {\n        vertical-align: middle;\n    }\n\n    .dataframe tbody tr th {\n        vertical-align: top;\n    }\n\n    .dataframe thead th {\n        text-align: right;\n    }\n</style>\n<table border=\"1\" class=\"dataframe\">\n  <thead>\n    <tr style=\"text-align: right;\">\n      <th></th>\n      <th>speaker</th>\n      <th>talks</th>\n    </tr>\n  </thead>\n  <tbody>\n    <tr>\n      <th>149</th>\n      <td>neal a maxwell</td>\n      <td>I welcome you to a Christian campus where disc...</td>\n    </tr>\n    <tr>\n      <th>153</th>\n      <td>jeffrey r holland</td>\n      <td>I really don’t want to apologize for being her...</td>\n    </tr>\n    <tr>\n      <th>79</th>\n      <td>neal a maxwell</td>\n      <td>I give my sincere appreciation to President Le...</td>\n    </tr>\n    <tr>\n      <th>26</th>\n      <td>gordon b hinckley</td>\n      <td>It is a wonderful thing we do in honoring the ...</td>\n    </tr>\n    <tr>\n      <th>183</th>\n      <td>henry b eyring</td>\n      <td>I am grateful for the music, the prayer, and t...</td>\n    </tr>\n    <tr>\n      <th>101</th>\n      <td>dallin h oaks</td>\n      <td>My dear brothers and sisters—students, teacher...</td>\n    </tr>\n    <tr>\n      <th>145</th>\n      <td>henry b eyring</td>\n      <td>I am grateful for the prayer, for the music, f...</td>\n    </tr>\n    <tr>\n      <th>74</th>\n      <td>gordon b hinckley</td>\n      <td>It is an honor and a rare privilege to speak t...</td>\n    </tr>\n    <tr>\n      <th>49</th>\n      <td>thomas s monson</td>\n      <td>I drove here today in a snowstorm, and my thou...</td>\n    </tr>\n    <tr>\n      <th>23</th>\n      <td>dallin h oaks</td>\n      <td>Sister Oaks and I are glad to be with you this...</td>\n    </tr>\n    <tr>\n      <th>132</th>\n      <td>gordon b hinckley</td>\n      <td>Pioneers early and modern have made immense sa...</td>\n    </tr>\n    <tr>\n      <th>61</th>\n      <td>gordon b hinckley</td>\n      <td>My dear friends, I am honored by the opportuni...</td>\n    </tr>\n    <tr>\n      <th>177</th>\n      <td>russell m nelson</td>\n      <td>Sister Nelson and I are very grateful to be wi...</td>\n    </tr>\n    <tr>\n      <th>152</th>\n      <td>gordon b hinckley</td>\n      <td>Good evening, brothers and sisters. You’re rea...</td>\n    </tr>\n    <tr>\n      <th>72</th>\n      <td>gordon b hinckley</td>\n      <td>Conversion to the gospel of Jesus Christ has l...</td>\n    </tr>\n  </tbody>\n</table>\n</div>"
     },
     "execution_count": 43,
     "metadata": {},
     "output_type": "execute_result"
    }
   ],
   "source": [
    "# We may have one duplicate, so something to be aware when we pull the talk data.\n",
    "\n",
    "'''Retrieves talk text from each of the urls using beautiful soup.  Information such as the talk/sermon text, title, topic, date, and speaker will be retreived\n",
    "and put into a dataframe.  A csv file will also be saved due to the time it takes to run or in case we need to work offline.'''\n",
    "talk_text = []\n",
    "title_text = []\n",
    "topics = []\n",
    "dates = []\n",
    "speakers = []\n",
    "speaker_position = []\n",
    "\n",
    "for link in new_links:\n",
    "    url = link\n",
    "    response = requests.get(url)\n",
    "    html = response.content\n",
    "    soup = bs(html, 'lxml')\n",
    "    temp_list = []\n",
    "\n",
    "    link_splitter = link.split('/')\n",
    "    speakers.append(link_splitter[4].replace('-', ' '))\n",
    "\n",
    "    result = soup.find('p', class_='single-speech__speaker-subtext single-speech__speaker-position')\n",
    "    speaker_position.append(result.text if result else 'Title Not Found')\n",
    "\n",
    "    for div in soup.find_all('div', class_='single-speech__content'):\n",
    "        talk_text.append(div.get_text(strip=True))\n",
    "\n",
    "dict_speeches_byu = {'speaker': speakers,'talks': talk_text}\n",
    "df = pd.DataFrame(dict_speeches_byu)\n",
    "\n",
    "df.sample(15)"
   ],
   "metadata": {
    "collapsed": false,
    "pycharm": {
     "name": "#%%\n"
    }
   }
  },
  {
   "cell_type": "code",
   "execution_count": 44,
   "outputs": [],
   "source": [
    "# Now to pull information from the church general conference website.\n",
    "\n",
    "# Get list of urls for each of the topics\n",
    "gc_url = \"https://www.churchofjesuschrist.org/study/general-conference/speakers/\"\n",
    "\n",
    "gc_url_list = [\n",
    "    'russell-m-nelson/', 'neal-a-maxwell/', 'jeffrey-r-holland/', 'gordon-b-hinckley/', 'thomas-s-monson/',\n",
    "    'dallin-h-oaks', 'henry-b-eyring'\n",
    "]\n",
    "\n",
    "links = []\n",
    "\n",
    "for u in gc_url_list:\n",
    "    response = requests.get(gc_url+u)\n",
    "    html = response.content\n",
    "    soup = bs(html, 'lxml')\n",
    "    for link in soup.findAll(\"a\", attrs={'href': re.compile(\"^/study/general-conference/\\w+/(?:\\w+/)(?:\\w+)\")}):\n",
    "        links.append(link.get('href'))"
   ],
   "metadata": {
    "collapsed": false,
    "pycharm": {
     "name": "#%%\n"
    }
   }
  },
  {
   "cell_type": "code",
   "execution_count": 45,
   "outputs": [
    {
     "data": {
      "text/plain": "               speaker                                              talks\n25    russell m nelson  My dear brothers and sisters, we have looked f...\n414      dallin h oaks  Brothers and sisters, I will now present the G...\n423      dallin h oaks  The restored gospel of Jesus Christ encourages...\n4     russell m nelson  My dear brothers and sisters, I am grateful fo...\n277  gordon b hinckley  My dearly beloved brethren and sisters, what a...\n220  gordon b hinckley  My brothers and sisters, as we gather in anoth...\n245  gordon b hinckley  Someone has said: “Be kind to the women. They ...\n313    thomas s monson  My beloved brothers and sisters, both here in ...\n217  gordon b hinckley  My dear brethren of the priesthood, what an in...\n413      dallin h oaks  In a Saturday evening meeting at a stake confe...\n149     neal a maxwell  My fellowmen, it matters so very much how we r...\n589     henry b eyring  Each year, hundreds of thousands of the childr...\n320    thomas s monson  My beloved brothers and sisters, how grateful ...\n33    russell m nelson  My dear brothers and sisters, we live in a mos...\n552     henry b eyring  I heard President Spencer W. Kimball, in a ses...",
      "text/html": "<div>\n<style scoped>\n    .dataframe tbody tr th:only-of-type {\n        vertical-align: middle;\n    }\n\n    .dataframe tbody tr th {\n        vertical-align: top;\n    }\n\n    .dataframe thead th {\n        text-align: right;\n    }\n</style>\n<table border=\"1\" class=\"dataframe\">\n  <thead>\n    <tr style=\"text-align: right;\">\n      <th></th>\n      <th>speaker</th>\n      <th>talks</th>\n    </tr>\n  </thead>\n  <tbody>\n    <tr>\n      <th>25</th>\n      <td>russell m nelson</td>\n      <td>My dear brothers and sisters, we have looked f...</td>\n    </tr>\n    <tr>\n      <th>414</th>\n      <td>dallin h oaks</td>\n      <td>Brothers and sisters, I will now present the G...</td>\n    </tr>\n    <tr>\n      <th>423</th>\n      <td>dallin h oaks</td>\n      <td>The restored gospel of Jesus Christ encourages...</td>\n    </tr>\n    <tr>\n      <th>4</th>\n      <td>russell m nelson</td>\n      <td>My dear brothers and sisters, I am grateful fo...</td>\n    </tr>\n    <tr>\n      <th>277</th>\n      <td>gordon b hinckley</td>\n      <td>My dearly beloved brethren and sisters, what a...</td>\n    </tr>\n    <tr>\n      <th>220</th>\n      <td>gordon b hinckley</td>\n      <td>My brothers and sisters, as we gather in anoth...</td>\n    </tr>\n    <tr>\n      <th>245</th>\n      <td>gordon b hinckley</td>\n      <td>Someone has said: “Be kind to the women. They ...</td>\n    </tr>\n    <tr>\n      <th>313</th>\n      <td>thomas s monson</td>\n      <td>My beloved brothers and sisters, both here in ...</td>\n    </tr>\n    <tr>\n      <th>217</th>\n      <td>gordon b hinckley</td>\n      <td>My dear brethren of the priesthood, what an in...</td>\n    </tr>\n    <tr>\n      <th>413</th>\n      <td>dallin h oaks</td>\n      <td>In a Saturday evening meeting at a stake confe...</td>\n    </tr>\n    <tr>\n      <th>149</th>\n      <td>neal a maxwell</td>\n      <td>My fellowmen, it matters so very much how we r...</td>\n    </tr>\n    <tr>\n      <th>589</th>\n      <td>henry b eyring</td>\n      <td>Each year, hundreds of thousands of the childr...</td>\n    </tr>\n    <tr>\n      <th>320</th>\n      <td>thomas s monson</td>\n      <td>My beloved brothers and sisters, how grateful ...</td>\n    </tr>\n    <tr>\n      <th>33</th>\n      <td>russell m nelson</td>\n      <td>My dear brothers and sisters, we live in a mos...</td>\n    </tr>\n    <tr>\n      <th>552</th>\n      <td>henry b eyring</td>\n      <td>I heard President Spencer W. Kimball, in a ses...</td>\n    </tr>\n  </tbody>\n</table>\n</div>"
     },
     "execution_count": 45,
     "metadata": {},
     "output_type": "execute_result"
    }
   ],
   "source": [
    "talk_text = []\n",
    "speakers = []\n",
    "\n",
    "for link in links:\n",
    "    url = 'https://www.churchofjesuschrist.org'+link\n",
    "    response = requests.get(url)\n",
    "    html = response.content\n",
    "    soup = bs(html, 'lxml')\n",
    "\n",
    "    sermon_name = soup.find_all('div', class_='byline')\n",
    "    # This is basically a switch statement that will allow for the speaker column to have the same format as the dataframe speeches.byu.edu dataframe created above.\n",
    "    for x in sermon_name:\n",
    "        if 'nelson' in x.find('p').text.lower():\n",
    "            speakers.append('russell m nelson')\n",
    "        elif 'maxwell' in x.find('p').text.lower():\n",
    "            speakers.append('neal a maxwell')\n",
    "        elif 'holland' in x.find('p').text.lower():\n",
    "            speakers.append('jeffrey r holland')\n",
    "        elif 'hinckley' in x.find('p').text.lower():\n",
    "            speakers.append('gordon b hinckley')\n",
    "        elif 'monson' in x.find('p').text.lower():\n",
    "            speakers.append('thomas s monson')\n",
    "        elif 'oaks' in x.find('p').text.lower():\n",
    "            speakers.append('dallin h oaks')\n",
    "        else:\n",
    "            speakers.append('henry b eyring')\n",
    "\n",
    "    for div in soup.find_all('div', class_='body-block'):\n",
    "        talk_text.append(div.get_text(separator= ' ', strip=True))\n",
    "\n",
    "dict_gc = {'speaker': speakers,'talks': talk_text}\n",
    "df_gc = pd.DataFrame(dict_gc)\n",
    "\n",
    "df_gc.sample(15)"
   ],
   "metadata": {
    "collapsed": false,
    "pycharm": {
     "name": "#%%\n"
    }
   }
  },
  {
   "cell_type": "code",
   "execution_count": 46,
   "outputs": [
    {
     "data": {
      "text/plain": "               speaker                                              talks\n83     thomas s monson  When we have important decisions to make, the ...\n218  gordon b hinckley  My beloved brethren and sisters, we have enjoy...\n494      dallin h oaks  Recently our family was viewing what was suppo...\n490      dallin h oaks  In April 1830 the Lord commanded the members o...\n220  gordon b hinckley  My brothers and sisters, as we gather in anoth...\n344    thomas s monson  My dear young sisters, the responsibility to a...\n232  gordon b hinckley  My brothers and sisters, as we have been remin...\n119     neal a maxwell  As I raised my arm this morning, I raise my vo...\n68    russell m nelson  Not long after my call to serve as one of the ...\n442      dallin h oaks  “What think ye of Christ?” ( Matthew 22:42 ). ...\n183  jeffrey r holland  Not long after our friend Carolyn Rasmus joine...\n414      dallin h oaks  Brothers and sisters, I will now present the G...\n496      dallin h oaks  On this Easter Sunday we rejoice in the resurr...\n229  gordon b hinckley  My dear brethren of the priesthood, wherever y...\n459      dallin h oaks  In one of the times of spiritual and temporal ...\n99    russell m nelson  Unitedly we thank the Almighty for the wondrou...\n257  gordon b hinckley  My beloved brethren and sisters, we greet you ...\n167  jeffrey r holland  I thought perhaps we’d have four or five peopl...\n366    thomas s monson  Brethren, we are assembled as a mighty body of...\n440      dallin h oaks  We can all remember our feelings when a little...\n42    russell m nelson  My beloved brothers, sisters, and friends, we ...\n557     henry b eyring  My dear brothers and sisters, the purpose of m...\n152  gordon b hinckley  Good evening, brothers and sisters. You’re rea...\n566     henry b eyring  I am grateful to be with you tonight. I expres...\n160     neal a maxwell  What a delightful and moving musical presentat...\n558     henry b eyring  I am grateful to be with you in this meeting o...\n157  jeffrey r holland  Brothers and sisters, this is Sammy Ho Ching, ...\n89    russell m nelson  Sister Nelson and I are happy to be with you. ...\n100     neal a maxwell  Brethren, please allow me to reminisce informa...\n192  jeffrey r holland  Among the most memorable parables the Savior e...\n419      dallin h oaks  Brothers and sisters, I will now present to yo...\n118     neal a maxwell  I join in welcoming Elder Henry B. Eyring to t...\n205  jeffrey r holland  The hours that lay immediately ahead would cha...\n379    thomas s monson  I’ve been attending conference for a long time...\n486      dallin h oaks  Some years ago, an acquaintance of mine who wa...\n404    thomas s monson  My dear brothers and sisters, both within my v...\n175      dallin h oaks  My dear brothers and sisters, a commencement e...\n411      dallin h oaks  Many years ago, Elder Mark E. Petersen, a memb...\n140   russell m nelson  Our being here reminds us of those days when w...\n53    russell m nelson  Last year while Elder David S. Baxter and I we...\n87    russell m nelson  Not long ago a beautiful young mother asked me...\n415      dallin h oaks  In the final days of His mortal life, Jesus Ch...\n489      dallin h oaks  “What think ye of Christ?” ( Matt. 22:42 .) Th...\n28      neal a maxwell  In this 1993 Provo Freedom Festival fireside, ...\n199  jeffrey r holland  As modern winds of immorality swirl luridly ar...\n93    russell m nelson  My dear brothers and sisters, Wendy and I have...\n234  gordon b hinckley  My dear brethren, we’ve had a wonderful meetin...\n174     henry b eyring  I am grateful to be with you at the start of t...\n457      dallin h oaks  In modern revelation we have the promise that ...\n154   russell m nelson  Thank you, Elder Oaks, for your very important...",
      "text/html": "<div>\n<style scoped>\n    .dataframe tbody tr th:only-of-type {\n        vertical-align: middle;\n    }\n\n    .dataframe tbody tr th {\n        vertical-align: top;\n    }\n\n    .dataframe thead th {\n        text-align: right;\n    }\n</style>\n<table border=\"1\" class=\"dataframe\">\n  <thead>\n    <tr style=\"text-align: right;\">\n      <th></th>\n      <th>speaker</th>\n      <th>talks</th>\n    </tr>\n  </thead>\n  <tbody>\n    <tr>\n      <th>83</th>\n      <td>thomas s monson</td>\n      <td>When we have important decisions to make, the ...</td>\n    </tr>\n    <tr>\n      <th>218</th>\n      <td>gordon b hinckley</td>\n      <td>My beloved brethren and sisters, we have enjoy...</td>\n    </tr>\n    <tr>\n      <th>494</th>\n      <td>dallin h oaks</td>\n      <td>Recently our family was viewing what was suppo...</td>\n    </tr>\n    <tr>\n      <th>490</th>\n      <td>dallin h oaks</td>\n      <td>In April 1830 the Lord commanded the members o...</td>\n    </tr>\n    <tr>\n      <th>220</th>\n      <td>gordon b hinckley</td>\n      <td>My brothers and sisters, as we gather in anoth...</td>\n    </tr>\n    <tr>\n      <th>344</th>\n      <td>thomas s monson</td>\n      <td>My dear young sisters, the responsibility to a...</td>\n    </tr>\n    <tr>\n      <th>232</th>\n      <td>gordon b hinckley</td>\n      <td>My brothers and sisters, as we have been remin...</td>\n    </tr>\n    <tr>\n      <th>119</th>\n      <td>neal a maxwell</td>\n      <td>As I raised my arm this morning, I raise my vo...</td>\n    </tr>\n    <tr>\n      <th>68</th>\n      <td>russell m nelson</td>\n      <td>Not long after my call to serve as one of the ...</td>\n    </tr>\n    <tr>\n      <th>442</th>\n      <td>dallin h oaks</td>\n      <td>“What think ye of Christ?” ( Matthew 22:42 ). ...</td>\n    </tr>\n    <tr>\n      <th>183</th>\n      <td>jeffrey r holland</td>\n      <td>Not long after our friend Carolyn Rasmus joine...</td>\n    </tr>\n    <tr>\n      <th>414</th>\n      <td>dallin h oaks</td>\n      <td>Brothers and sisters, I will now present the G...</td>\n    </tr>\n    <tr>\n      <th>496</th>\n      <td>dallin h oaks</td>\n      <td>On this Easter Sunday we rejoice in the resurr...</td>\n    </tr>\n    <tr>\n      <th>229</th>\n      <td>gordon b hinckley</td>\n      <td>My dear brethren of the priesthood, wherever y...</td>\n    </tr>\n    <tr>\n      <th>459</th>\n      <td>dallin h oaks</td>\n      <td>In one of the times of spiritual and temporal ...</td>\n    </tr>\n    <tr>\n      <th>99</th>\n      <td>russell m nelson</td>\n      <td>Unitedly we thank the Almighty for the wondrou...</td>\n    </tr>\n    <tr>\n      <th>257</th>\n      <td>gordon b hinckley</td>\n      <td>My beloved brethren and sisters, we greet you ...</td>\n    </tr>\n    <tr>\n      <th>167</th>\n      <td>jeffrey r holland</td>\n      <td>I thought perhaps we’d have four or five peopl...</td>\n    </tr>\n    <tr>\n      <th>366</th>\n      <td>thomas s monson</td>\n      <td>Brethren, we are assembled as a mighty body of...</td>\n    </tr>\n    <tr>\n      <th>440</th>\n      <td>dallin h oaks</td>\n      <td>We can all remember our feelings when a little...</td>\n    </tr>\n    <tr>\n      <th>42</th>\n      <td>russell m nelson</td>\n      <td>My beloved brothers, sisters, and friends, we ...</td>\n    </tr>\n    <tr>\n      <th>557</th>\n      <td>henry b eyring</td>\n      <td>My dear brothers and sisters, the purpose of m...</td>\n    </tr>\n    <tr>\n      <th>152</th>\n      <td>gordon b hinckley</td>\n      <td>Good evening, brothers and sisters. You’re rea...</td>\n    </tr>\n    <tr>\n      <th>566</th>\n      <td>henry b eyring</td>\n      <td>I am grateful to be with you tonight. I expres...</td>\n    </tr>\n    <tr>\n      <th>160</th>\n      <td>neal a maxwell</td>\n      <td>What a delightful and moving musical presentat...</td>\n    </tr>\n    <tr>\n      <th>558</th>\n      <td>henry b eyring</td>\n      <td>I am grateful to be with you in this meeting o...</td>\n    </tr>\n    <tr>\n      <th>157</th>\n      <td>jeffrey r holland</td>\n      <td>Brothers and sisters, this is Sammy Ho Ching, ...</td>\n    </tr>\n    <tr>\n      <th>89</th>\n      <td>russell m nelson</td>\n      <td>Sister Nelson and I are happy to be with you. ...</td>\n    </tr>\n    <tr>\n      <th>100</th>\n      <td>neal a maxwell</td>\n      <td>Brethren, please allow me to reminisce informa...</td>\n    </tr>\n    <tr>\n      <th>192</th>\n      <td>jeffrey r holland</td>\n      <td>Among the most memorable parables the Savior e...</td>\n    </tr>\n    <tr>\n      <th>419</th>\n      <td>dallin h oaks</td>\n      <td>Brothers and sisters, I will now present to yo...</td>\n    </tr>\n    <tr>\n      <th>118</th>\n      <td>neal a maxwell</td>\n      <td>I join in welcoming Elder Henry B. Eyring to t...</td>\n    </tr>\n    <tr>\n      <th>205</th>\n      <td>jeffrey r holland</td>\n      <td>The hours that lay immediately ahead would cha...</td>\n    </tr>\n    <tr>\n      <th>379</th>\n      <td>thomas s monson</td>\n      <td>I’ve been attending conference for a long time...</td>\n    </tr>\n    <tr>\n      <th>486</th>\n      <td>dallin h oaks</td>\n      <td>Some years ago, an acquaintance of mine who wa...</td>\n    </tr>\n    <tr>\n      <th>404</th>\n      <td>thomas s monson</td>\n      <td>My dear brothers and sisters, both within my v...</td>\n    </tr>\n    <tr>\n      <th>175</th>\n      <td>dallin h oaks</td>\n      <td>My dear brothers and sisters, a commencement e...</td>\n    </tr>\n    <tr>\n      <th>411</th>\n      <td>dallin h oaks</td>\n      <td>Many years ago, Elder Mark E. Petersen, a memb...</td>\n    </tr>\n    <tr>\n      <th>140</th>\n      <td>russell m nelson</td>\n      <td>Our being here reminds us of those days when w...</td>\n    </tr>\n    <tr>\n      <th>53</th>\n      <td>russell m nelson</td>\n      <td>Last year while Elder David S. Baxter and I we...</td>\n    </tr>\n    <tr>\n      <th>87</th>\n      <td>russell m nelson</td>\n      <td>Not long ago a beautiful young mother asked me...</td>\n    </tr>\n    <tr>\n      <th>415</th>\n      <td>dallin h oaks</td>\n      <td>In the final days of His mortal life, Jesus Ch...</td>\n    </tr>\n    <tr>\n      <th>489</th>\n      <td>dallin h oaks</td>\n      <td>“What think ye of Christ?” ( Matt. 22:42 .) Th...</td>\n    </tr>\n    <tr>\n      <th>28</th>\n      <td>neal a maxwell</td>\n      <td>In this 1993 Provo Freedom Festival fireside, ...</td>\n    </tr>\n    <tr>\n      <th>199</th>\n      <td>jeffrey r holland</td>\n      <td>As modern winds of immorality swirl luridly ar...</td>\n    </tr>\n    <tr>\n      <th>93</th>\n      <td>russell m nelson</td>\n      <td>My dear brothers and sisters, Wendy and I have...</td>\n    </tr>\n    <tr>\n      <th>234</th>\n      <td>gordon b hinckley</td>\n      <td>My dear brethren, we’ve had a wonderful meetin...</td>\n    </tr>\n    <tr>\n      <th>174</th>\n      <td>henry b eyring</td>\n      <td>I am grateful to be with you at the start of t...</td>\n    </tr>\n    <tr>\n      <th>457</th>\n      <td>dallin h oaks</td>\n      <td>In modern revelation we have the promise that ...</td>\n    </tr>\n    <tr>\n      <th>154</th>\n      <td>russell m nelson</td>\n      <td>Thank you, Elder Oaks, for your very important...</td>\n    </tr>\n  </tbody>\n</table>\n</div>"
     },
     "execution_count": 46,
     "metadata": {},
     "output_type": "execute_result"
    }
   ],
   "source": [
    "df = df.append(df_gc)\n",
    "df.to_csv('talk_corpus.csv')\n",
    "df.sample(50)"
   ],
   "metadata": {
    "collapsed": false,
    "pycharm": {
     "name": "#%%\n"
    }
   }
  }
 ],
 "metadata": {
  "kernelspec": {
   "display_name": "Python 3",
   "language": "python",
   "name": "python3"
  },
  "language_info": {
   "codemirror_mode": {
    "name": "ipython",
    "version": 2
   },
   "file_extension": ".py",
   "mimetype": "text/x-python",
   "name": "python",
   "nbconvert_exporter": "python",
   "pygments_lexer": "ipython2",
   "version": "2.7.6"
  }
 },
 "nbformat": 4,
 "nbformat_minor": 0
}