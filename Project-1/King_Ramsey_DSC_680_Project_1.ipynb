{
 "cells": [
  {
   "cell_type": "markdown",
   "metadata": {
    "collapsed": true,
    "pycharm": {
     "name": "#%% md\n"
    }
   },
   "source": [
    "# Ramsey King\n",
    "# DSC 680 - Applied Data Science\n",
    "# April 9 - 2022"
   ]
  },
  {
   "cell_type": "markdown",
   "source": [
    "###  This Jupyter file will pull the talk information down from the websites speeches.byu.edu and www.churchofjesuschrist.org/study/general-conference/speakers"
   ],
   "metadata": {
    "collapsed": false,
    "pycharm": {
     "name": "#%% md\n"
    }
   }
  },
  {
   "cell_type": "code",
   "execution_count": 1,
   "outputs": [],
   "source": [
    "# Retrieve talks by speaker on speeches.byu.edu using BeautifulSoup\n",
    "\n",
    "from bs4 import BeautifulSoup as bs\n",
    "import requests\n",
    "# import numpy as np\n",
    "import pandas as pd\n",
    "import matplotlib.pyplot as plt\n",
    "import re"
   ],
   "metadata": {
    "collapsed": false,
    "pycharm": {
     "name": "#%%\n"
    }
   }
  },
  {
   "cell_type": "code",
   "execution_count": 2,
   "outputs": [],
   "source": [
    "# Get list of urls for each of the topics\n",
    "# For my reference, number of talks by speaker:  Nelson - 22, Maxwell - 30, Holland - 27, Hinckley - 41, Monson - 14, Oaks - 35, Eyring - 25 (Total - 194)\n",
    "url = \"https://speeches.byu.edu/speakers/\"\n",
    "\n",
    "url_list = [\n",
    "    'russell-m-nelson/', 'neal-a-maxwell/', 'jeffrey-r-holland/', 'gordon-b-hinckley/', 'thomas-s-monson/',\n",
    "    'dallin-h-oaks', 'henry-b-eyring'\n",
    "]\n",
    "\n",
    "links = []\n",
    "new_links = []\n",
    "\n",
    "# some of the links are repeated with '?M=V' and '?M=A' and those will be removed so we can have a unique set of links to pull talk information from.\n",
    "\n",
    "for u in url_list:\n",
    "    response = requests.get(url+u)\n",
    "    html = response.content\n",
    "    video = '?M=V'\n",
    "    soup = bs(html, 'lxml')\n",
    "    for link in soup.findAll(\"a\", attrs={'href': re.compile(\"^https://speeches.byu.edu/talks/[\\D+]\")}):\n",
    "        links.append(link.get('href').replace(video, ''))\n",
    "\n",
    "    audio = '?M=A'\n",
    "    for link in links:\n",
    "        new_link = link.replace(audio, '')\n",
    "        new_links.append(new_link)\n",
    "    new_links = list(set(new_links))\n",
    "\n"
   ],
   "metadata": {
    "collapsed": false,
    "pycharm": {
     "name": "#%%\n"
    }
   }
  },
  {
   "cell_type": "code",
   "execution_count": 3,
   "outputs": [
    {
     "data": {
      "text/plain": "195"
     },
     "execution_count": 3,
     "metadata": {},
     "output_type": "execute_result"
    }
   ],
   "source": [
    "len(new_links)"
   ],
   "metadata": {
    "collapsed": false,
    "pycharm": {
     "name": "#%%\n"
    }
   }
  },
  {
   "cell_type": "code",
   "execution_count": 4,
   "outputs": [
    {
     "data": {
      "text/plain": "                                              titles            speaker  \\\n0                     Nailing Our Colors to the Mast  jeffrey r holland   \n1  “Mirror, Mirror, on the Wall”: A Look at the “...  jeffrey r holland   \n2               “And Be Not Faithless But Believing”  gordon b hinckley   \n3          “Cast Not Away Therefore Your Confidence”  jeffrey r holland   \n4                Be Thou an Example of the Believers    thomas s monson   \n\n                                speaker_position                date  \\\n0          President of Brigham Young University  September 10, 1985   \n1  Commissioner of the Church Educational System   February 20, 1979   \n2                                Title Not Found     January 3, 1962   \n3           of the Quorum of the Twelve Apostles       March 2, 1999   \n4                        of the First Presidency    October 15, 1991   \n\n                                               talks  \\\n0  Man-made MagicWe live in a most remarkable age...   \n1  Thank you, President Oaks, and all of you. My ...   \n2  The Lord has commanded us to “be not faithless...   \n3  There is a lesson in the Prophet Joseph Smith’...   \n4  You have been given a great trust. You have th...   \n\n                                            topics  \n0                                 Self-Improvement  \n1                               Pride,Selflessness  \n2                               Faith,Jesus Christ  \n3  Faith,Hope,Revelation,Podcast: Classic Speeches  \n4                                          Example  ",
      "text/html": "<div>\n<style scoped>\n    .dataframe tbody tr th:only-of-type {\n        vertical-align: middle;\n    }\n\n    .dataframe tbody tr th {\n        vertical-align: top;\n    }\n\n    .dataframe thead th {\n        text-align: right;\n    }\n</style>\n<table border=\"1\" class=\"dataframe\">\n  <thead>\n    <tr style=\"text-align: right;\">\n      <th></th>\n      <th>titles</th>\n      <th>speaker</th>\n      <th>speaker_position</th>\n      <th>date</th>\n      <th>talks</th>\n      <th>topics</th>\n    </tr>\n  </thead>\n  <tbody>\n    <tr>\n      <th>0</th>\n      <td>Nailing Our Colors to the Mast</td>\n      <td>jeffrey r holland</td>\n      <td>President of Brigham Young University</td>\n      <td>September 10, 1985</td>\n      <td>Man-made MagicWe live in a most remarkable age...</td>\n      <td>Self-Improvement</td>\n    </tr>\n    <tr>\n      <th>1</th>\n      <td>“Mirror, Mirror, on the Wall”: A Look at the “...</td>\n      <td>jeffrey r holland</td>\n      <td>Commissioner of the Church Educational System</td>\n      <td>February 20, 1979</td>\n      <td>Thank you, President Oaks, and all of you. My ...</td>\n      <td>Pride,Selflessness</td>\n    </tr>\n    <tr>\n      <th>2</th>\n      <td>“And Be Not Faithless But Believing”</td>\n      <td>gordon b hinckley</td>\n      <td>Title Not Found</td>\n      <td>January 3, 1962</td>\n      <td>The Lord has commanded us to “be not faithless...</td>\n      <td>Faith,Jesus Christ</td>\n    </tr>\n    <tr>\n      <th>3</th>\n      <td>“Cast Not Away Therefore Your Confidence”</td>\n      <td>jeffrey r holland</td>\n      <td>of the Quorum of the Twelve Apostles</td>\n      <td>March 2, 1999</td>\n      <td>There is a lesson in the Prophet Joseph Smith’...</td>\n      <td>Faith,Hope,Revelation,Podcast: Classic Speeches</td>\n    </tr>\n    <tr>\n      <th>4</th>\n      <td>Be Thou an Example of the Believers</td>\n      <td>thomas s monson</td>\n      <td>of the First Presidency</td>\n      <td>October 15, 1991</td>\n      <td>You have been given a great trust. You have th...</td>\n      <td>Example</td>\n    </tr>\n  </tbody>\n</table>\n</div>"
     },
     "execution_count": 4,
     "metadata": {},
     "output_type": "execute_result"
    }
   ],
   "source": [
    "# We may have one duplicate, so something to be aware when we pull the talk data.\n",
    "\n",
    "'''Retrieves talk text from each of the urls using beautiful soup.  Information such as the talk/sermon text, title, topic, date, and speaker will be retreived\n",
    "and put into a dataframe.  A csv file will also be saved due to the time it takes to run or in case we need to work offline.'''\n",
    "talk_text = []\n",
    "title_text = []\n",
    "topics = []\n",
    "dates = []\n",
    "speakers = []\n",
    "speaker_position = []\n",
    "\n",
    "for link in new_links:\n",
    "    url = link\n",
    "    response = requests.get(url)\n",
    "    html = response.content\n",
    "    soup = bs(html, 'lxml')\n",
    "    temp_list = []\n",
    "\n",
    "    link_splitter = link.split('/')\n",
    "    speakers.append(link_splitter[4].replace('-', ' '))\n",
    "\n",
    "    result = soup.find('p', class_='single-speech__speaker-subtext single-speech__speaker-position')\n",
    "    speaker_position.append(result.text if result else 'Title Not Found')\n",
    "\n",
    "    for div in soup.find_all('div', class_='single-speech__content'):\n",
    "        talk_text.append(div.get_text(strip=True))\n",
    "    for h1 in soup.find_all('h1', class_='single-speech__title'):\n",
    "        title_text.append(h1.get_text(strip=True))\n",
    "    for p in soup.find_all('p', class_='single-speech__speaker-subtext single-speech__date'):\n",
    "        dates.append(p.get_text(strip=True))\n",
    "    for p in soup.find_all('p', class_='single-speech__related-tag'):\n",
    "        temp_list.append(p.get_text(strip=True))\n",
    "        temp_str = ','.join(temp_list)\n",
    "    topics.append(temp_str)\n",
    "\n",
    "\n",
    "dict = {'titles': title_text , 'speaker': speakers, 'speaker_position': speaker_position , 'date': dates, 'talks': talk_text, 'topics': topics, }\n",
    "df = pd.DataFrame(dict)\n",
    "df.to_csv('talks.csv')\n",
    "\n",
    "df.head()"
   ],
   "metadata": {
    "collapsed": false,
    "pycharm": {
     "name": "#%%\n"
    }
   }
  },
  {
   "cell_type": "code",
   "execution_count": 20,
   "outputs": [
    {
     "name": "stdout",
     "output_type": "stream",
     "text": [
      "['/study/general-conference/2021/10/59nelson', '/study/general-conference/2021/10/47nelson', '/study/general-conference/2021/10/11nelson', '/study/general-conference/2021/04/57nelson', '/study/general-conference/2021/04/49nelson', '/study/general-conference/2021/04/36nelson', '/study/general-conference/2021/04/11nelson', '/study/general-conference/2020/10/58nelson', '/study/general-conference/2020/10/46nelson', '/study/general-conference/2020/10/37nelson', '/study/general-conference/2020/10/11nelson', '/study/general-conference/2020/04/57nelson', '/study/general-conference/2020/04/46nelson', '/study/general-conference/2020/04/45nelson', '/study/general-conference/2020/04/37nelson', '/study/general-conference/2020/04/11nelson', '/study/general-conference/2019/10/57nelson', '/study/general-conference/2019/10/46nelson', '/study/general-conference/2019/10/36nelson', '/study/general-conference/2019/10/24nelson', '/study/general-conference/2019/04/57nelson', '/study/general-conference/2019/04/46nelson', '/study/general-conference/2019/04/36nelson', '/study/general-conference/2018/10/the-correct-name-of-the-church', '/study/general-conference/2018/10/sisters-participation-in-the-gathering-of-israel', '/study/general-conference/2018/10/opening-remarks', '/study/general-conference/2018/10/becoming-exemplary-latter-day-saints', '/study/general-conference/2018/04/revelation-for-the-church-revelation-for-our-lives', '/study/general-conference/2018/04/ministering-with-the-power-and-authority-of-god', '/study/general-conference/2018/04/ministering', '/study/general-conference/2018/04/let-us-all-press-on', '/study/general-conference/2018/04/introductory-remarks', '/study/general-conference/2017/10/the-book-of-mormon-what-would-your-life-be-like-without-it', '/study/general-conference/2017/04/drawing-the-power-of-jesus-christ-into-our-lives', '/study/general-conference/2016/10/joy-and-spiritual-survival', '/study/general-conference/2016/04/the-price-of-priesthood-power', '/study/general-conference/2015/10/a-plea-to-my-sisters', '/study/general-conference/2015/04/the-sabbath-is-a-delight', '/study/general-conference/2014/10/sustaining-the-prophets', '/study/general-conference/2014/04/let-your-faith-show', '/study/general-conference/2013/10/decisions-for-eternity', '/study/general-conference/2013/04/catch-the-wave', '/study/general-conference/2012/10/ask-the-missionaries-they-can-help-you', '/study/general-conference/2012/04/thanks-be-to-god', '/study/general-conference/2011/10/covenants', '/study/general-conference/2011/04/face-the-future-with-faith', '/study/general-conference/2010/10/be-thou-an-example-of-the-believers', '/study/general-conference/2010/04/generations-linked-in-love', '/study/general-conference/2009/10/ask-seek-knock', '/study/general-conference/2009/04/lessons-from-the-lords-prayers', '/study/general-conference/2008/10/celestial-marriage', '/study/general-conference/2008/04/salvation-and-exaltation', '/study/general-conference/2007/10/scriptural-witnesses', '/study/general-conference/2007/04/repentance-and-conversion', '/study/general-conference/2006/10/the-gathering-of-scattered-israel', '/study/general-conference/2006/04/nurturing-marriage', '/study/general-conference/2005/10/jesus-christ-the-master-healer', '/study/general-conference/2005/04/now-is-the-time-to-prepare', '/study/general-conference/2004/10/senior-missionaries-and-the-gospel', '/study/general-conference/2004/04/roots-and-branches', '/study/general-conference/2003/10/personal-priesthood-responsibility', '/study/general-conference/2003/04/sweet-power-of-prayer', '/study/general-conference/2002/10/blessed-are-the-peacemakers', '/study/general-conference/2002/04/how-firm-our-foundation', '/study/general-conference/2001/10/set-in-order-thy-house', '/study/general-conference/2001/04/personal-preparation-for-temple-blessings', '/study/general-conference/2000/10/living-by-scriptural-guidance', '/study/general-conference/2000/04/the-creation', '/study/general-conference/1999/10/a-testimony-of-the-book-of-mormon', '/study/general-conference/1999/04/our-sacred-duty-to-honor-women', '/study/general-conference/1998/10/we-are-children-of-god', '/study/general-conference/1998/04/a-new-harvest-time', '/study/general-conference/1997/10/spiritual-capacity', '/study/general-conference/1997/04/endure-and-be-lifted-up', '/study/general-conference/1996/10/the-atonement', '/study/general-conference/1996/04/thou-shalt-have-no-other-gods', '/study/general-conference/1995/10/perfection-pending', '/study/general-conference/1995/04/children-of-the-covenant', '/study/general-conference/1994/10/the-spirit-of-elijah', '/study/general-conference/1994/04/teach-us-tolerance-and-love', '/study/general-conference/1993/10/constancy-amid-change', '/study/general-conference/1993/10/combatting-spiritual-drift-our-global-pandemic', '/study/general-conference/1993/04/honoring-the-priesthood', '/study/general-conference/1992/10/where-is-wisdom', '/study/general-conference/1992/04/doors-of-death', '/study/general-conference/1991/10/these-were-our-examples', '/study/general-conference/1991/04/listen-to-learn', '/study/general-conference/1990/10/choices', '/study/general-conference/1990/04/thus-shall-my-church-be-called', '/study/general-conference/1989/10/woman-of-infinite-worth', '/study/general-conference/1989/04/the-canker-of-contention', '/study/general-conference/1988/10/addiction-or-freedom', '/study/general-conference/1988/04/with-god-nothing-shall-be-impossible', '/study/general-conference/1987/10/lessons-from-eve', '/study/general-conference/1987/10/keys-of-the-priesthood', '/study/general-conference/1987/04/life-after-life', '/study/general-conference/1986/10/joy-cometh-in-the-morning', '/study/general-conference/1986/04/in-the-lords-own-way', '/study/general-conference/1985/10/self-mastery', '/study/general-conference/1985/04/reverence-for-life', '/study/general-conference/2004/04/remember-how-merciful-the-lord-hath-been', '/study/general-conference/2003/10/how-choice-a-seer', '/study/general-conference/2003/04/care-for-the-life-of-the-soul', '/study/general-conference/2002/10/encircled-in-the-arms-of-his-love', '/study/general-conference/2002/04/consecrate-thy-performance', '/study/general-conference/2001/10/the-seventh-commandment-a-shield', '/study/general-conference/2001/04/plow-in-hope', '/study/general-conference/2000/10/the-tugs-and-pulls-of-the-world', '/study/general-conference/2000/04/content-with-the-things-allotted-unto-us', '/study/general-conference/1999/10/lessons-from-laman-and-lemuel', '/study/general-conference/1999/04/repent-of-our-selfishness-d-c-56-8', '/study/general-conference/1998/10/hope-through-the-atonement-of-jesus-christ', '/study/general-conference/1998/04/put-your-shoulder-to-the-wheel', '/study/general-conference/1997/10/apply-the-atoning-blood-of-christ', '/study/general-conference/1997/04/from-whom-all-blessings-flow', '/study/general-conference/1996/10/according-to-the-desire-of-our-hearts', '/study/general-conference/1996/04/becometh-as-a-child', '/study/general-conference/1995/10/swallowed-up-in-the-will-of-the-father', '/study/general-conference/1995/04/deny-yourselves-of-all-ungodliness', '/study/general-conference/1994/10/brightness-of-hope', '/study/general-conference/1994/04/take-especial-care-of-your-family', '/study/general-conference/1993/10/from-the-beginning', '/study/general-conference/1993/04/behold-the-enemy-is-combined-d-c-38-12', '/study/general-conference/1992/10/settle-this-in-your-hearts', '/study/general-conference/1992/04/my-servant-joseph', '/study/general-conference/1991/10/repentance', '/study/general-conference/1991/04/lest-ye-be-wearied-and-faint-in-your-minds', '/study/general-conference/1990/10/put-off-the-natural-man-and-come-off-conqueror', '/study/general-conference/1990/04/endure-it-well', '/study/general-conference/1989/10/murmur-not', '/study/general-conference/1989/04/irony-the-crust-on-the-bread-of-adversity', '/study/general-conference/1988/10/answer-me', '/study/general-conference/1988/04/for-i-will-lead-you-along', '/study/general-conference/1987/10/yet-thou-art-there', '/study/general-conference/1987/04/overcome-even-as-i-also-overcame', '/study/general-conference/1986/10/god-will-yet-reveal', '/study/general-conference/1986/04/called-and-prepared-from-the-foundation-of-the-world', '/study/general-conference/1985/10/premortality-a-glorious-reality', '/study/general-conference/1985/04/willing-to-submit', '/study/general-conference/1984/10/out-of-obscurity', '/study/general-conference/1984/04/the-great-plan-of-the-eternal-god', '/study/general-conference/1983/10/joseph-the-seer', '/study/general-conference/1983/04/shine-as-lights-in-the-world', '/study/general-conference/1982/10/be-of-good-cheer', '/study/general-conference/1982/04/a-brother-offended', '/study/general-conference/1981/10/o-divine-redeemer', '/study/general-conference/1980/10/the-net-gathers-of-every-kind', '/study/general-conference/1978/04/the-women-of-god', '/study/general-conference/1976/10/notwithstanding-my-weakness', '/study/general-conference/1976/04/jesus-of-nazareth-savior-and-king', '/study/general-conference/1975/04/the-man-of-christ', '/study/general-conference/1974/10/why-not-now', '/study/general-conference/1974/04/response-to-a-call', '/study/general-conference/2021/10/12holland', '/study/general-conference/2021/04/23holland', '/study/general-conference/2020/10/57holland', '/study/general-conference/2020/04/43holland', '/study/general-conference/2019/10/11holland', '/study/general-conference/2019/04/28holland', '/study/general-conference/2018/10/the-ministry-of-reconciliation', '/study/general-conference/2018/04/be-with-and-strengthen-them', '/study/general-conference/2017/10/be-ye-therefore-perfect-eventually', '/study/general-conference/2017/04/songs-sung-and-unsung', '/study/general-conference/2016/10/emissaries-to-the-church', '/study/general-conference/2016/04/tomorrow-the-lord-will-do-wonders-among-you', '/study/general-conference/2015/10/behold-thy-mother', '/study/general-conference/2015/04/where-justice-love-and-mercy-meet', '/study/general-conference/2014/10/are-we-not-all-beggars', '/study/general-conference/2014/04/the-cost-and-blessings-of-discipleship', '/study/general-conference/2013/10/like-a-broken-vessel', '/study/general-conference/2013/04/lord-i-believe', '/study/general-conference/2012/10/the-first-great-commandment', '/study/general-conference/2012/04/the-laborers-in-the-vineyard', '/study/general-conference/2011/10/we-are-all-enlisted', '/study/general-conference/2011/04/an-ensign-to-the-nations', '/study/general-conference/2010/10/because-of-your-faith', '/study/general-conference/2010/04/place-no-more-for-the-enemy-of-my-soul', '/study/general-conference/2009/10/safety-for-the-soul', '/study/general-conference/2009/04/none-were-with-him', '/study/general-conference/2008/10/the-ministry-of-angels', '/study/general-conference/2008/04/my-words-never-cease', '/study/general-conference/2007/10/the-only-true-god-and-jesus-christ-whom-he-hath-sent', '/study/general-conference/2007/04/the-tongue-of-angels', '/study/general-conference/2006/10/prophets-in-the-land-again', '/study/general-conference/2006/04/broken-things-to-mend', '/study/general-conference/2005/10/to-young-women', '/study/general-conference/2005/04/our-most-distinguishing-feature', '/study/general-conference/2004/10/prophets-seers-and-revelators', '/study/general-conference/2004/04/abide-in-me', '/study/general-conference/2003/10/the-grandeur-of-god', '/study/general-conference/2003/04/a-prayer-for-the-children', '/study/general-conference/2002/10/called-to-serve', '/study/general-conference/2002/04/the-other-prodigal', '/study/general-conference/2001/10/like-a-watered-garden', '/study/general-conference/2001/04/witnesses-unto-me', '/study/general-conference/2000/10/sanctify-yourselves', '/study/general-conference/2000/04/as-doves-to-our-windows', '/study/general-conference/1999/10/an-high-priest-of-good-things-to-come', '/study/general-conference/1999/04/the-hands-of-the-fathers', '/study/general-conference/1998/10/personal-purity', '/study/general-conference/1998/04/a-teacher-come-from-god', '/study/general-conference/1997/10/he-hath-filled-the-hungry-with-good-things', '/study/general-conference/1997/04/because-she-is-a-mother', '/study/general-conference/1996/10/the-peaceable-things-of-the-kingdom', '/study/general-conference/1996/04/a-handful-of-meal-and-a-little-oil', '/study/general-conference/1995/10/this-do-in-remembrance-of-me', '/study/general-conference/1995/04/our-priesthood-legacy', '/study/general-conference/1994/10/miracles-of-the-restoration', '/study/general-conference/1993/10/look-to-god-and-live', '/study/general-conference/1989/10/he-loved-them-unto-the-end', '/study/general-conference/1983/04/within-the-clasp-of-your-arms', '/study/general-conference/2007/10/the-sustaining-of-church-officers', '/study/general-conference/2007/10/the-stone-cut-out-of-the-mountain', '/study/general-conference/2007/10/slow-to-anger', '/study/general-conference/2007/10/closing-remarks', '/study/general-conference/2007/04/the-things-of-which-i-know', '/study/general-conference/2007/04/let-virtue-garnish-thy-thoughts-unceasingly', '/study/general-conference/2007/04/i-am-clean', '/study/general-conference/2007/04/closing-remarks', '/study/general-conference/2007/04/a-tabernacle-in-the-wilderness', '/study/general-conference/2006/10/we-bear-testimony-to-the-world', '/study/general-conference/2006/10/the-faith-to-move-mountains', '/study/general-conference/2006/10/rise-up-o-men-of-god', '/study/general-conference/2006/10/in-the-arms-of-his-love', '/study/general-conference/2006/10/closing-remarks', '/study/general-conference/2006/04/until-again-we-meet', '/study/general-conference/2006/04/the-need-for-greater-kindness', '/study/general-conference/2006/04/seek-ye-the-kingdom-of-god', '/study/general-conference/2005/10/opening-remarks', '/study/general-conference/2005/10/if-ye-are-prepared-ye-shall-not-fear', '/study/general-conference/2005/10/forgiveness', '/study/general-conference/2005/10/benediction', '/study/general-conference/2005/04/the-great-things-which-god-has-revealed', '/study/general-conference/2005/04/opening-remarks', '/study/general-conference/2005/04/gambling', '/study/general-conference/2005/04/closing-remarks', '/study/general-conference/2004/10/the-women-in-our-lives', '/study/general-conference/2004/10/condition-of-the-church', '/study/general-conference/2004/10/closing-remarks', '/study/general-conference/2004/10/a-tragic-evil-among-us', '/study/general-conference/2004/04/the-dawning-of-a-brighter-day', '/study/general-conference/2004/04/the-church-grows-stronger', '/study/general-conference/2004/04/stay-on-the-high-road', '/study/general-conference/2004/04/i-was-an-hungred-and-ye-gave-me-meat', '/study/general-conference/2004/04/concluding-remarks', '/study/general-conference/2003/10/to-the-women-of-the-church', '/study/general-conference/2003/10/the-state-of-the-church', '/study/general-conference/2003/10/the-shepherds-of-israel', '/study/general-conference/2003/10/let-us-live-the-gospel-more-fully', '/study/general-conference/2003/10/an-ensign-to-the-nations-a-light-to-the-world', '/study/general-conference/2003/04/you-are-a-child-of-god', '/study/general-conference/2003/04/war-and-peace', '/study/general-conference/2003/04/the-condition-of-the-church', '/study/general-conference/2003/04/loyalty', '/study/general-conference/2003/04/benediction', '/study/general-conference/2002/10/to-men-of-the-priesthood', '/study/general-conference/2002/10/the-marvelous-foundation-of-our-faith', '/study/general-conference/2002/10/o-that-i-were-an-angel-and-could-have-the-wish-of-mine-heart', '/study/general-conference/2002/10/each-a-better-person', '/study/general-conference/2002/04/we-walk-by-faith', '/study/general-conference/2002/04/we-look-to-christ', '/study/general-conference/2002/04/the-church-goes-forward', '/study/general-conference/2002/04/personal-worthiness-to-exercise-the-priesthood', '/study/general-conference/2001/10/till-we-meet-again', '/study/general-conference/2001/10/the-times-in-which-we-live', '/study/general-conference/2001/10/reaching-down-to-lift-another', '/study/general-conference/2001/10/living-in-the-fulness-of-times', '/study/general-conference/2001/04/the-work-goes-on', '/study/general-conference/2001/04/the-perpetual-education-fund', '/study/general-conference/2001/04/the-miracle-of-faith', '/study/general-conference/2001/04/how-can-i-become-the-woman-of-whom-i-dream', '/study/general-conference/2001/04/good-bye-for-another-season', '/study/general-conference/2000/10/your-greatest-challenge-mother', '/study/general-conference/2000/10/this-great-millennial-year', '/study/general-conference/2000/10/great-shall-be-the-peace-of-thy-children', '/study/general-conference/2000/10/an-humble-and-a-contrite-heart', '/study/general-conference/2000/10/a-great-family-in-reverence-and-worship', '/study/general-conference/2000/04/to-all-the-world-in-testimony', '/study/general-conference/2000/04/the-stake-president', '/study/general-conference/2000/04/my-testimony', '/study/general-conference/2000/04/a-time-of-new-beginnings', '/study/general-conference/1999/10/why-we-do-some-of-the-things-we-do', '/study/general-conference/1999/10/welcome-to-conference', '/study/general-conference/1999/10/good-bye-to-this-wonderful-old-tabernacle', '/study/general-conference/1999/10/at-the-summit-of-the-ages', '/study/general-conference/1999/04/the-work-moves-forward', '/study/general-conference/1999/04/the-shepherds-of-the-flock', '/study/general-conference/1999/04/thanks-to-the-lord-for-his-blessings', '/study/general-conference/1999/04/he-is-not-here-but-is-risen', '/study/general-conference/1999/04/find-the-lambs-feed-the-sheep', '/study/general-conference/1998/10/what-are-people-asking-about-us', '/study/general-conference/1998/10/welcome-to-conference', '/study/general-conference/1998/10/walking-in-the-light-of-the-lord', '/study/general-conference/1998/10/to-the-boys-and-to-the-men', '/study/general-conference/1998/10/benediction', '/study/general-conference/1998/04/we-bear-witness-of-him', '/study/general-conference/1998/04/testimony', '/study/general-conference/1998/04/new-temples-to-provide-crowning-blessings-of-the-gospel', '/study/general-conference/1998/04/living-worthy-of-the-girl-you-will-someday-marry', '/study/general-conference/1997/10/some-thoughts-on-temples-retention-of-converts-and-missionary-service', '/study/general-conference/1997/10/look-to-the-future', '/study/general-conference/1997/10/latter-day-saints-in-very-deed', '/study/general-conference/1997/10/drawing-nearer-to-the-lord', '/study/general-conference/1997/04/true-to-the-faith', '/study/general-conference/1997/04/our-testimony-to-the-world', '/study/general-conference/1997/04/may-we-be-faithful-and-true', '/study/general-conference/1997/04/converts-and-young-men', '/study/general-conference/1996/10/women-of-the-church', '/study/general-conference/1996/10/this-thing-was-not-done-in-a-corner', '/study/general-conference/1996/10/reach-with-a-rescuing-hand', '/study/general-conference/1996/10/listen-by-the-power-of-the-spirit', '/study/general-conference/2017/04/the-power-of-the-book-of-mormon', '/study/general-conference/2017/04/kindness-charity-and-love', '/study/general-conference/2016/10/the-perfect-path-to-happiness', '/study/general-conference/2016/10/principles-and-promises', '/study/general-conference/2016/04/choices', '/study/general-conference/2016/04/a-sacred-trust', '/study/general-conference/2015/10/keep-the-commandments', '/study/general-conference/2015/10/be-an-example-and-a-light', '/study/general-conference/2015/04/the-priesthood-a-sacred-gift', '/study/general-conference/2015/04/blessings-of-the-temple', '/study/general-conference/2014/10/welcome-to-conference', '/study/general-conference/2014/10/until-we-meet-again', '/study/general-conference/2014/10/ponder-the-path-of-thy-feet', '/study/general-conference/2014/10/guided-safely-home', '/study/general-conference/2014/04/welcome-to-conference', '/study/general-conference/2014/04/until-we-meet-again', '/study/general-conference/2014/04/love-the-essence-of-the-gospel', '/study/general-conference/2014/04/be-strong-and-of-a-good-courage', '/study/general-conference/2013/10/welcome-to-conference', '/study/general-conference/2013/10/we-never-walk-alone', '/study/general-conference/2013/10/true-shepherds', '/study/general-conference/2013/10/till-we-meet-again', '/study/general-conference/2013/10/i-will-not-fail-thee-nor-forsake-thee', '/study/general-conference/2013/04/welcome-to-conference', '/study/general-conference/2013/04/until-we-meet-again', '/study/general-conference/2013/04/obedience-brings-blessings', '/study/general-conference/2013/04/come-all-ye-sons-of-god', '/study/general-conference/2012/10/welcome-to-conference', '/study/general-conference/2012/10/see-others-as-they-may-become', '/study/general-conference/2012/10/god-be-with-you-till-we-meet-again', '/study/general-conference/2012/10/consider-the-blessings', '/study/general-conference/2012/04/willing-and-worthy-to-serve', '/study/general-conference/2012/04/the-race-of-life', '/study/general-conference/2012/04/believe-obey-and-endure', '/study/general-conference/2012/04/as-we-gather-once-again', '/study/general-conference/2012/04/as-we-close-this-conference', '/study/general-conference/2011/10/until-we-meet-again', '/study/general-conference/2011/10/stand-in-holy-places', '/study/general-conference/2011/10/dare-to-stand-alone', '/study/general-conference/2011/10/as-we-meet-again', '/study/general-conference/2011/04/the-holy-temple-a-beacon-to-the-world', '/study/general-conference/2011/04/priesthood-power', '/study/general-conference/2011/04/its-conference-once-again', '/study/general-conference/2011/04/at-parting', '/study/general-conference/2010/10/till-we-meet-again', '/study/general-conference/2010/10/the-three-rs-of-choice', '/study/general-conference/2010/10/the-divine-gift-of-gratitude', '/study/general-conference/2010/10/charity-never-faileth', '/study/general-conference/2010/10/as-we-meet-together-again', '/study/general-conference/2010/04/welcome-to-conference', '/study/general-conference/2010/04/preparation-brings-blessings', '/study/general-conference/2010/04/he-is-risen', '/study/general-conference/2010/04/a-word-at-closing', '/study/general-conference/2009/10/what-have-i-done-for-someone-today', '/study/general-conference/2009/10/welcome-to-conference', '/study/general-conference/2009/10/school-thy-feelings-o-my-brother', '/study/general-conference/2009/10/closing-remarks', '/study/general-conference/2009/04/welcome-to-conference', '/study/general-conference/2009/04/until-we-meet-again', '/study/general-conference/2009/04/may-you-have-courage', '/study/general-conference/2009/04/be-your-best-self', '/study/general-conference/2009/04/be-of-good-cheer', '/study/general-conference/2008/10/welcome-to-conference', '/study/general-conference/2008/10/until-we-meet-again', '/study/general-conference/2008/10/to-learn-to-do-to-be', '/study/general-conference/2008/10/finding-joy-in-the-journey', '/study/general-conference/2008/04/looking-back-and-moving-forward', '/study/general-conference/2008/04/examples-of-righteousness', '/study/general-conference/2008/04/abundantly-blessed', '/study/general-conference/2007/10/three-goals-to-guide-you', '/study/general-conference/2007/10/mrs-patton-the-story-continues', '/study/general-conference/2007/10/a-royal-priesthood', '/study/general-conference/2007/04/the-sustaining-of-church-officers', '/study/general-conference/2007/04/the-priesthood-a-sacred-gift', '/study/general-conference/2007/04/tabernacle-memories', '/study/general-conference/2007/04/i-know-that-my-redeemer-lives', '/study/general-conference/2006/10/true-to-our-priesthood-trust', '/study/general-conference/2006/10/the-sustaining-of-church-officers', '/study/general-conference/2006/10/how-firm-a-foundation', '/study/general-conference/2006/04/true-to-the-faith', '/study/general-conference/2006/04/the-sustaining-of-church-officers', '/study/general-conference/2006/04/our-sacred-priesthood-trust', '/study/general-conference/2005/10/the-sustaining-of-church-officers', '/study/general-conference/2005/10/the-prophet-joseph-smith-teacher-by-example', '/study/general-conference/2005/10/do-your-duty-that-is-best', '/study/general-conference/2005/04/the-sustaining-of-church-officers', '/study/general-conference/2005/04/the-sacred-call-of-service', '/study/general-conference/2005/04/constant-truths-for-changing-times', '/study/general-conference/2005/04/be-thou-an-example', '/study/general-conference/2004/10/the-sustaining-of-church-officers', '/study/general-conference/2004/10/if-ye-are-prepared-ye-shall-not-fear', '/study/general-conference/2004/10/choose-you-this-day', '/study/general-conference/2004/10/anxiously-engaged', '/study/general-conference/2004/04/your-personal-influence', '/study/general-conference/2004/04/the-sustaining-of-church-officers', '/study/general-conference/2004/04/the-call-for-courage', '/study/general-conference/2003/10/the-bridge-builder', '/study/general-conference/2003/10/bring-him-home', '/study/general-conference/2003/04/stand-in-your-appointed-place', '/study/general-conference/2003/04/in-search-of-treasure', '/study/general-conference/2021/10/18oaks', '/study/general-conference/2021/04/51oaks', '/study/general-conference/2021/04/35oaks', '/study/general-conference/2021/04/21oaks', '/study/general-conference/2020/10/36oaks', '/study/general-conference/2020/10/17oaks', '/study/general-conference/2020/04/51oaks', '/study/general-conference/2020/04/36oaks', '/study/general-conference/2020/04/21oaks', '/study/general-conference/2019/10/35oaks', '/study/general-conference/2019/10/17oaks', '/study/general-conference/2019/04/51oaks', '/study/general-conference/2019/04/35oaks', '/study/general-conference/2019/04/21oaks', '/study/general-conference/2018/10/truth-and-the-plan', '/study/general-conference/2018/10/parents-and-children', '/study/general-conference/2018/04/the-sustaining-of-church-officers', '/study/general-conference/2018/04/the-powers-of-the-priesthood', '/study/general-conference/2018/04/small-and-simple-things', '/study/general-conference/2017/10/the-plan-and-the-proclamation', '/study/general-conference/2017/04/the-godhead-and-the-plan-of-salvation', '/study/general-conference/2016/10/sharing-the-restored-gospel', '/study/general-conference/2016/04/opposition-in-all-things', '/study/general-conference/2015/10/strengthened-by-the-atonement-of-jesus-christ', '/study/general-conference/2015/04/the-parable-of-the-sower', '/study/general-conference/2014/10/loving-others-and-living-with-differences', '/study/general-conference/2014/04/the-keys-and-authority-of-the-priesthood', '/study/general-conference/2013/10/no-other-gods', '/study/general-conference/2013/04/followers-of-christ', '/study/general-conference/2012/10/protect-the-children', '/study/general-conference/2012/04/sacrifice', '/study/general-conference/2011/10/teachings-of-jesus', '/study/general-conference/2011/04/desire', '/study/general-conference/2010/10/two-lines-of-communication', '/study/general-conference/2010/04/healing-the-sick', '/study/general-conference/2009/10/love-and-law', '/study/general-conference/2009/04/unselfish-service', '/study/general-conference/2008/10/sacrament-meeting-and-the-sacrament', '/study/general-conference/2008/04/testimony', '/study/general-conference/2007/10/good-better-best', '/study/general-conference/2007/04/divorce', '/study/general-conference/2006/10/he-heals-the-heavy-laden', '/study/general-conference/2006/04/all-men-everywhere', '/study/general-conference/2005/10/priesthood-authority-in-the-family-and-the-church', '/study/general-conference/2005/04/pornography', '/study/general-conference/2004/10/be-not-deceived', '/study/general-conference/2004/04/preparation-for-the-second-coming', '/study/general-conference/2003/10/repentance-and-change', '/study/general-conference/2003/04/give-thanks-in-all-things', '/study/general-conference/2002/10/i-ll-go-where-you-want-me-to-go', '/study/general-conference/2002/04/the-gospel-in-our-lives', '/study/general-conference/2001/10/sharing-the-gospel', '/study/general-conference/2001/04/focus-and-priorities', '/study/general-conference/2000/10/the-challenge-to-become', '/study/general-conference/2000/04/resurrection', '/study/general-conference/1999/10/gospel-teaching', '/study/general-conference/1999/04/the-witness-martin-harris', '/study/general-conference/1998/10/the-aaronic-priesthood-and-the-sacrament', '/study/general-conference/1998/04/have-you-been-saved', '/study/general-conference/1997/10/following-the-pioneers', '/study/general-conference/1997/04/bishop-help', '/study/general-conference/1996/10/always-have-his-spirit', '/study/general-conference/1996/04/joseph-the-man-and-the-prophet', '/study/general-conference/1995/10/powerful-ideas', '/study/general-conference/1995/04/apostasy-and-restoration', '/study/general-conference/1994/10/worship-through-music', '/study/general-conference/1994/04/tithing', '/study/general-conference/1994/04/faith-in-the-lord-jesus-christ', '/study/general-conference/1993/10/the-great-plan-of-happiness', '/study/general-conference/1993/04/the-language-of-prayer', '/study/general-conference/1992/10/bible-stories-and-personal-protection', '/study/general-conference/1992/04/the-relief-society-and-the-church', '/study/general-conference/1991/10/joy-and-mercy', '/study/general-conference/1991/04/honour-thy-father-and-thy-mother', '/study/general-conference/1990/10/witnesses-of-christ', '/study/general-conference/1990/04/world-peace', '/study/general-conference/1989/10/modern-pioneers', '/study/general-conference/1989/04/alternate-voices', '/study/general-conference/1988/10/what-think-ye-of-christ', '/study/general-conference/1988/04/always-remember-him', '/study/general-conference/1987/10/the-light-and-life-of-the-world', '/study/general-conference/1987/04/priesthood-blessings', '/study/general-conference/1986/10/brothers-keeper', '/study/general-conference/1986/04/reverent-and-clean', '/study/general-conference/1985/10/spirituality', '/study/general-conference/1985/04/taking-upon-us-the-name-of-jesus-christ', '/study/general-conference/1984/10/why-do-we-serve', '/study/general-conference/1971/10/strive-for-excellence', '/study/general-conference/2021/10/38eyring', '/study/general-conference/2021/10/21eyring', '/study/general-conference/2021/04/34eyring', '/study/general-conference/2021/04/17eyring', '/study/general-conference/2020/10/51eyring', '/study/general-conference/2020/10/35eyring', '/study/general-conference/2020/10/21eyring', '/study/general-conference/2020/04/35eyring', '/study/general-conference/2020/04/17eyring', '/study/general-conference/2019/10/51eyring', '/study/general-conference/2019/10/34eyring', '/study/general-conference/2019/10/21eyring', '/study/general-conference/2019/04/34eyring', '/study/general-conference/2019/04/16eyring', '/study/general-conference/2018/10/women-and-gospel-learning-in-the-home', '/study/general-conference/2018/10/try-try-try', '/study/general-conference/2018/10/the-sustaining-of-church-officers', '/study/general-conference/2018/04/solemn-assembly', '/study/general-conference/2018/04/inspired-ministering', '/study/general-conference/2018/04/his-spirit-to-be-with-you', '/study/general-conference/2017/10/the-sustaining-of-church-officers', '/study/general-conference/2017/10/the-lord-leads-his-church', '/study/general-conference/2017/10/fear-not-to-do-good', '/study/general-conference/2017/04/walk-with-me', '/study/general-conference/2017/04/my-peace-i-leave-with-you', '/study/general-conference/2017/04/gathering-the-family-of-god', '/study/general-conference/2016/10/the-sustaining-of-church-officers', '/study/general-conference/2016/10/that-he-may-become-strong-also', '/study/general-conference/2016/10/gratitude-on-the-sabbath-day', '/study/general-conference/2016/04/where-two-or-three-are-gathered', '/study/general-conference/2016/04/trust-in-that-spirit-which-leadeth-to-do-good', '/study/general-conference/2016/04/eternal-families', '/study/general-conference/2015/10/you-are-not-alone-in-the-work', '/study/general-conference/2015/10/the-sustaining-of-church-officers', '/study/general-conference/2015/10/the-holy-ghost-as-your-companion', '/study/general-conference/2015/04/the-comforter', '/study/general-conference/2015/04/priesthood-and-personal-prayer', '/study/general-conference/2015/04/is-not-this-the-fast-that-i-have-chosen', '/study/general-conference/2014/10/the-sustaining-of-church-officers', '/study/general-conference/2014/10/the-preparatory-priesthood', '/study/general-conference/2014/10/continuing-revelation', '/study/general-conference/2014/04/the-priesthood-man', '/study/general-conference/2014/04/daughters-in-the-covenant', '/study/general-conference/2014/04/a-priceless-heritage-of-hope', '/study/general-conference/2013/10/to-my-grandchildren', '/study/general-conference/2013/10/the-sustaining-of-church-officers', '/study/general-conference/2013/10/bind-up-their-wounds', '/study/general-conference/2013/04/we-are-one', '/study/general-conference/2013/04/come-unto-me', '/study/general-conference/2012/10/where-is-the-pavilion', '/study/general-conference/2012/10/the-sustaining-of-church-officers', '/study/general-conference/2012/10/the-caregiver', '/study/general-conference/2012/10/help-them-aim-high', '/study/general-conference/2012/04/mountains-to-climb', '/study/general-conference/2012/04/families-under-covenant', '/study/general-conference/2011/10/the-sustaining-of-church-officers', '/study/general-conference/2011/10/preparation-in-the-priesthood-i-need-your-help', '/study/general-conference/2011/10/a-witness', '/study/general-conference/2011/04/opportunities-to-do-good', '/study/general-conference/2011/04/learning-in-the-priesthood', '/study/general-conference/2011/04/a-living-testimony', '/study/general-conference/2010/10/trust-in-god-then-go-and-do', '/study/general-conference/2010/10/the-sustaining-of-church-officers', '/study/general-conference/2010/10/serve-with-the-spirit', '/study/general-conference/2010/04/help-them-on-their-way-home', '/study/general-conference/2010/04/act-in-all-diligence', '/study/general-conference/2009/10/the-sustaining-of-church-officers', '/study/general-conference/2009/10/the-enduring-legacy-of-relief-society', '/study/general-conference/2009/10/our-perfect-example', '/study/general-conference/2009/10/be-ready', '/study/general-conference/2009/04/man-down', '/study/general-conference/2009/04/adversity', '/study/general-conference/2008/10/the-sustaining-of-church-officers', '/study/general-conference/2008/10/our-hearts-knit-as-one', '/study/general-conference/2008/10/o-ye-that-embark', '/study/general-conference/2008/04/walk-in-the-light', '/study/general-conference/2008/04/the-true-and-living-church', '/study/general-conference/2008/04/faith-and-the-oath-and-covenant-of-the-priesthood', '/study/general-conference/2007/10/o-remember-remember', '/study/general-conference/2007/10/god-helps-the-faithful-priesthood-holder', '/study/general-conference/2007/04/this-day', '/study/general-conference/2006/10/a-priesthood-quorum', '/study/general-conference/2006/04/as-a-child', '/study/general-conference/2005/10/spiritual-preparedness-start-early-and-be-steady', '/study/general-conference/2005/04/hearts-bound-together', '/study/general-conference/2004/10/faith-and-keys', '/study/general-conference/2004/04/in-the-strength-of-the-lord', '/study/general-conference/2003/10/an-enduring-testimony-of-the-mission-of-the-prophet-joseph', '/study/general-conference/2003/04/a-child-and-a-disciple', '/study/general-conference/2002/10/rise-to-your-call', '/study/general-conference/2002/04/true-friends', '/study/general-conference/2001/10/prayer', '/study/general-conference/2001/04/watch-with-me', '/study/general-conference/2000/10/write-upon-my-heart', '/study/general-conference/2000/04/watch-over-and-strengthen', '/study/general-conference/1999/10/do-not-delay', '/study/general-conference/1999/04/the-power-of-teaching-doctrine', '/study/general-conference/1998/10/a-voice-of-warning', '/study/general-conference/1998/04/that-we-may-be-one', '/study/general-conference/1997/10/feed-my-lambs']\n"
     ]
    }
   ],
   "source": [
    "# Now to pull information from the church general conference website.\n",
    "\n",
    "# Get list of urls for each of the topics\n",
    "# For my reference, number of talks by speaker:  Nelson - , Maxwell - , Holland - , Hinckley - , Monson - , Oaks - , Eyring -  (Total - )\n",
    "gc_url = \"https://www.churchofjesuschrist.org/study/general-conference/speakers/\"\n",
    "\n",
    "gc_url_list = [\n",
    "    'russell-m-nelson/', 'neal-a-maxwell/', 'jeffrey-r-holland/', 'gordon-b-hinckley/', 'thomas-s-monson/',\n",
    "    'dallin-h-oaks', 'henry-b-eyring'\n",
    "]\n",
    "\n",
    "links = []\n",
    "# new_links = []\n",
    "\n",
    "for u in gc_url_list:\n",
    "    response = requests.get(gc_url+u)\n",
    "    html = response.content\n",
    "    soup = bs(html, 'lxml')\n",
    "    for link in soup.findAll(\"a\", attrs={'href': re.compile(\"^/study/general-conference/\\w+/(?:\\w+/)(?:\\w+)\")}):\n",
    "        links.append(link.get('href'))\n",
    "\n",
    "    '''audio = '?M=A'\n",
    "    for link in links:\n",
    "        new_link = link.replace(audio, '')\n",
    "        new_links.append(new_link)\n",
    "    new_links = list(set(new_links))'''\n",
    "print(links)"
   ],
   "metadata": {
    "collapsed": false,
    "pycharm": {
     "name": "#%%\n"
    }
   }
  }
 ],
 "metadata": {
  "kernelspec": {
   "display_name": "Python 3",
   "language": "python",
   "name": "python3"
  },
  "language_info": {
   "codemirror_mode": {
    "name": "ipython",
    "version": 2
   },
   "file_extension": ".py",
   "mimetype": "text/x-python",
   "name": "python",
   "nbconvert_exporter": "python",
   "pygments_lexer": "ipython2",
   "version": "2.7.6"
  }
 },
 "nbformat": 4,
 "nbformat_minor": 0
}