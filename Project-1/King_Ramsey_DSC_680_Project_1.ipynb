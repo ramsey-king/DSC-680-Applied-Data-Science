{
 "cells": [
  {
   "cell_type": "markdown",
   "metadata": {
    "collapsed": true,
    "pycharm": {
     "name": "#%% md\n"
    }
   },
   "source": [
    "# Ramsey King\n",
    "# DSC 680 - Applied Data Science\n",
    "# April 9 - 2022"
   ]
  },
  {
   "cell_type": "markdown",
   "source": [
    "###  This Jupyter file will pull the talk information down from the websites speeches.byu.edu and www.churchofjesuschrist.org/study/general-conference/speakers"
   ],
   "metadata": {
    "collapsed": false,
    "pycharm": {
     "name": "#%% md\n"
    }
   }
  },
  {
   "cell_type": "code",
   "execution_count": 1,
   "outputs": [],
   "source": [
    "# Retrieve talks by speaker on speeches.byu.edu using BeautifulSoup\n",
    "\n",
    "from bs4 import BeautifulSoup as bs\n",
    "import requests\n",
    "# import numpy as np\n",
    "import pandas as pd\n",
    "import matplotlib.pyplot as plt\n",
    "import re"
   ],
   "metadata": {
    "collapsed": false,
    "pycharm": {
     "name": "#%%\n"
    }
   }
  },
  {
   "cell_type": "code",
   "execution_count": 6,
   "outputs": [],
   "source": [
    "# Get list of urls for each of the topics\n",
    "# For my reference, number of talks by speaker:  Nelson - 22, Maxwell - 30, Holland - 27, Hinckley - 41, Monson - 14, Oaks - 35, Eyring - 25 (Total - 194)\n",
    "url = \"https://speeches.byu.edu/speakers/\"\n",
    "\n",
    "url_list = [\n",
    "    'russell-m-nelson/', 'neal-a-maxwell/', 'jeffrey-r-holland/', 'gordon-b-hinckley/', 'thomas-s-monson/',\n",
    "    'dallin-h-oaks', 'henry-b-eyring'\n",
    "]\n",
    "\n",
    "links = []\n",
    "new_links = []\n",
    "\n",
    "# some of the links are repeated with '?M=V' and '?M=A' and those will be removed so we can have a unique set of links to pull talk information from.\n",
    "\n",
    "for u in url_list:\n",
    "    response = requests.get(url+u)\n",
    "    html = response.content\n",
    "    video = '?M=V'\n",
    "    soup = bs(html, 'lxml')\n",
    "    for link in soup.findAll(\"a\", attrs={'href': re.compile(\"^https://speeches.byu.edu/talks/[\\D+]\")}):\n",
    "        links.append(link.get('href').replace(video, ''))\n",
    "\n",
    "    audio = '?M=A'\n",
    "    for link in links:\n",
    "        new_link = link.replace(audio, '')\n",
    "        new_links.append(new_link)\n",
    "    new_links = list(set(new_links))\n",
    "\n"
   ],
   "metadata": {
    "collapsed": false,
    "pycharm": {
     "name": "#%%\n"
    }
   }
  },
  {
   "cell_type": "code",
   "execution_count": 11,
   "outputs": [
    {
     "data": {
      "text/plain": "195"
     },
     "execution_count": 11,
     "metadata": {},
     "output_type": "execute_result"
    }
   ],
   "source": [
    "len(new_links)"
   ],
   "metadata": {
    "collapsed": false,
    "pycharm": {
     "name": "#%%\n"
    }
   }
  },
  {
   "cell_type": "code",
   "execution_count": 12,
   "outputs": [
    {
     "data": {
      "text/plain": "                                 titles  \\\n0                  On the Lord’s Errand   \n1   At Their Most Enlightened and Alert   \n2  Some Things We Have Learned—Together   \n3         Sharing Insights from My Life   \n4        Good Judgment and Common Sense   \n\n                                             speaker  \\\n0                                  jeffrey r holland   \n1                                  jeffrey r holland   \n2  jeffrey r and patricia t holland_things learne...   \n3                                     neal a maxwell   \n4                                     henry b eyring   \n\n                                 speaker_position               date  \\\n0           president of Brigham Young University     March 27, 1985   \n1           President of Brigham Young University  September 6, 1988   \n2  President of Brigham Young University and Wife   January 15, 1985   \n3            of the Quorum of the Twelve Apostles   January 12, 1999   \n4   Commissioner of the Church Educational System    August 16, 1985   \n\n                                               talks  \\\n0  My remarks this morning will be a little diffe...   \n1  Welcome back to school. As Sister Holland has ...   \n2  Jeff:Each time we have given an address to thi...   \n3  It is a special time for you as students in te...   \n4  To succeed in life, we need the kind of good j...   \n\n                                              topics  \n0                                                BYU  \n1                                   Government,Honor  \n2  Love,Marriage,Collection: Love and Marriage,Po...  \n3                              Life,Spiritual Growth  \n4                                      Learning,Life  ",
      "text/html": "<div>\n<style scoped>\n    .dataframe tbody tr th:only-of-type {\n        vertical-align: middle;\n    }\n\n    .dataframe tbody tr th {\n        vertical-align: top;\n    }\n\n    .dataframe thead th {\n        text-align: right;\n    }\n</style>\n<table border=\"1\" class=\"dataframe\">\n  <thead>\n    <tr style=\"text-align: right;\">\n      <th></th>\n      <th>titles</th>\n      <th>speaker</th>\n      <th>speaker_position</th>\n      <th>date</th>\n      <th>talks</th>\n      <th>topics</th>\n    </tr>\n  </thead>\n  <tbody>\n    <tr>\n      <th>0</th>\n      <td>On the Lord’s Errand</td>\n      <td>jeffrey r holland</td>\n      <td>president of Brigham Young University</td>\n      <td>March 27, 1985</td>\n      <td>My remarks this morning will be a little diffe...</td>\n      <td>BYU</td>\n    </tr>\n    <tr>\n      <th>1</th>\n      <td>At Their Most Enlightened and Alert</td>\n      <td>jeffrey r holland</td>\n      <td>President of Brigham Young University</td>\n      <td>September 6, 1988</td>\n      <td>Welcome back to school. As Sister Holland has ...</td>\n      <td>Government,Honor</td>\n    </tr>\n    <tr>\n      <th>2</th>\n      <td>Some Things We Have Learned—Together</td>\n      <td>jeffrey r and patricia t holland_things learne...</td>\n      <td>President of Brigham Young University and Wife</td>\n      <td>January 15, 1985</td>\n      <td>Jeff:Each time we have given an address to thi...</td>\n      <td>Love,Marriage,Collection: Love and Marriage,Po...</td>\n    </tr>\n    <tr>\n      <th>3</th>\n      <td>Sharing Insights from My Life</td>\n      <td>neal a maxwell</td>\n      <td>of the Quorum of the Twelve Apostles</td>\n      <td>January 12, 1999</td>\n      <td>It is a special time for you as students in te...</td>\n      <td>Life,Spiritual Growth</td>\n    </tr>\n    <tr>\n      <th>4</th>\n      <td>Good Judgment and Common Sense</td>\n      <td>henry b eyring</td>\n      <td>Commissioner of the Church Educational System</td>\n      <td>August 16, 1985</td>\n      <td>To succeed in life, we need the kind of good j...</td>\n      <td>Learning,Life</td>\n    </tr>\n  </tbody>\n</table>\n</div>"
     },
     "execution_count": 12,
     "metadata": {},
     "output_type": "execute_result"
    }
   ],
   "source": [
    "# We may have one duplicate, so something to be aware when we pull the talk data.\n",
    "\n",
    "'''Retrieves talk text from each of the urls using beautiful soup.  Information such as the talk/sermon text, title, topic, date, and speaker will be retreived\n",
    "and put into a dataframe.  A csv file will also be saved due to the time it takes to run or in case we need to work offline.'''\n",
    "talk_text = []\n",
    "title_text = []\n",
    "topics = []\n",
    "dates = []\n",
    "speakers = []\n",
    "speaker_position = []\n",
    "\n",
    "for link in new_links:\n",
    "    url = link\n",
    "    response = requests.get(url)\n",
    "    html = response.content\n",
    "    soup = bs(html, 'lxml')\n",
    "    temp_list = []\n",
    "\n",
    "    link_splitter = link.split('/')\n",
    "    speakers.append(link_splitter[4].replace('-', ' '))\n",
    "\n",
    "    result = soup.find('p', class_='single-speech__speaker-subtext single-speech__speaker-position')\n",
    "    speaker_position.append(result.text if result else 'Title Not Found')\n",
    "\n",
    "    for div in soup.find_all('div', class_='single-speech__content'):\n",
    "        talk_text.append(div.get_text(strip=True))\n",
    "    for h1 in soup.find_all('h1', class_='single-speech__title'):\n",
    "        title_text.append(h1.get_text(strip=True))\n",
    "    for p in soup.find_all('p', class_='single-speech__speaker-subtext single-speech__date'):\n",
    "        dates.append(p.get_text(strip=True))\n",
    "    for p in soup.find_all('p', class_='single-speech__related-tag'):\n",
    "        temp_list.append(p.get_text(strip=True))\n",
    "        temp_str = ','.join(temp_list)\n",
    "    topics.append(temp_str)\n",
    "\n",
    "\n",
    "dict = {'titles': title_text , 'speaker': speakers, 'speaker_position': speaker_position , 'date': dates, 'talks': talk_text, 'topics': topics, }\n",
    "df = pd.DataFrame(dict)\n",
    "df.to_csv('talks.csv')\n",
    "\n",
    "df.head()"
   ],
   "metadata": {
    "collapsed": false,
    "pycharm": {
     "name": "#%%\n"
    }
   }
  }
 ],
 "metadata": {
  "kernelspec": {
   "display_name": "Python 3",
   "language": "python",
   "name": "python3"
  },
  "language_info": {
   "codemirror_mode": {
    "name": "ipython",
    "version": 2
   },
   "file_extension": ".py",
   "mimetype": "text/x-python",
   "name": "python",
   "nbconvert_exporter": "python",
   "pygments_lexer": "ipython2",
   "version": "2.7.6"
  }
 },
 "nbformat": 4,
 "nbformat_minor": 0
}