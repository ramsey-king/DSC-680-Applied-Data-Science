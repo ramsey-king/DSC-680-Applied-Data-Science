{
 "cells": [
  {
   "cell_type": "markdown",
   "metadata": {
    "collapsed": true,
    "pycharm": {
     "name": "#%% md\n"
    }
   },
   "source": [
    "# Ramsey King\n",
    "# DSC 680 - Applied Data Science\n",
    "# April 9 - 2022"
   ]
  },
  {
   "cell_type": "markdown",
   "source": [
    "###  This Jupyter file will perform the analysis for the author classification project."
   ],
   "metadata": {
    "collapsed": false,
    "pycharm": {
     "name": "#%% md\n"
    }
   }
  },
  {
   "cell_type": "code",
   "execution_count": 20,
   "outputs": [
    {
     "data": {
      "text/plain": "     Unnamed: 0            speaker  \\\n153         153  gordon b hinckley   \n740         545     henry b eyring   \n328         133     neal a maxwell   \n715         520     henry b eyring   \n618         423      dallin h oaks   \n237          42   russell m nelson   \n653         458      dallin h oaks   \n465         270  gordon b hinckley   \n507         312    thomas s monson   \n476         281  gordon b hinckley   \n562         367    thomas s monson   \n49           49  gordon b hinckley   \n789         594     henry b eyring   \n233          38   russell m nelson   \n286          91   russell m nelson   \n658         463      dallin h oaks   \n749         554     henry b eyring   \n678         483      dallin h oaks   \n774         579     henry b eyring   \n451         256  gordon b hinckley   \n776         581     henry b eyring   \n100         100     neal a maxwell   \n57           57  jeffrey r holland   \n599         404    thomas s monson   \n672         477      dallin h oaks   \n547         352    thomas s monson   \n602         407    thomas s monson   \n397         202  jeffrey r holland   \n544         349    thomas s monson   \n67           67  gordon b hinckley   \n\n                                                 talks  \n153  It is a great opportunity and a great privileg...  \n740  All of us are blessed with responsibility for ...  \n328  What John and Paul wrote about God’s creations...  \n715  My dear brethren who hold the priesthood of Go...  \n618  The restored gospel of Jesus Christ encourages...  \n237  My beloved brothers, sisters, and friends, we ...  \n653  I bring you greetings from the Philippines Are...  \n465  Thank you for that beautiful hymn. Thank you f...  \n507  My dear brethren, I am honored by the privileg...  \n476  My beloved brethren, I commend you, wherever y...  \n562  My heart is full as we come to the close of th...  \n49   It is good to be here with you this morning, m...  \n789  All of us have faced deadlines. Fear can grip ...  \n233  President Eyring, we thank you for your instru...  \n286  I am impressed to speak out on a problem of de...  \n658  As we approach the conclusion of this wonderfu...  \n749  It is proposed that we sustain Thomas Spencer ...  \n678  One of the greatest of all God’s revelations i...  \n774  There is a danger in the word someday when wha...  \n451  My dear brothers and sisters, I seek the inspi...  \n776  The prophets of God have foreseen the times in...  \n100  I have been delighted, brothers and sisters, a...  \n57   I am delighted to be with you the day after Va...  \n599  My dear brothers and sisters, both within my v...  \n672  When the risen Lord appeared to the faithful o...  \n547  I prayed and studied long about what I might s...  \n602  Many years ago I read a book entitled The Way ...  \n397  There are some lines attributed to Victor Hugo...  \n544  My beloved brethren, it is a tremendous privil...  \n67   My beloved friends, what a delightful experien...  ",
      "text/html": "<div>\n<style scoped>\n    .dataframe tbody tr th:only-of-type {\n        vertical-align: middle;\n    }\n\n    .dataframe tbody tr th {\n        vertical-align: top;\n    }\n\n    .dataframe thead th {\n        text-align: right;\n    }\n</style>\n<table border=\"1\" class=\"dataframe\">\n  <thead>\n    <tr style=\"text-align: right;\">\n      <th></th>\n      <th>Unnamed: 0</th>\n      <th>speaker</th>\n      <th>talks</th>\n    </tr>\n  </thead>\n  <tbody>\n    <tr>\n      <th>153</th>\n      <td>153</td>\n      <td>gordon b hinckley</td>\n      <td>It is a great opportunity and a great privileg...</td>\n    </tr>\n    <tr>\n      <th>740</th>\n      <td>545</td>\n      <td>henry b eyring</td>\n      <td>All of us are blessed with responsibility for ...</td>\n    </tr>\n    <tr>\n      <th>328</th>\n      <td>133</td>\n      <td>neal a maxwell</td>\n      <td>What John and Paul wrote about God’s creations...</td>\n    </tr>\n    <tr>\n      <th>715</th>\n      <td>520</td>\n      <td>henry b eyring</td>\n      <td>My dear brethren who hold the priesthood of Go...</td>\n    </tr>\n    <tr>\n      <th>618</th>\n      <td>423</td>\n      <td>dallin h oaks</td>\n      <td>The restored gospel of Jesus Christ encourages...</td>\n    </tr>\n    <tr>\n      <th>237</th>\n      <td>42</td>\n      <td>russell m nelson</td>\n      <td>My beloved brothers, sisters, and friends, we ...</td>\n    </tr>\n    <tr>\n      <th>653</th>\n      <td>458</td>\n      <td>dallin h oaks</td>\n      <td>I bring you greetings from the Philippines Are...</td>\n    </tr>\n    <tr>\n      <th>465</th>\n      <td>270</td>\n      <td>gordon b hinckley</td>\n      <td>Thank you for that beautiful hymn. Thank you f...</td>\n    </tr>\n    <tr>\n      <th>507</th>\n      <td>312</td>\n      <td>thomas s monson</td>\n      <td>My dear brethren, I am honored by the privileg...</td>\n    </tr>\n    <tr>\n      <th>476</th>\n      <td>281</td>\n      <td>gordon b hinckley</td>\n      <td>My beloved brethren, I commend you, wherever y...</td>\n    </tr>\n    <tr>\n      <th>562</th>\n      <td>367</td>\n      <td>thomas s monson</td>\n      <td>My heart is full as we come to the close of th...</td>\n    </tr>\n    <tr>\n      <th>49</th>\n      <td>49</td>\n      <td>gordon b hinckley</td>\n      <td>It is good to be here with you this morning, m...</td>\n    </tr>\n    <tr>\n      <th>789</th>\n      <td>594</td>\n      <td>henry b eyring</td>\n      <td>All of us have faced deadlines. Fear can grip ...</td>\n    </tr>\n    <tr>\n      <th>233</th>\n      <td>38</td>\n      <td>russell m nelson</td>\n      <td>President Eyring, we thank you for your instru...</td>\n    </tr>\n    <tr>\n      <th>286</th>\n      <td>91</td>\n      <td>russell m nelson</td>\n      <td>I am impressed to speak out on a problem of de...</td>\n    </tr>\n    <tr>\n      <th>658</th>\n      <td>463</td>\n      <td>dallin h oaks</td>\n      <td>As we approach the conclusion of this wonderfu...</td>\n    </tr>\n    <tr>\n      <th>749</th>\n      <td>554</td>\n      <td>henry b eyring</td>\n      <td>It is proposed that we sustain Thomas Spencer ...</td>\n    </tr>\n    <tr>\n      <th>678</th>\n      <td>483</td>\n      <td>dallin h oaks</td>\n      <td>One of the greatest of all God’s revelations i...</td>\n    </tr>\n    <tr>\n      <th>774</th>\n      <td>579</td>\n      <td>henry b eyring</td>\n      <td>There is a danger in the word someday when wha...</td>\n    </tr>\n    <tr>\n      <th>451</th>\n      <td>256</td>\n      <td>gordon b hinckley</td>\n      <td>My dear brothers and sisters, I seek the inspi...</td>\n    </tr>\n    <tr>\n      <th>776</th>\n      <td>581</td>\n      <td>henry b eyring</td>\n      <td>The prophets of God have foreseen the times in...</td>\n    </tr>\n    <tr>\n      <th>100</th>\n      <td>100</td>\n      <td>neal a maxwell</td>\n      <td>I have been delighted, brothers and sisters, a...</td>\n    </tr>\n    <tr>\n      <th>57</th>\n      <td>57</td>\n      <td>jeffrey r holland</td>\n      <td>I am delighted to be with you the day after Va...</td>\n    </tr>\n    <tr>\n      <th>599</th>\n      <td>404</td>\n      <td>thomas s monson</td>\n      <td>My dear brothers and sisters, both within my v...</td>\n    </tr>\n    <tr>\n      <th>672</th>\n      <td>477</td>\n      <td>dallin h oaks</td>\n      <td>When the risen Lord appeared to the faithful o...</td>\n    </tr>\n    <tr>\n      <th>547</th>\n      <td>352</td>\n      <td>thomas s monson</td>\n      <td>I prayed and studied long about what I might s...</td>\n    </tr>\n    <tr>\n      <th>602</th>\n      <td>407</td>\n      <td>thomas s monson</td>\n      <td>Many years ago I read a book entitled The Way ...</td>\n    </tr>\n    <tr>\n      <th>397</th>\n      <td>202</td>\n      <td>jeffrey r holland</td>\n      <td>There are some lines attributed to Victor Hugo...</td>\n    </tr>\n    <tr>\n      <th>544</th>\n      <td>349</td>\n      <td>thomas s monson</td>\n      <td>My beloved brethren, it is a tremendous privil...</td>\n    </tr>\n    <tr>\n      <th>67</th>\n      <td>67</td>\n      <td>gordon b hinckley</td>\n      <td>My beloved friends, what a delightful experien...</td>\n    </tr>\n  </tbody>\n</table>\n</div>"
     },
     "execution_count": 20,
     "metadata": {},
     "output_type": "execute_result"
    }
   ],
   "source": [
    "# Load the author and speech text dataset, and necessary libraries to use.\n",
    "\n",
    "import pandas as pd\n",
    "import re\n",
    "import string\n",
    "from nltk.corpus import stopwords\n",
    "from nltk.stem import WordNetLemmatizer\n",
    "from sklearn.preprocessing import LabelEncoder\n",
    "from sklearn.feature_extraction.text import CountVectorizer\n",
    "from sklearn.model_selection import train_test_split\n",
    "from sklearn.naive_bayes import MultinomialNB\n",
    "from PIL import Image\n",
    "from wordcloud import WordCloud\n",
    "import matplotlib.pyplot as plt\n",
    "\n",
    "\n",
    "df = pd.read_csv('talk_corpus.csv')\n",
    "df.sample(30)"
   ],
   "metadata": {
    "collapsed": false,
    "pycharm": {
     "name": "#%%\n"
    }
   }
  },
  {
   "cell_type": "code",
   "execution_count": 21,
   "outputs": [
    {
     "data": {
      "text/plain": "(794, 3)"
     },
     "execution_count": 21,
     "metadata": {},
     "output_type": "execute_result"
    }
   ],
   "source": [
    "# some data prep and cleaning is in order before getting to the analysis.\n",
    "\n",
    "df.shape"
   ],
   "metadata": {
    "collapsed": false,
    "pycharm": {
     "name": "#%%\n"
    }
   }
  },
  {
   "cell_type": "code",
   "execution_count": 22,
   "outputs": [
    {
     "data": {
      "text/plain": "(757, 3)"
     },
     "execution_count": 22,
     "metadata": {},
     "output_type": "execute_result"
    }
   ],
   "source": [
    "# removes talks that do not contain any speech information\n",
    "df = df[df['talks'].str.contains('for this speech is unavailable')==False]\n",
    "df.shape\n"
   ],
   "metadata": {
    "collapsed": false,
    "pycharm": {
     "name": "#%%\n"
    }
   }
  },
  {
   "cell_type": "code",
   "execution_count": 23,
   "outputs": [
    {
     "data": {
      "text/plain": "gordon b hinckley    127\nhenry b eyring       123\nrussell m nelson     120\ndallin h oaks        117\nthomas s monson      109\njeffrey r holland     85\nneal a maxwell        76\nName: speaker, dtype: int64"
     },
     "execution_count": 23,
     "metadata": {},
     "output_type": "execute_result"
    }
   ],
   "source": [
    "# In running the above code, realized that there is a speaker entitled \"jeffery r and patricia t holland...\" that needs to be\n",
    "# assigned to jeffery r holland\n",
    "df['speaker'] = df['speaker'].replace({'jeffrey r and patricia t holland_things learned together': 'jeffrey r holland'})\n",
    "df['speaker'].value_counts()\n"
   ],
   "metadata": {
    "collapsed": false,
    "pycharm": {
     "name": "#%%\n"
    }
   }
  },
  {
   "cell_type": "code",
   "execution_count": 24,
   "outputs": [],
   "source": [
    "# text processing can begin now.  Punctuation removal, lemmatisation, stop word removal will all take place here.\n",
    "\n",
    "# Lowercase text\n",
    "df['talks'] = df['talks'].apply(lambda x: x.lower())"
   ],
   "metadata": {
    "collapsed": false,
    "pycharm": {
     "name": "#%%\n"
    }
   }
  },
  {
   "cell_type": "code",
   "execution_count": 25,
   "outputs": [
    {
     "name": "stderr",
     "output_type": "stream",
     "text": [
      "C:\\Users\\ramse\\AppData\\Local\\Temp/ipykernel_11788/1531123599.py:2: FutureWarning: The default value of regex will change from True to False in a future version.\n",
      "  df['talks'] = df['talks'].str.replace(r'[^\\w\\s]+', '')\n"
     ]
    },
    {
     "data": {
      "text/plain": "     Unnamed: 0            speaker  \\\n154         154    thomas s monson   \n166         166   russell m nelson   \n622         427      dallin h oaks   \n110         110  gordon b hinckley   \n265          70   russell m nelson   \n639         444      dallin h oaks   \n294          99   russell m nelson   \n14           14     henry b eyring   \n632         437      dallin h oaks   \n555         360    thomas s monson   \n287          92   russell m nelson   \n307         112     neal a maxwell   \n83           83     neal a maxwell   \n226          31   russell m nelson   \n385         190  jeffrey r holland   \n\n                                                 talks  \n154  you are a glorious group even a chosen generat...  \n166  the title of my message tonight is reflection ...  \n622  we note that the statistical report which has ...  \n110  my beloved friends its a very genuine pleasure...  \n265  recently i observed young men who attracted at...  \n639  our heavenly father has given his children two...  \n294  unitedly we thank the almighty for the wondrou...  \n14   finding our way backi want to talk with you ab...  \n632  i at this conference we have seen the release ...  \n555  how good it is my beloved brothers and sisters...  \n287  i echo the testimony of our beloved associate ...  \n307  brethren during my aaronic priesthood years i ...  \n83   i wish to talk about your unfinished journey i...  \n226  thank you brother holmes for your important me...  \n385  at the close of his first day teaching among t...  ",
      "text/html": "<div>\n<style scoped>\n    .dataframe tbody tr th:only-of-type {\n        vertical-align: middle;\n    }\n\n    .dataframe tbody tr th {\n        vertical-align: top;\n    }\n\n    .dataframe thead th {\n        text-align: right;\n    }\n</style>\n<table border=\"1\" class=\"dataframe\">\n  <thead>\n    <tr style=\"text-align: right;\">\n      <th></th>\n      <th>Unnamed: 0</th>\n      <th>speaker</th>\n      <th>talks</th>\n    </tr>\n  </thead>\n  <tbody>\n    <tr>\n      <th>154</th>\n      <td>154</td>\n      <td>thomas s monson</td>\n      <td>you are a glorious group even a chosen generat...</td>\n    </tr>\n    <tr>\n      <th>166</th>\n      <td>166</td>\n      <td>russell m nelson</td>\n      <td>the title of my message tonight is reflection ...</td>\n    </tr>\n    <tr>\n      <th>622</th>\n      <td>427</td>\n      <td>dallin h oaks</td>\n      <td>we note that the statistical report which has ...</td>\n    </tr>\n    <tr>\n      <th>110</th>\n      <td>110</td>\n      <td>gordon b hinckley</td>\n      <td>my beloved friends its a very genuine pleasure...</td>\n    </tr>\n    <tr>\n      <th>265</th>\n      <td>70</td>\n      <td>russell m nelson</td>\n      <td>recently i observed young men who attracted at...</td>\n    </tr>\n    <tr>\n      <th>639</th>\n      <td>444</td>\n      <td>dallin h oaks</td>\n      <td>our heavenly father has given his children two...</td>\n    </tr>\n    <tr>\n      <th>294</th>\n      <td>99</td>\n      <td>russell m nelson</td>\n      <td>unitedly we thank the almighty for the wondrou...</td>\n    </tr>\n    <tr>\n      <th>14</th>\n      <td>14</td>\n      <td>henry b eyring</td>\n      <td>finding our way backi want to talk with you ab...</td>\n    </tr>\n    <tr>\n      <th>632</th>\n      <td>437</td>\n      <td>dallin h oaks</td>\n      <td>i at this conference we have seen the release ...</td>\n    </tr>\n    <tr>\n      <th>555</th>\n      <td>360</td>\n      <td>thomas s monson</td>\n      <td>how good it is my beloved brothers and sisters...</td>\n    </tr>\n    <tr>\n      <th>287</th>\n      <td>92</td>\n      <td>russell m nelson</td>\n      <td>i echo the testimony of our beloved associate ...</td>\n    </tr>\n    <tr>\n      <th>307</th>\n      <td>112</td>\n      <td>neal a maxwell</td>\n      <td>brethren during my aaronic priesthood years i ...</td>\n    </tr>\n    <tr>\n      <th>83</th>\n      <td>83</td>\n      <td>neal a maxwell</td>\n      <td>i wish to talk about your unfinished journey i...</td>\n    </tr>\n    <tr>\n      <th>226</th>\n      <td>31</td>\n      <td>russell m nelson</td>\n      <td>thank you brother holmes for your important me...</td>\n    </tr>\n    <tr>\n      <th>385</th>\n      <td>190</td>\n      <td>jeffrey r holland</td>\n      <td>at the close of his first day teaching among t...</td>\n    </tr>\n  </tbody>\n</table>\n</div>"
     },
     "execution_count": 25,
     "metadata": {},
     "output_type": "execute_result"
    }
   ],
   "source": [
    "# punctuation removal\n",
    "df['talks'] = df['talks'].str.replace(r'[^\\w\\s]+', '')\n",
    "df.sample(15)"
   ],
   "metadata": {
    "collapsed": false,
    "pycharm": {
     "name": "#%%\n"
    }
   }
  },
  {
   "cell_type": "code",
   "execution_count": 26,
   "outputs": [],
   "source": [
    "# tokenization of the speeches into sentences.\n",
    "import nltk\n",
    "# nltk.download('punkt')\n",
    "from nltk.tokenize import sent_tokenize\n",
    "\n",
    "df['sentence_tokenize'] = df['talks'].apply(lambda x: sent_tokenize(x))"
   ],
   "metadata": {
    "collapsed": false,
    "pycharm": {
     "name": "#%%\n"
    }
   }
  },
  {
   "cell_type": "code",
   "execution_count": 27,
   "outputs": [],
   "source": [
    "# tokenization of the speeches into words\n",
    "from nltk.tokenize import word_tokenize\n",
    "df['word_tokenize'] = df['talks'].apply(lambda x: word_tokenize(x))"
   ],
   "metadata": {
    "collapsed": false,
    "pycharm": {
     "name": "#%%\n"
    }
   }
  },
  {
   "cell_type": "code",
   "execution_count": 28,
   "outputs": [
    {
     "name": "stdout",
     "output_type": "stream",
     "text": [
      "colleen appreci invit presid lee tonight yet invent better word express wellworn wordsthank youalthough juxtapos adverb henc major purpos tonight simpli grate say thank much done yet accomplish purpos brigham young univers special universitysinc speak faculti tomorrow afternoon matter appropri occas remark somewhat differ especi includ appreci serv import staff function special guest retire staff less herald word book mormon like helaman certainli less servic caus see alma 4819in contrast valu nurtur byu shouldnt surpris mani countertrend toward deperson today world global societi last day prophesi love mani shall wax cold matthew 2412 furthermor peac shall taken earth dc 135 even war within well nation accompani gener escal violenc confront also see prophesi despair cometh iniqu live age iniqu shall abound moroni 1022 matthew 2412 regrett soberingli foretel one brother sister see secular rescu column horizonther mani less dramat express forego trend gener societi abandon person bureaucrat easi know peopl mere function isol brought function mani simpli pull back assign cubicl thing reluct ventur forth unrequir servic oblig limit job descript rather expand reflex second great command even entitl suggest exclusionshowev deperson trend need character brigham young univers ye byu larg commun ye mistak made direct imperson big automat mean impersonalthink moment circumst student still experi frame refer remain human size instanc student ward deliber kept small student relationship room dorm still person importantli contact mani staff oneonon likewis mentor faculti person student part larg campu commun imperson pattern world need prevailin human situat whether larg small us either lubric irrit isnt much indiffer irrit neutral seen muffl hostilitynow integr part byu preciou special asset may presum encourag briefli preserv marriag famili order serv individu longer peoplefatigu overtak us especi conscienti wisein deal pressur life mani long sinc develop way handl stress peoplefatigu rejuven marriag becom tire nurtur shall mere provid confirm encourag pace probabl work thing reason well align sever scriptur followfurthermor us differ strength face differ circumst call calibr highli individu mani thing life act upon us control zoneof differ size usin act rather mere act upon see 2 nephi 226 zone includ certain amount dispos time dispos incom within zone especi us determinebas scriptur guid us see thing done wisdom order requisit man run faster strength mosiah 427 revel given prophet joseph smith time must exceedingli anxiou finish import translat book mormon run faster labor strength mean provid enabl translat dilig unto end dc 104thu lord given us might call wisdom order strength mean testsw unwis often write check time account never would dare compar bank account sometim make mani commit becom like vine allegori jacob threaten overcom root includ root famili relationship friendship relationship god pruningshear suggest followon offic wall quot ann morrow lindbergh life implement action demand peopl heart respond need remind year ago alreadi weari foolishli went late one afternoon give bless three individu two differ hospit die cancer worn wors last person realli didnt get much thing done wisdom order run faster suppli strength energi occas exceed strength bless would better given two three day would empathi energi somehow give unhurri time greater gift even minut hour technic hurriedanoth scriptureand said untoth twelv come ye apart desert place rest mani come go leisur much eatand depart desert place ship privatelymark 63132jesu clearli recogn weari discipl brought conscienti renew retreat difficult arrang inform brief retreat still fashion provid greenbelt time busy even minut longillustr one brethren made report presid brigham young anxiou leav impos presid young said pleas sit spell weari men thing often sit spell spous children colleagu friend know origin twelv counsel serv tabl act 614 actual serv tabl lot easier visibl measur doablecompar open nation world keep wolv flock twelv drawn away scriptur constitut duti whole church would suffer drawn away happen us howev almost without know itth wisdom order test also recogn season life certain extra outsid civic chore appropriatewhil profession respons formal call come go alway season howev follow jesu command manner men women ought ye verili say unto even 3 nephi 2727let tri watch marthalik anxieti genderless anxieti also depriv us special experi cumber much servingconscienti automat guarante choos good part taken away us luke 103842in relax discuss sever faculti partner last week clear preciou remembr concern good part taken us wherea mani oncepress anxieti long sinc forgottenbrigham young period pressur could fill marthalik anxieti instead made marylik choicesin experi never let opportun pass get prophet joseph hear speak public privat might draw understand fountain spoke might bring forth need day prophet joseph moment preciou wealth world matter great povertyif borrow meal feed wife children never let opportun pass learn prophet joseph impartbrigham youngjourn discourses1226970th yield brigham chosen good part listen taken ushusband wive pleas one gospel convers least weekjust two sit spell even though may last 10 15 minut grow intellectu excit gospel much help counter fatigu renew us joy quiet person christian serviceoutsid realm formal church dutieswhen perplex puzzl time let us ponder nephi exampl know god loveth children nevertheless know mean thing 1 nephi 1117 legrand richard said worri lord church let worri us spiritu pois yet lord know bear thing dc 5040 grace suffici us life season humbl see ether 1227mani daili choic intrins hard make way choic matter prefer principl way time exhaust suppli goodwil struggl preferencesnot principlesconsid spiritu pois jesu exemplar thing jesu accomplish never hectic involv marvel realiz much mortal messiahship crowd three busi year empathi other even amid agoni gethseman cross restor sever ear made certain mother mari would care apostl john reassur suffer thief tomorrow selfpiti constrain us sever none jesusjesu individu could seem other repeat experi even midst univers jesu great true shepherd helaman 1513 care oneand night follow lord stood said good cheer paul thou hast testifi jerusalem must thou bear wit also romeact 2311he especi disclos believ solitari woman samariath woman saith unto know messia cometh call christ come tell us thingsjesu saith unto speak unto thee hejohn 42526will individu sinc pois edg anoth academ year would quit human us say resignedli go glad heavenli father doesnt feel even though cours one etern round plan salvat execut reexecut realm beyond purview love constant person glad jesu view heal mere one duti duti delightg k chesterton conclud god never grown tire make daisi alik god never grown tire daisi must grow tire studentsor otherpleas keep spiritu otherwis intact order continu part special univers keep spiritu intact great valu especi thing seem somewhat bleak imagin instanc wrench feel jesu follow must arrest gethseman worst still like follow see die cross sure would bleakest hour christian historyalso bleak would time prophet joseph imprison liberti jail follow driven state missouri appear finish even lord told end earth shall inquir thi name dc 1221 stun declarationjohn taylor said one falter bleaknessw driven missouri know men thought work end rememb remark made sidney rigdoni suppos live religioni think didhi knee began shake missouri one occas said brethren everi one take way work seem though hascom endjohn taylorjourn discourses1125then came bleaker carthag look though work joseph finish elder georg smith gave counsel heedsom men hour dark may feeli heard men feel sothat work done enemi saint becom power bring vast wealth energi bear go crush pretti soon say brethren bad polici think old ship zion go sink jump overboardgeorg smithjourn discourses17199200thos littl faith frequent mistak local cloud cover gener darknessth motto world campu true univers rejoic way men women famili give muchsometim spartan circumst former member faculti partner among six coupl work mongolia provid humanitarian servicelikewis mission presid india bangalor mission wife part byu famili serv among peopl number nearli one billion approach onefourth human familyour mission presid moscow gari brown serv among russian peopl love long fashion love midst sever physic problem would stop lesser man simpli went servingi think spencer shirley palmer teach amid spartan circumst univers beij china easi year retir follow brother sister paul hyer enter upon servic sever monthssuch individu remind good decent member byu famili good go becom much better wide wingspan alreadi becom much wider grate associ member special familyagain thank may god bless pray name jesu christ amen intellectu reserv inc right reserv 757\n"
     ]
    }
   ],
   "source": [
    "import nltk\n",
    "# nltk.download('stopwords')\n",
    "from nltk.corpus import stopwords\n",
    "from nltk.stem.porter import PorterStemmer\n",
    "stemmer = PorterStemmer()\n",
    "data = []\n",
    "\n",
    "for i in range(df.shape[0]):\n",
    "    text = df.iloc[i,4]\n",
    "    talk_processed_list = []\n",
    "    for word in text:\n",
    "        if word not in set(stopwords.words('english')):\n",
    "            talk_processed_list.append(stemmer.stem(word))\n",
    "    proc_talk = \" \".join(talk_processed_list)\n",
    "    data.append(proc_talk)\n",
    "\n",
    "print(data[1], len(data))"
   ],
   "metadata": {
    "collapsed": false,
    "pycharm": {
     "name": "#%%\n"
    }
   }
  },
  {
   "cell_type": "code",
   "execution_count": 19,
   "outputs": [],
   "source": [
    "# pos\n",
    "import nltk\n",
    "# nltk.download('averaged_perceptron_tagger')\n",
    "\n",
    "df['word_pos'] = df['word_tokenize'].apply(lambda x: nltk.pos_tag(x))"
   ],
   "metadata": {
    "collapsed": false,
    "pycharm": {
     "name": "#%%\n"
    }
   }
  },
  {
   "cell_type": "code",
   "execution_count": 29,
   "outputs": [
    {
     "name": "stdout",
     "output_type": "stream",
     "text": [
      "(757, 1000) 2         henry b eyring\n",
      "4         neal a maxwell\n",
      "7      gordon b hinckley\n",
      "8      gordon b hinckley\n",
      "10         dallin h oaks\n",
      "             ...        \n",
      "789       henry b eyring\n",
      "790       henry b eyring\n",
      "791       henry b eyring\n",
      "792       henry b eyring\n",
      "793       henry b eyring\n",
      "Name: speaker, Length: 757, dtype: object\n"
     ]
    }
   ],
   "source": [
    "# adapted from CharlesRajendran TextClassification github\n",
    "\n",
    "# creating the feature matrix\n",
    "from sklearn.feature_extraction.text import CountVectorizer\n",
    "matrix = CountVectorizer(max_features=1000)\n",
    "X = matrix.fit_transform(data).toarray()\n",
    "y = df.iloc[:, 1]\n",
    "print(X.shape, y)"
   ],
   "metadata": {
    "collapsed": false,
    "pycharm": {
     "name": "#%%\n"
    }
   }
  },
  {
   "cell_type": "code",
   "execution_count": 30,
   "outputs": [],
   "source": [
    "# split train and test data\n",
    "from sklearn.model_selection import train_test_split\n",
    "X_train, X_test, y_train, y_test = train_test_split(X,y, random_state=7)"
   ],
   "metadata": {
    "collapsed": false,
    "pycharm": {
     "name": "#%%\n"
    }
   }
  },
  {
   "cell_type": "code",
   "execution_count": 31,
   "outputs": [
    {
     "data": {
      "text/plain": "GaussianNB()"
     },
     "execution_count": 31,
     "metadata": {},
     "output_type": "execute_result"
    }
   ],
   "source": [
    "# Naive Bayes\n",
    "from sklearn.naive_bayes import GaussianNB\n",
    "classifier = GaussianNB()\n",
    "classifier.fit(X_train, y_train)"
   ],
   "metadata": {
    "collapsed": false,
    "pycharm": {
     "name": "#%%\n"
    }
   }
  },
  {
   "cell_type": "code",
   "execution_count": 32,
   "outputs": [],
   "source": [
    "# predict class\n",
    "\n",
    "y_pred = classifier.predict(X_test)"
   ],
   "metadata": {
    "collapsed": false,
    "pycharm": {
     "name": "#%%\n"
    }
   }
  },
  {
   "cell_type": "code",
   "execution_count": 33,
   "outputs": [
    {
     "name": "stdout",
     "output_type": "stream",
     "text": [
      "[[23  2  1  3  0  3  1]\n",
      " [ 0 18  0  4  0  0  3]\n",
      " [ 2  1 24  1  0  1  7]\n",
      " [ 2  1  0 13  0  1  4]\n",
      " [ 1  0  1  0 23  2  0]\n",
      " [ 4  1  1  1  1 14  1]\n",
      " [ 0  5  1  0  0  2 17]]\n",
      "\n",
      "                   precision    recall  f1-score   support\n",
      "\n",
      "    dallin h oaks       0.72      0.70      0.71        33\n",
      "gordon b hinckley       0.64      0.72      0.68        25\n",
      "   henry b eyring       0.86      0.67      0.75        36\n",
      "jeffrey r holland       0.59      0.62      0.60        21\n",
      "   neal a maxwell       0.96      0.85      0.90        27\n",
      " russell m nelson       0.61      0.61      0.61        23\n",
      "  thomas s monson       0.52      0.68      0.59        25\n",
      "\n",
      "         accuracy                           0.69       190\n",
      "        macro avg       0.70      0.69      0.69       190\n",
      "     weighted avg       0.71      0.69      0.70       190\n",
      "\n",
      "\n",
      "0.6947368421052632\n"
     ]
    }
   ],
   "source": [
    "# Confusion matrix, classification report, accuracy\n",
    "from sklearn.metrics import confusion_matrix, classification_report, accuracy_score\n",
    "cm = confusion_matrix(y_test, y_pred)\n",
    "cr = classification_report(y_test, y_pred)\n",
    "accuracy = accuracy_score(y_test, y_pred)\n",
    "\n",
    "print(cm)\n",
    "print()\n",
    "print(cr)\n",
    "print()\n",
    "print(accuracy)"
   ],
   "metadata": {
    "collapsed": false,
    "pycharm": {
     "name": "#%%\n"
    }
   }
  },
  {
   "cell_type": "code",
   "execution_count": 34,
   "outputs": [
    {
     "name": "stdout",
     "output_type": "stream",
     "text": [
      "[[28  0  1  0  0  4  0]\n",
      " [ 0 25  0  0  0  0  0]\n",
      " [ 1  0 33  0  0  1  1]\n",
      " [ 0  0  0 19  0  0  2]\n",
      " [ 0  0  0  1 26  0  0]\n",
      " [ 3  0  0  0  0 20  0]\n",
      " [ 0  0  2  1  0  3 19]]\n",
      "\n",
      "                   precision    recall  f1-score   support\n",
      "\n",
      "    dallin h oaks       0.88      0.85      0.86        33\n",
      "gordon b hinckley       1.00      1.00      1.00        25\n",
      "   henry b eyring       0.92      0.92      0.92        36\n",
      "jeffrey r holland       0.90      0.90      0.90        21\n",
      "   neal a maxwell       1.00      0.96      0.98        27\n",
      " russell m nelson       0.71      0.87      0.78        23\n",
      "  thomas s monson       0.86      0.76      0.81        25\n",
      "\n",
      "         accuracy                           0.89       190\n",
      "        macro avg       0.90      0.89      0.89       190\n",
      "     weighted avg       0.90      0.89      0.90       190\n",
      "\n",
      "\n",
      "0.8947368421052632\n"
     ]
    }
   ],
   "source": [
    "from sklearn import svm\n",
    "svm_classifier = svm.SVC(kernel='linear')\n",
    "svm_classifier.fit(X_train, y_train)\n",
    "y_pred = svm_classifier.predict(X_test)\n",
    "\n",
    "cm = confusion_matrix(y_test, y_pred)\n",
    "cr = classification_report(y_test, y_pred)\n",
    "accuracy = accuracy_score(y_test, y_pred)\n",
    "\n",
    "print(cm)\n",
    "print()\n",
    "print(cr)\n",
    "print()\n",
    "print(accuracy)"
   ],
   "metadata": {
    "collapsed": false,
    "pycharm": {
     "name": "#%%\n"
    }
   }
  },
  {
   "cell_type": "code",
   "execution_count": 35,
   "outputs": [
    {
     "name": "stdout",
     "output_type": "stream",
     "text": [
      "[[ 0 33  0  0  0  0  0]\n",
      " [ 0 25  0  0  0  0  0]\n",
      " [ 0 36  0  0  0  0  0]\n",
      " [ 0 21  0  0  0  0  0]\n",
      " [ 0 27  0  0  0  0  0]\n",
      " [ 0 23  0  0  0  0  0]\n",
      " [ 0 25  0  0  0  0  0]]\n",
      "\n",
      "                   precision    recall  f1-score   support\n",
      "\n",
      "    dallin h oaks       0.00      0.00      0.00        33\n",
      "gordon b hinckley       0.13      1.00      0.23        25\n",
      "   henry b eyring       0.00      0.00      0.00        36\n",
      "jeffrey r holland       0.00      0.00      0.00        21\n",
      "   neal a maxwell       0.00      0.00      0.00        27\n",
      " russell m nelson       0.00      0.00      0.00        23\n",
      "  thomas s monson       0.00      0.00      0.00        25\n",
      "\n",
      "         accuracy                           0.13       190\n",
      "        macro avg       0.02      0.14      0.03       190\n",
      "     weighted avg       0.02      0.13      0.03       190\n",
      "\n",
      "\n",
      "0.13157894736842105\n"
     ]
    },
    {
     "name": "stderr",
     "output_type": "stream",
     "text": [
      "C:\\Users\\ramse\\anaconda3\\lib\\site-packages\\sklearn\\metrics\\_classification.py:1248: UndefinedMetricWarning: Precision and F-score are ill-defined and being set to 0.0 in labels with no predicted samples. Use `zero_division` parameter to control this behavior.\n",
      "  _warn_prf(average, modifier, msg_start, len(result))\n",
      "C:\\Users\\ramse\\anaconda3\\lib\\site-packages\\sklearn\\metrics\\_classification.py:1248: UndefinedMetricWarning: Precision and F-score are ill-defined and being set to 0.0 in labels with no predicted samples. Use `zero_division` parameter to control this behavior.\n",
      "  _warn_prf(average, modifier, msg_start, len(result))\n",
      "C:\\Users\\ramse\\anaconda3\\lib\\site-packages\\sklearn\\metrics\\_classification.py:1248: UndefinedMetricWarning: Precision and F-score are ill-defined and being set to 0.0 in labels with no predicted samples. Use `zero_division` parameter to control this behavior.\n",
      "  _warn_prf(average, modifier, msg_start, len(result))\n"
     ]
    }
   ],
   "source": [
    "from sklearn import svm\n",
    "svm_classifier = svm.SVC(kernel='rbf', gamma=1, C=1)\n",
    "svm_classifier.fit(X_train, y_train)\n",
    "y_pred = svm_classifier.predict(X_test)\n",
    "\n",
    "cm = confusion_matrix(y_test, y_pred)\n",
    "cr = classification_report(y_test, y_pred)\n",
    "accuracy = accuracy_score(y_test, y_pred)\n",
    "\n",
    "print(cm)\n",
    "print()\n",
    "print(cr)\n",
    "print()\n",
    "print(accuracy)"
   ],
   "metadata": {
    "collapsed": false,
    "pycharm": {
     "name": "#%%\n"
    }
   }
  }
 ],
 "metadata": {
  "kernelspec": {
   "display_name": "Python 3",
   "language": "python",
   "name": "python3"
  },
  "language_info": {
   "codemirror_mode": {
    "name": "ipython",
    "version": 2
   },
   "file_extension": ".py",
   "mimetype": "text/x-python",
   "name": "python",
   "nbconvert_exporter": "python",
   "pygments_lexer": "ipython2",
   "version": "2.7.6"
  }
 },
 "nbformat": 4,
 "nbformat_minor": 0
}